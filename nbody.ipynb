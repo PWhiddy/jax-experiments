{
 "cells": [
  {
   "cell_type": "markdown",
   "metadata": {
    "colab_type": "text",
    "id": "view-in-github"
   },
   "source": [
    "<a href=\"https://colab.research.google.com/github/PWhiddy/jax-experiments/blob/main/nbody.ipynb\" target=\"_parent\"><img src=\"https://colab.research.google.com/assets/colab-badge.svg\" alt=\"Open In Colab\"/></a>"
   ]
  },
  {
   "cell_type": "code",
   "execution_count": 1,
   "metadata": {
    "colab": {
     "base_uri": "https://localhost:8080/"
    },
    "id": "JOh_oIhpli08",
    "outputId": "28a45aa2-790b-451b-966f-07579659b9fa"
   },
   "outputs": [
    {
     "name": "stdout",
     "output_type": "stream",
     "text": [
      "Requirement already satisfied: notebook-video-writer in /Users/peterwhidden/anaconda3/envs/pt/lib/python3.9/site-packages (0.0.5)\n",
      "Requirement already satisfied: tensor-canvas in /Users/peterwhidden/anaconda3/envs/pt/lib/python3.9/site-packages (0.1.7)\n",
      "Requirement already satisfied: numpy in /Users/peterwhidden/anaconda3/envs/pt/lib/python3.9/site-packages (from notebook-video-writer) (1.19.5)\n",
      "Requirement already satisfied: moviepy in /Users/peterwhidden/anaconda3/envs/pt/lib/python3.9/site-packages (from notebook-video-writer) (1.0.3)\n",
      "Requirement already satisfied: torch in /Users/peterwhidden/anaconda3/envs/pt/lib/python3.9/site-packages (from tensor-canvas) (1.8.1)\n",
      "Requirement already satisfied: eagerpy in /Users/peterwhidden/anaconda3/envs/pt/lib/python3.9/site-packages (from tensor-canvas) (0.30.0)\n",
      "Requirement already satisfied: numpy in /Users/peterwhidden/anaconda3/envs/pt/lib/python3.9/site-packages (from notebook-video-writer) (1.19.5)\n",
      "Requirement already satisfied: typing-extensions>=3.7.4.1 in /Users/peterwhidden/anaconda3/envs/pt/lib/python3.9/site-packages (from eagerpy->tensor-canvas) (3.7.4.3)\n",
      "Requirement already satisfied: proglog<=1.0.0 in /Users/peterwhidden/anaconda3/envs/pt/lib/python3.9/site-packages (from moviepy->notebook-video-writer) (0.1.9)\n",
      "Requirement already satisfied: numpy in /Users/peterwhidden/anaconda3/envs/pt/lib/python3.9/site-packages (from notebook-video-writer) (1.19.5)\n",
      "Requirement already satisfied: imageio<3.0,>=2.5 in /Users/peterwhidden/anaconda3/envs/pt/lib/python3.9/site-packages (from moviepy->notebook-video-writer) (2.9.0)\n",
      "Requirement already satisfied: decorator<5.0,>=4.0.2 in /Users/peterwhidden/anaconda3/envs/pt/lib/python3.9/site-packages (from moviepy->notebook-video-writer) (4.4.2)\n",
      "Requirement already satisfied: numpy in /Users/peterwhidden/anaconda3/envs/pt/lib/python3.9/site-packages (from notebook-video-writer) (1.19.5)\n",
      "Requirement already satisfied: imageio-ffmpeg>=0.2.0 in /Users/peterwhidden/anaconda3/envs/pt/lib/python3.9/site-packages (from moviepy->notebook-video-writer) (0.4.5)\n",
      "Requirement already satisfied: requests<3.0,>=2.8.1 in /Users/peterwhidden/anaconda3/envs/pt/lib/python3.9/site-packages (from moviepy->notebook-video-writer) (2.25.1)\n",
      "Requirement already satisfied: tqdm<5.0,>=4.11.2 in /Users/peterwhidden/anaconda3/envs/pt/lib/python3.9/site-packages (from moviepy->notebook-video-writer) (4.56.0)\n",
      "Requirement already satisfied: numpy in /Users/peterwhidden/anaconda3/envs/pt/lib/python3.9/site-packages (from notebook-video-writer) (1.19.5)\n",
      "Requirement already satisfied: pillow in /Users/peterwhidden/anaconda3/envs/pt/lib/python3.9/site-packages (from imageio<3.0,>=2.5->moviepy->notebook-video-writer) (8.1.0)\n",
      "Requirement already satisfied: tqdm<5.0,>=4.11.2 in /Users/peterwhidden/anaconda3/envs/pt/lib/python3.9/site-packages (from moviepy->notebook-video-writer) (4.56.0)\n",
      "Requirement already satisfied: idna<3,>=2.5 in /Users/peterwhidden/anaconda3/envs/pt/lib/python3.9/site-packages (from requests<3.0,>=2.8.1->moviepy->notebook-video-writer) (2.10)\n",
      "Requirement already satisfied: certifi>=2017.4.17 in /Users/peterwhidden/anaconda3/envs/pt/lib/python3.9/site-packages (from requests<3.0,>=2.8.1->moviepy->notebook-video-writer) (2020.12.5)\n",
      "Requirement already satisfied: urllib3<1.27,>=1.21.1 in /Users/peterwhidden/anaconda3/envs/pt/lib/python3.9/site-packages (from requests<3.0,>=2.8.1->moviepy->notebook-video-writer) (1.26.4)\n",
      "Requirement already satisfied: chardet<5,>=3.0.2 in /Users/peterwhidden/anaconda3/envs/pt/lib/python3.9/site-packages (from requests<3.0,>=2.8.1->moviepy->notebook-video-writer) (4.0.0)\n",
      "Requirement already satisfied: numpy in /Users/peterwhidden/anaconda3/envs/pt/lib/python3.9/site-packages (from notebook-video-writer) (1.19.5)\n",
      "Requirement already satisfied: typing-extensions>=3.7.4.1 in /Users/peterwhidden/anaconda3/envs/pt/lib/python3.9/site-packages (from eagerpy->tensor-canvas) (3.7.4.3)\n"
     ]
    }
   ],
   "source": [
    "!pip install notebook-video-writer tensor-canvas"
   ]
  },
  {
   "cell_type": "code",
   "execution_count": 2,
   "metadata": {
    "id": "oa9C47bOla9B"
   },
   "outputs": [],
   "source": [
    "import jax.numpy as jnp\n",
    "from jax import jit\n",
    "from jax import vmap\n",
    "import jax\n",
    "from numpy import random\n",
    "import matplotlib.pyplot as plt\n",
    "from tqdm import tqdm\n",
    "import tensorcanvas as tc\n",
    "from notebook_video_writer import VideoWriter"
   ]
  },
  {
   "cell_type": "code",
   "execution_count": 3,
   "metadata": {
    "cellView": "form",
    "id": "8epWV8BqvKmk"
   },
   "outputs": [],
   "source": [
    "#@title VideoWriter\n",
    "#VideoWriter from Alexander Mordvintsev \n",
    "#https://colab.research.google.com/github/znah/notebooks/blob/master/external_colab_snippets.ipynb\n",
    "\n",
    "import os\n",
    "import numpy as np\n",
    "os.environ['FFMPEG_BINARY'] = 'ffmpeg'\n",
    "import moviepy.editor as mvp\n",
    "from moviepy.video.io.ffmpeg_writer import FFMPEG_VideoWriter\n",
    "\n",
    "class VideoWriter:\n",
    "  def __init__(self, filename='_autoplay.mp4', fps=30.0, **kw):\n",
    "    self.writer = None\n",
    "    self.params = dict(filename=filename, fps=fps, **kw)\n",
    "\n",
    "  def add(self, img):\n",
    "    img = np.asarray(img)\n",
    "    if self.writer is None:\n",
    "      h, w = img.shape[:2]\n",
    "      self.writer = FFMPEG_VideoWriter(size=(w, h), **self.params)\n",
    "    if img.dtype in [np.float32, np.float64]:\n",
    "      img = np.uint8(img.clip(0, 1)*255)\n",
    "    if len(img.shape) == 2:\n",
    "      img = np.repeat(img[..., None], 3, -1)\n",
    "    self.writer.write_frame(img)\n",
    "\n",
    "  def close(self):\n",
    "    if self.writer:\n",
    "      self.writer.close()\n",
    "\n",
    "  def __enter__(self):\n",
    "    return self\n",
    "\n",
    "  def __exit__(self, *kw):\n",
    "    self.close()\n",
    "    if self.params['filename'] == '_autoplay.mp4':\n",
    "      self.show()\n",
    "\n",
    "  def show(self, **kw):\n",
    "      self.close()\n",
    "      fn = self.params['filename']\n",
    "      display(mvp.ipython_display(fn, **kw))"
   ]
  },
  {
   "cell_type": "code",
   "execution_count": 4,
   "metadata": {
    "id": "FKDlnbXcmnNl"
   },
   "outputs": [],
   "source": [
    "def draw_sim(parts_pos, parts_vel, grid_r, opacity=1.0, p_size=4.0):\n",
    "  canvas = jnp.zeros((grid_r, grid_r, 3))\n",
    "  col = opacity*jnp.array([1.0,0.0,0.0])\n",
    "  # would be interesting to use jax.experimental.loops for these\n",
    "  for part_p, part_v in zip(parts_pos, parts_vel):\n",
    "    canvas = tc.draw_circle(part_p[0]*grid_r, part_p[1]*grid_r, p_size, col, canvas)\n",
    "  return canvas"
   ]
  },
  {
   "cell_type": "code",
   "execution_count": 5,
   "metadata": {
    "id": "mZ6Ie6ooxyiB"
   },
   "outputs": [],
   "source": [
    "def draw_sim_par(parts_pos, parts_vel, grid_r, opacity=1.0, p_size=4.0):\n",
    "  col = opacity*jnp.array([1.0,0.0,0.0])\n",
    "  draw_single = lambda part_p, canv: tc.draw_circle(part_p[0]*grid_r, part_p[1]*grid_r, p_size, col, canv)\n",
    "  draw_all = vmap(draw_single)\n",
    "  return draw_all(parts_pos, jnp.zeros((parts_pos.shape[0], grid_r, grid_r, 3))).sum(0)"
   ]
  },
  {
   "cell_type": "code",
   "execution_count": 6,
   "metadata": {
    "id": "o02Zz_WfUGoG"
   },
   "outputs": [],
   "source": [
    "def compute_forces(pos, scale, eps=0.1):\n",
    "  a, b = jnp.expand_dims(pos, 1), jnp.expand_dims(pos, 0)\n",
    "  diff = a - b\n",
    "  dist = (diff * diff).sum(axis=-1) ** 0.5\n",
    "  dist = jnp.expand_dims(dist, 2)\n",
    "  force = diff / ((dist * scale) ** 3 + eps)\n",
    "  return force.sum(0)\n",
    "\n",
    "fast_compute_forces = jit(compute_forces)"
   ]
  },
  {
   "cell_type": "code",
   "execution_count": 7,
   "metadata": {
    "id": "ZQKHQh8dQu-D"
   },
   "outputs": [],
   "source": [
    "def sim_update_force(parts_pos, parts_vel, t_delta=0.05, scale=5, repel_mag=0.1, center_mag=2.5, steps=10, damp=0.99):\n",
    "  p_p = jnp.array(parts_pos)\n",
    "  p_v = jnp.array(parts_vel)\n",
    "  # jax.experimental.loops\n",
    "  for _ in range(steps):\n",
    "    p_p = p_p + t_delta * p_v\n",
    "    force = fast_compute_forces(p_p, scale)\n",
    "    center_diff = p_p-0.5\n",
    "    centering_force = center_diff / ((center_diff ** 2).sum() ** 0.5)\n",
    "    p_v = damp * p_v - t_delta * (force * repel_mag + centering_force * center_mag)\n",
    "  return p_p, p_v"
   ]
  },
  {
   "cell_type": "code",
   "execution_count": 8,
   "metadata": {
    "id": "V9oE8mt1NlcI"
   },
   "outputs": [],
   "source": [
    "def make_init_state(p_count):\n",
    "  return random.rand(p_count, 2), random.rand(p_count, 2)-0.5"
   ]
  },
  {
   "cell_type": "code",
   "execution_count": 9,
   "metadata": {
    "id": "Fu3R9hlHp7W2"
   },
   "outputs": [],
   "source": [
    "fast_draw = jit(draw_sim, static_argnums=(2,))\n",
    "fast_draw_par = jit(draw_sim_par, static_argnums=(2,))\n",
    "fast_sim_update_force = jit(sim_update_force, static_argnames=('steps'))"
   ]
  },
  {
   "cell_type": "code",
   "execution_count": 10,
   "metadata": {
    "colab": {
     "base_uri": "https://localhost:8080/",
     "height": 303
    },
    "id": "E93WYTSTHD62",
    "outputId": "27545728-561f-4b0e-d4a9-4e5a62f4e7a0"
   },
   "outputs": [
    {
     "name": "stderr",
     "output_type": "stream",
     "text": [
      "  0%|          | 0/1000 [00:00<?, ?it/s]WARNING:absl:No GPU/TPU found, falling back to CPU. (Set TF_CPP_MIN_LOG_LEVEL=0 and rerun for more info.)\n",
      "100%|██████████| 1000/1000 [00:00<00:00, 2532.00it/s]\n"
     ]
    },
    {
     "data": {
      "text/plain": [
       "<matplotlib.image.AxesImage at 0x7fb97fc20fa0>"
      ]
     },
     "execution_count": 10,
     "metadata": {},
     "output_type": "execute_result"
    },
    {
     "data": {
      "image/png": "[encoded data removed]",
      "text/plain": [
       "<Figure size 432x288 with 1 Axes>"
      ]
     },
     "metadata": {
      "needs_background": "light"
     },
     "output_type": "display_data"
    }
   ],
   "source": [
    "p_state, v_state = make_init_state(128)\n",
    "v_state *= 0\n",
    "grid_res = 384\n",
    "for i in tqdm(range(1000)):\n",
    "  p_state, v_state = fast_sim_update_force(p_state, v_state, t_delta=0.05, scale=10, center_mag=0.5, repel_mag=0.05, damp=0.996, steps=2)\n",
    "plt.imshow(fast_draw_par(p_state, v_state, grid_res, p_size=4.0))"
   ]
  },
  {
   "cell_type": "code",
   "execution_count": 11,
   "metadata": {
    "colab": {
     "base_uri": "https://localhost:8080/",
     "height": 303
    },
    "id": "Y_bUGrPfHSpb",
    "outputId": "88c4f26b-64d6-40b0-8002-283864e5007a"
   },
   "outputs": [
    {
     "name": "stderr",
     "output_type": "stream",
     "text": [
      "100%|██████████| 100/100 [00:15<00:00,  6.32it/s]\n"
     ]
    },
    {
     "data": {
      "text/plain": [
       "<matplotlib.image.AxesImage at 0x7fb980729b20>"
      ]
     },
     "execution_count": 11,
     "metadata": {},
     "output_type": "execute_result"
    },
    {
     "data": {
      "image/png": "[encoded data removed]",
      "text/plain": [
       "<Figure size 432x288 with 1 Axes>"
      ]
     },
     "metadata": {
      "needs_background": "light"
     },
     "output_type": "display_data"
    }
   ],
   "source": [
    "p_state, v_state = make_init_state(2048)\n",
    "v_state *= 0\n",
    "grid_res = 512\n",
    "for i in tqdm(range(100)):\n",
    "  p_state, v_state = fast_sim_update_force(p_state, v_state, t_delta=0.05, scale=40, center_mag=0.5, repel_mag=0.05, damp=0.997, steps=20)\n",
    "plt.imshow(fast_draw_par(p_state, v_state, grid_res, p_size=3.0))\n"
   ]
  },
  {
   "cell_type": "code",
   "execution_count": 23,
   "metadata": {
    "id": "zkuQjpUJM8WN"
   },
   "outputs": [],
   "source": [
    "render_video = False"
   ]
  },
  {
   "cell_type": "code",
   "execution_count": 24,
   "metadata": {
    "id": "iIyXwOmlnwmv"
   },
   "outputs": [],
   "source": [
    "if render_video:\n",
    "  p_state, v_state = make_init_state(128)\n",
    "  v_state *= 0\n",
    "  grid_res = 384\n",
    "  with VideoWriter(fps=60) as vw:\n",
    "    for i in tqdm(range(1000)):\n",
    "        render = fast_draw_par(p_state, v_state, grid_res, p_size=3.0)\n",
    "        vw.add(render)\n",
    "        p_state, v_state = fast_sim_update_force(p_state, v_state, t_delta=0.05, scale=10, center_mag=0.5, repel_mag=0.05, damp=0.996, steps=2)"
   ]
  },
  {
   "cell_type": "code",
   "execution_count": 14,
   "metadata": {
    "id": "PkzYIHXZ5-rz"
   },
   "outputs": [],
   "source": [
    "if render_video:\n",
    "  p_state, v_state = make_init_state(512)\n",
    "  v_state *= 0\n",
    "  grid_res = 256\n",
    "  with VideoWriter(fps=60) as vw:\n",
    "    for i in tqdm(range(1000)):\n",
    "        render = fast_draw_par(p_state, v_state, grid_res, opacity=0.5, p_size=3.0)\n",
    "        vw.add(render)\n",
    "        p_state, v_state = fast_sim_update_force(p_state, v_state, t_delta=0.05, scale=20, center_mag=0.5, repel_mag=0.05, damp=0.998, steps=4)"
   ]
  },
  {
   "cell_type": "code",
   "execution_count": 15,
   "metadata": {
    "colab": {
     "base_uri": "https://localhost:8080/"
    },
    "id": "iktyz4JeiPeR",
    "outputId": "5d8c4d89-ead1-4214-d961-72bf673f9df1"
   },
   "outputs": [
    {
     "name": "stdout",
     "output_type": "stream",
     "text": [
      "/bin/bash: nvidia-smi: command not found\r\n"
     ]
    }
   ],
   "source": [
    "!nvidia-smi"
   ]
  },
  {
   "cell_type": "code",
   "execution_count": 16,
   "metadata": {
    "id": "ELDYTy1n5-w7"
   },
   "outputs": [],
   "source": [
    "p_test = 50\n",
    "res_test = 512"
   ]
  },
  {
   "cell_type": "code",
   "execution_count": 17,
   "metadata": {
    "colab": {
     "base_uri": "https://localhost:8080/"
    },
    "id": "1uZTpC0e6KlS",
    "outputId": "fb63ef38-4b45-4247-e2be-6cc4761bb0d0"
   },
   "outputs": [
    {
     "name": "stdout",
     "output_type": "stream",
     "text": [
      "579 ms ± 25.5 ms per loop (mean ± std. dev. of 7 runs, 1 loop each)\n"
     ]
    }
   ],
   "source": [
    "%%timeit\n",
    "draw_sim(*make_init_state(p_test), res_test)"
   ]
  },
  {
   "cell_type": "code",
   "execution_count": 18,
   "metadata": {
    "colab": {
     "base_uri": "https://localhost:8080/"
    },
    "id": "-Y8xAUZ36KiV",
    "outputId": "d5e2e06f-c152-466a-e577-632bec7b7813"
   },
   "outputs": [
    {
     "name": "stdout",
     "output_type": "stream",
     "text": [
      "632 ms ± 15.6 ms per loop (mean ± std. dev. of 7 runs, 1 loop each)\n"
     ]
    }
   ],
   "source": [
    "%%timeit\n",
    "draw_sim_par(*make_init_state(p_test), res_test)"
   ]
  },
  {
   "cell_type": "code",
   "execution_count": 19,
   "metadata": {
    "colab": {
     "base_uri": "https://localhost:8080/"
    },
    "id": "pbwZOyAm0xNJ",
    "outputId": "8ee489b5-876e-4f0f-94fa-abcfa0683851"
   },
   "outputs": [
    {
     "name": "stdout",
     "output_type": "stream",
     "text": [
      "28.9 ms ± 2.14 ms per loop (mean ± std. dev. of 7 runs, 1 loop each)\n"
     ]
    }
   ],
   "source": [
    "%%timeit\n",
    "fast_draw(*make_init_state(p_test), res_test)"
   ]
  },
  {
   "cell_type": "code",
   "execution_count": 20,
   "metadata": {
    "colab": {
     "base_uri": "https://localhost:8080/"
    },
    "id": "SFAN_sq90kZT",
    "outputId": "c8e2775c-f9d8-4b57-bee5-3e8fde1e2b84"
   },
   "outputs": [
    {
     "name": "stdout",
     "output_type": "stream",
     "text": [
      "79.6 ms ± 1.66 ms per loop (mean ± std. dev. of 7 runs, 1 loop each)\n"
     ]
    }
   ],
   "source": [
    "%%timeit\n",
    "fast_draw_par(*make_init_state(p_test), res_test)"
   ]
  },
  {
   "cell_type": "code",
   "execution_count": null,
   "metadata": {
    "id": "JMzttb9T0y5X"
   },
   "outputs": [],
   "source": []
  },
  {
   "cell_type": "code",
   "execution_count": null,
   "metadata": {
    "id": "ivJFKyrYdbe0"
   },
   "outputs": [],
   "source": []
  }
 ],
 "metadata": {
  "accelerator": "GPU",
  "colab": {
   "authorship_tag": "ABX9TyMS8xCju6T0DW4/yMyAM8oi",
   "include_colab_link": true,
   "name": "nbody.ipynb",
   "provenance": []
  },
  "kernelspec": {
   "display_name": "Python 3",
   "language": "python",
   "name": "python3"
  },
  "language_info": {
   "codemirror_mode": {
    "name": "ipython",
    "version": 3
   },
   "file_extension": ".py",
   "mimetype": "text/x-python",
   "name": "python",
   "nbconvert_exporter": "python",
   "pygments_lexer": "ipython3",
   "version": "3.9.0"
  }
 },
 "nbformat": 4,
 "nbformat_minor": 1
}
