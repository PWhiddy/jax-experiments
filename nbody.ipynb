{
  "nbformat": 4,
  "nbformat_minor": 0,
  "metadata": {
    "colab": {
      "name": "nbody.ipynb",
      "provenance": [],
      "authorship_tag": "ABX9TyMS8xCju6T0DW4/yMyAM8oi",
      "include_colab_link": true
    },
    "kernelspec": {
      "name": "python3",
      "display_name": "Python 3"
    },
    "language_info": {
      "name": "python"
    },
    "accelerator": "GPU"
  },
  "cells": [
    {
      "cell_type": "markdown",
      "metadata": {
        "id": "view-in-github",
        "colab_type": "text"
      },
      "source": [
        "<a href=\"https://colab.research.google.com/github/PWhiddy/jax-experiments/blob/main/nbody.ipynb\" target=\"_parent\"><img src=\"https://colab.research.google.com/assets/colab-badge.svg\" alt=\"Open In Colab\"/></a>"
      ]
    },
    {
      "cell_type": "code",
      "metadata": {
        "id": "oa9C47bOla9B"
      },
      "source": [
        "import jax.numpy as jnp\n",
        "from jax import jit\n",
        "from jax import vmap\n",
        "import jax\n",
        "from numpy import random\n",
        "import matplotlib.pyplot as plt\n",
        "from tqdm import tqdm"
      ],
      "execution_count": 1,
      "outputs": []
    },
    {
      "cell_type": "code",
      "metadata": {
        "colab": {
          "base_uri": "https://localhost:8080/"
        },
        "id": "JOh_oIhpli08",
        "outputId": "28a45aa2-790b-451b-966f-07579659b9fa"
      },
      "source": [
        "!pip install tensor-canvas"
      ],
      "execution_count": 2,
      "outputs": [
        {
          "output_type": "stream",
          "name": "stdout",
          "text": [
            "Requirement already satisfied: tensor-canvas in /usr/local/lib/python3.7/dist-packages (0.1.7)\n",
            "Requirement already satisfied: torch in /usr/local/lib/python3.7/dist-packages (from tensor-canvas) (1.9.0+cu102)\n",
            "Requirement already satisfied: eagerpy in /usr/local/lib/python3.7/dist-packages (from tensor-canvas) (0.30.0)\n",
            "Requirement already satisfied: numpy in /usr/local/lib/python3.7/dist-packages (from eagerpy->tensor-canvas) (1.19.5)\n",
            "Requirement already satisfied: typing-extensions>=3.7.4.1 in /usr/local/lib/python3.7/dist-packages (from eagerpy->tensor-canvas) (3.7.4.3)\n"
          ]
        }
      ]
    },
    {
      "cell_type": "code",
      "metadata": {
        "id": "PPYvIHIXoWZH"
      },
      "source": [
        "import tensorcanvas as tc"
      ],
      "execution_count": 3,
      "outputs": []
    },
    {
      "cell_type": "code",
      "metadata": {
        "cellView": "form",
        "id": "8epWV8BqvKmk"
      },
      "source": [
        "#@title VideoWriter\n",
        "#VideoWriter from Alexander Mordvintsev \n",
        "#https://colab.research.google.com/github/znah/notebooks/blob/master/external_colab_snippets.ipynb\n",
        "\n",
        "import os\n",
        "import numpy as np\n",
        "os.environ['FFMPEG_BINARY'] = 'ffmpeg'\n",
        "import moviepy.editor as mvp\n",
        "from moviepy.video.io.ffmpeg_writer import FFMPEG_VideoWriter\n",
        "\n",
        "class VideoWriter:\n",
        "  def __init__(self, filename='_autoplay.mp4', fps=30.0, **kw):\n",
        "    self.writer = None\n",
        "    self.params = dict(filename=filename, fps=fps, **kw)\n",
        "\n",
        "  def add(self, img):\n",
        "    img = np.asarray(img)\n",
        "    if self.writer is None:\n",
        "      h, w = img.shape[:2]\n",
        "      self.writer = FFMPEG_VideoWriter(size=(w, h), **self.params)\n",
        "    if img.dtype in [np.float32, np.float64]:\n",
        "      img = np.uint8(img.clip(0, 1)*255)\n",
        "    if len(img.shape) == 2:\n",
        "      img = np.repeat(img[..., None], 3, -1)\n",
        "    self.writer.write_frame(img)\n",
        "\n",
        "  def close(self):\n",
        "    if self.writer:\n",
        "      self.writer.close()\n",
        "\n",
        "  def __enter__(self):\n",
        "    return self\n",
        "\n",
        "  def __exit__(self, *kw):\n",
        "    self.close()\n",
        "    if self.params['filename'] == '_autoplay.mp4':\n",
        "      self.show()\n",
        "\n",
        "  def show(self, **kw):\n",
        "      self.close()\n",
        "      fn = self.params['filename']\n",
        "      display(mvp.ipython_display(fn, **kw))"
      ],
      "execution_count": 4,
      "outputs": []
    },
    {
      "cell_type": "code",
      "metadata": {
        "id": "FKDlnbXcmnNl"
      },
      "source": [
        "def draw_sim(parts_pos, parts_vel, grid_r, opacity=1.0, p_size=4.0):\n",
        "  canvas = jnp.zeros((grid_r, grid_r, 3))\n",
        "  col = opacity*jnp.array([1.0,0.0,0.0])\n",
        "  # would be interesting to use jax.experimental.loops for these\n",
        "  for part_p, part_v in zip(parts_pos, parts_vel):\n",
        "    canvas = tc.draw_circle(part_p[0]*grid_r, part_p[1]*grid_r, p_size, col, canvas)\n",
        "  return canvas"
      ],
      "execution_count": 5,
      "outputs": []
    },
    {
      "cell_type": "code",
      "metadata": {
        "id": "mZ6Ie6ooxyiB"
      },
      "source": [
        "def draw_sim_par(parts_pos, parts_vel, grid_r, opacity=1.0, p_size=4.0):\n",
        "  col = opacity*jnp.array([1.0,0.0,0.0])\n",
        "  draw_single = lambda part_p, canv: tc.draw_circle(part_p[0]*grid_r, part_p[1]*grid_r, p_size, col, canv)\n",
        "  draw_all = vmap(draw_single)\n",
        "  return draw_all(parts_pos, jnp.zeros((parts_pos.shape[0], grid_r, grid_r, 3))).sum(0)"
      ],
      "execution_count": 6,
      "outputs": []
    },
    {
      "cell_type": "code",
      "metadata": {
        "id": "o02Zz_WfUGoG"
      },
      "source": [
        "def compute_forces(pos, scale, eps=0.1):\n",
        "  a, b = jnp.expand_dims(pos, 1), jnp.expand_dims(pos, 0)\n",
        "  diff = a - b\n",
        "  dist = (diff * diff).sum(axis=-1) ** 0.5\n",
        "  dist = jnp.expand_dims(dist, 2)\n",
        "  force = diff / ((dist * scale) ** 3 + eps)\n",
        "  return force.sum(0)\n",
        "\n",
        "fast_compute_forces = jit(compute_forces)"
      ],
      "execution_count": 7,
      "outputs": []
    },
    {
      "cell_type": "code",
      "metadata": {
        "id": "ZQKHQh8dQu-D"
      },
      "source": [
        "def sim_update_force(parts_pos, parts_vel, t_delta=0.05, scale=5, repel_mag=0.1, center_mag=2.5, steps=10, damp=0.99):\n",
        "  p_p = jnp.array(parts_pos)\n",
        "  p_v = jnp.array(parts_vel)\n",
        "  # jax.experimental.loops\n",
        "  for _ in range(steps):\n",
        "    p_p = p_p + t_delta * p_v\n",
        "    force = fast_compute_forces(p_p, scale)\n",
        "    center_diff = p_p-0.5\n",
        "    centering_force = center_diff / ((center_diff ** 2).sum() ** 0.5)\n",
        "    p_v = damp * p_v - t_delta * (force * repel_mag + centering_force * center_mag)\n",
        "  return p_p, p_v"
      ],
      "execution_count": 8,
      "outputs": []
    },
    {
      "cell_type": "code",
      "metadata": {
        "id": "V9oE8mt1NlcI"
      },
      "source": [
        "def make_init_state(p_count):\n",
        "  return random.rand(p_count, 2), random.rand(p_count, 2)-0.5"
      ],
      "execution_count": 9,
      "outputs": []
    },
    {
      "cell_type": "code",
      "metadata": {
        "id": "Fu3R9hlHp7W2"
      },
      "source": [
        "fast_draw = jit(draw_sim, static_argnums=(2,))\n",
        "fast_draw_par = jit(draw_sim_par, static_argnums=(2,))\n",
        "fast_sim_update_force = jit(sim_update_force, static_argnames=('steps'))"
      ],
      "execution_count": 10,
      "outputs": []
    },
    {
      "cell_type": "code",
      "metadata": {
        "colab": {
          "base_uri": "https://localhost:8080/",
          "height": 303
        },
        "id": "E93WYTSTHD62",
        "outputId": "27545728-561f-4b0e-d4a9-4e5a62f4e7a0"
      },
      "source": [
        "p_state, v_state = make_init_state(128)\n",
        "v_state *= 0\n",
        "grid_res = 384\n",
        "for i in tqdm(range(1000)):\n",
        "  p_state, v_state = fast_sim_update_force(p_state, v_state, t_delta=0.05, scale=10, center_mag=0.5, repel_mag=0.05, damp=0.996, steps=2)\n",
        "plt.imshow(fast_draw_par(p_state, v_state, grid_res, p_size=4.0))"
      ],
      "execution_count": 11,
      "outputs": [
        {
          "output_type": "stream",
          "name": "stderr",
          "text": [
            "100%|██████████| 1000/1000 [00:01<00:00, 690.59it/s]\n"
          ]
        },
        {
          "output_type": "execute_result",
          "data": {
            "text/plain": [
              "<matplotlib.image.AxesImage at 0x7fd7853c8810>"
            ]
          },
          "metadata": {},
          "execution_count": 11
        },
        {
          "output_type": "display_data",
          "data": {
            "image/png": "[encoded data removed]",
            "text/plain": [
              "<Figure size 432x288 with 1 Axes>"
            ]
          },
          "metadata": {
            "needs_background": "light"
          }
        }
      ]
    },
    {
      "cell_type": "code",
      "metadata": {
        "colab": {
          "base_uri": "https://localhost:8080/",
          "height": 303
        },
        "id": "Y_bUGrPfHSpb",
        "outputId": "88c4f26b-64d6-40b0-8002-283864e5007a"
      },
      "source": [
        "p_state, v_state = make_init_state(2048)\n",
        "v_state *= 0\n",
        "grid_res = 512\n",
        "for i in tqdm(range(100)):\n",
        "  p_state, v_state = fast_sim_update_force(p_state, v_state, t_delta=0.05, scale=40, center_mag=0.5, repel_mag=0.05, damp=0.997, steps=20)\n",
        "plt.imshow(fast_draw_par(p_state, v_state, grid_res, p_size=3.0))\n"
      ],
      "execution_count": 12,
      "outputs": [
        {
          "output_type": "stream",
          "name": "stderr",
          "text": [
            "100%|██████████| 100/100 [00:03<00:00, 28.72it/s]\n"
          ]
        },
        {
          "output_type": "execute_result",
          "data": {
            "text/plain": [
              "<matplotlib.image.AxesImage at 0x7fd7845ab190>"
            ]
          },
          "metadata": {},
          "execution_count": 12
        },
        {
          "output_type": "display_data",
          "data": {
            "image/png": "[encoded data removed]",
            "text/plain": [
              "<Figure size 432x288 with 1 Axes>"
            ]
          },
          "metadata": {
            "needs_background": "light"
          }
        }
      ]
    },
    {
      "cell_type": "code",
      "metadata": {
        "id": "zkuQjpUJM8WN"
      },
      "source": [
        "render_video = False"
      ],
      "execution_count": 13,
      "outputs": []
    },
    {
      "cell_type": "code",
      "metadata": {
        "id": "iIyXwOmlnwmv"
      },
      "source": [
        "if render_video:\n",
        "  p_state, v_state = make_init_state(128)\n",
        "  v_state *= 0\n",
        "  grid_res = 384\n",
        "  with VideoWriter(fps=60) as vw:\n",
        "    for i in tqdm(range(1000)):\n",
        "        render = fast_draw_par(p_state, v_state, grid_res, p_size=3.0)\n",
        "        vw.add(render)\n",
        "        p_state, v_state = fast_sim_update_force(p_state, v_state, t_delta=0.05, scale=10, center_mag=0.5, repel_mag=0.05, damp=0.996, steps=2)"
      ],
      "execution_count": 14,
      "outputs": []
    },
    {
      "cell_type": "code",
      "metadata": {
        "id": "PkzYIHXZ5-rz"
      },
      "source": [
        "if render_video:\n",
        "  p_state, v_state = make_init_state(512)\n",
        "  v_state *= 0\n",
        "  grid_res = 256\n",
        "  with VideoWriter(fps=60) as vw:\n",
        "    for i in tqdm(range(1000)):\n",
        "        render = fast_draw_par(p_state, v_state, grid_res, opacity=0.5, p_size=3.0)\n",
        "        vw.add(render)\n",
        "        p_state, v_state = fast_sim_update_force(p_state, v_state, t_delta=0.05, scale=20, center_mag=0.5, repel_mag=0.05, damp=0.998, steps=4)"
      ],
      "execution_count": 15,
      "outputs": []
    },
    {
      "cell_type": "code",
      "metadata": {
        "colab": {
          "base_uri": "https://localhost:8080/"
        },
        "id": "iktyz4JeiPeR",
        "outputId": "5d8c4d89-ead1-4214-d961-72bf673f9df1"
      },
      "source": [
        "!nvidia-smi"
      ],
      "execution_count": 16,
      "outputs": [
        {
          "output_type": "stream",
          "name": "stdout",
          "text": [
            "Mon Sep 13 07:48:56 2021       \n",
            "+-----------------------------------------------------------------------------+\n",
            "| NVIDIA-SMI 470.63.01    Driver Version: 460.32.03    CUDA Version: 11.2     |\n",
            "|-------------------------------+----------------------+----------------------+\n",
            "| GPU  Name        Persistence-M| Bus-Id        Disp.A | Volatile Uncorr. ECC |\n",
            "| Fan  Temp  Perf  Pwr:Usage/Cap|         Memory-Usage | GPU-Util  Compute M. |\n",
            "|                               |                      |               MIG M. |\n",
            "|===============================+======================+======================|\n",
            "|   0  Tesla K80           Off  | 00000000:00:04.0 Off |                    0 |\n",
            "| N/A   43C    P0    66W / 149W |  10306MiB / 11441MiB |      0%      Default |\n",
            "|                               |                      |                  N/A |\n",
            "+-------------------------------+----------------------+----------------------+\n",
            "                                                                               \n",
            "+-----------------------------------------------------------------------------+\n",
            "| Processes:                                                                  |\n",
            "|  GPU   GI   CI        PID   Type   Process name                  GPU Memory |\n",
            "|        ID   ID                                                   Usage      |\n",
            "|=============================================================================|\n",
            "|  No running processes found                                                 |\n",
            "+-----------------------------------------------------------------------------+\n"
          ]
        }
      ]
    },
    {
      "cell_type": "code",
      "metadata": {
        "id": "ELDYTy1n5-w7"
      },
      "source": [
        "p_test = 50\n",
        "res_test = 512"
      ],
      "execution_count": 17,
      "outputs": []
    },
    {
      "cell_type": "code",
      "metadata": {
        "colab": {
          "base_uri": "https://localhost:8080/"
        },
        "id": "1uZTpC0e6KlS",
        "outputId": "fb63ef38-4b45-4247-e2be-6cc4761bb0d0"
      },
      "source": [
        "%%timeit\n",
        "draw_sim(*make_init_state(p_test), res_test)"
      ],
      "execution_count": 18,
      "outputs": [
        {
          "output_type": "stream",
          "name": "stdout",
          "text": [
            "1 loop, best of 5: 647 ms per loop\n"
          ]
        }
      ]
    },
    {
      "cell_type": "code",
      "metadata": {
        "colab": {
          "base_uri": "https://localhost:8080/"
        },
        "id": "-Y8xAUZ36KiV",
        "outputId": "d5e2e06f-c152-466a-e577-632bec7b7813"
      },
      "source": [
        "%%timeit\n",
        "draw_sim_par(*make_init_state(p_test), res_test)"
      ],
      "execution_count": 19,
      "outputs": [
        {
          "output_type": "stream",
          "name": "stdout",
          "text": [
            "The slowest run took 67.17 times longer than the fastest. This could mean that an intermediate result is being cached.\n",
            "1 loop, best of 5: 31.3 ms per loop\n"
          ]
        }
      ]
    },
    {
      "cell_type": "code",
      "metadata": {
        "colab": {
          "base_uri": "https://localhost:8080/"
        },
        "id": "pbwZOyAm0xNJ",
        "outputId": "8ee489b5-876e-4f0f-94fa-abcfa0683851"
      },
      "source": [
        "%%timeit\n",
        "fast_draw(*make_init_state(p_test), res_test)"
      ],
      "execution_count": 20,
      "outputs": [
        {
          "output_type": "stream",
          "name": "stdout",
          "text": [
            "The slowest run took 15879.49 times longer than the fastest. This could mean that an intermediate result is being cached.\n",
            "1 loop, best of 5: 243 µs per loop\n"
          ]
        }
      ]
    },
    {
      "cell_type": "code",
      "metadata": {
        "colab": {
          "base_uri": "https://localhost:8080/"
        },
        "id": "SFAN_sq90kZT",
        "outputId": "c8e2775c-f9d8-4b57-bee5-3e8fde1e2b84"
      },
      "source": [
        "%%timeit\n",
        "fast_draw_par(*make_init_state(p_test), res_test)"
      ],
      "execution_count": 21,
      "outputs": [
        {
          "output_type": "stream",
          "name": "stdout",
          "text": [
            "The slowest run took 1280.06 times longer than the fastest. This could mean that an intermediate result is being cached.\n",
            "1 loop, best of 5: 240 µs per loop\n"
          ]
        }
      ]
    },
    {
      "cell_type": "code",
      "metadata": {
        "id": "JMzttb9T0y5X"
      },
      "source": [
        ""
      ],
      "execution_count": 21,
      "outputs": []
    },
    {
      "cell_type": "code",
      "metadata": {
        "id": "ivJFKyrYdbe0"
      },
      "source": [
        ""
      ],
      "execution_count": 21,
      "outputs": []
    }
  ]
}