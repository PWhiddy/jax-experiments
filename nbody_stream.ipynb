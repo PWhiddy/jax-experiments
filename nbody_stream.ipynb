{
 "cells": [
  {
   "cell_type": "markdown",
   "metadata": {
    "colab_type": "text",
    "id": "view-in-github"
   },
   "source": [
    "<a href=\"https://colab.research.google.com/github/PWhiddy/jax-experiments/blob/main/nbody.ipynb\" target=\"_parent\"><img src=\"https://colab.research.google.com/assets/colab-badge.svg\" alt=\"Open In Colab\"/></a>"
   ]
  },
  {
   "cell_type": "code",
   "execution_count": 1,
   "metadata": {
    "id": "oa9C47bOla9B"
   },
   "outputs": [],
   "source": [
    "import jax.numpy as jnp\n",
    "from jax import jit\n",
    "from jax import vmap\n",
    "import jax\n",
    "from numpy import random\n",
    "import matplotlib.pyplot as plt\n",
    "from tqdm import tqdm"
   ]
  },
  {
   "cell_type": "code",
   "execution_count": 2,
   "metadata": {
    "colab": {
     "base_uri": "https://localhost:8080/"
    },
    "id": "JOh_oIhpli08",
    "outputId": "28a45aa2-790b-451b-966f-07579659b9fa"
   },
   "outputs": [
    {
     "name": "stdout",
     "output_type": "stream",
     "text": [
      "Requirement already satisfied: tensor-canvas in /usr/local/lib/python3.8/dist-packages (0.1.7)\n",
      "Requirement already satisfied: eagerpy in /usr/local/lib/python3.8/dist-packages (from tensor-canvas) (0.30.0)\n",
      "Requirement already satisfied: torch in /usr/local/lib/python3.8/dist-packages (from tensor-canvas) (1.9.1)\n",
      "Requirement already satisfied: typing-extensions>=3.7.4.1 in /usr/local/lib/python3.8/dist-packages (from eagerpy->tensor-canvas) (3.10.0.2)\n",
      "Requirement already satisfied: numpy in /usr/local/lib/python3.8/dist-packages (from eagerpy->tensor-canvas) (1.18.5)\n",
      "\u001b[33mWARNING: Running pip as the 'root' user can result in broken permissions and conflicting behaviour with the system package manager. It is recommended to use a virtual environment instead: https://pip.pypa.io/warnings/venv\u001b[0m\n"
     ]
    }
   ],
   "source": [
    "!pip install tensor-canvas"
   ]
  },
  {
   "cell_type": "code",
   "execution_count": 3,
   "metadata": {},
   "outputs": [
    {
     "name": "stdout",
     "output_type": "stream",
     "text": [
      "Requirement already satisfied: moviepy in /usr/local/lib/python3.8/dist-packages (1.0.3)\n",
      "Requirement already satisfied: requests<3.0,>=2.8.1 in /usr/lib/python3/dist-packages (from moviepy) (2.22.0)\n",
      "Requirement already satisfied: numpy>=1.17.3 in /usr/local/lib/python3.8/dist-packages (from moviepy) (1.18.5)\n",
      "Requirement already satisfied: proglog<=1.0.0 in /usr/local/lib/python3.8/dist-packages (from moviepy) (0.1.9)\n",
      "Requirement already satisfied: tqdm<5.0,>=4.11.2 in /usr/local/lib/python3.8/dist-packages (from moviepy) (4.62.3)\n",
      "Requirement already satisfied: imageio<3.0,>=2.5 in /usr/local/lib/python3.8/dist-packages (from moviepy) (2.9.0)\n",
      "Requirement already satisfied: decorator<5.0,>=4.0.2 in /usr/local/lib/python3.8/dist-packages (from moviepy) (4.4.2)\n",
      "Requirement already satisfied: imageio-ffmpeg>=0.2.0 in /usr/local/lib/python3.8/dist-packages (from moviepy) (0.4.5)\n",
      "Requirement already satisfied: pillow in /usr/local/lib/python3.8/dist-packages (from imageio<3.0,>=2.5->moviepy) (8.3.2)\n",
      "\u001b[33mWARNING: Running pip as the 'root' user can result in broken permissions and conflicting behaviour with the system package manager. It is recommended to use a virtual environment instead: https://pip.pypa.io/warnings/venv\u001b[0m\n"
     ]
    }
   ],
   "source": [
    "!pip install moviepy"
   ]
  },
  {
   "cell_type": "code",
   "execution_count": 4,
   "metadata": {
    "id": "PPYvIHIXoWZH"
   },
   "outputs": [],
   "source": [
    "import tensorcanvas as tc"
   ]
  },
  {
   "cell_type": "code",
   "execution_count": 5,
   "metadata": {
    "cellView": "form",
    "id": "8epWV8BqvKmk"
   },
   "outputs": [],
   "source": [
    "#@title VideoWriter\n",
    "#VideoWriter from Alexander Mordvintsev \n",
    "#https://colab.research.google.com/github/znah/notebooks/blob/master/external_colab_snippets.ipynb\n",
    "\n",
    "import os\n",
    "import numpy as np\n",
    "os.environ['FFMPEG_BINARY'] = 'ffmpeg'\n",
    "import moviepy.editor as mvp\n",
    "from moviepy.video.io.ffmpeg_writer import FFMPEG_VideoWriter\n",
    "\n",
    "class VideoWriter:\n",
    "  def __init__(self, filename='_autoplay.mp4', fps=30.0, **kw):\n",
    "    self.writer = None\n",
    "    self.params = dict(filename=filename, fps=fps, **kw)\n",
    "\n",
    "  def add(self, img):\n",
    "    img = np.asarray(img)\n",
    "    if self.writer is None:\n",
    "      h, w = img.shape[:2]\n",
    "      self.writer = FFMPEG_VideoWriter(size=(w, h), **self.params)\n",
    "    if img.dtype in [np.float32, np.float64]:\n",
    "      img = np.uint8(img.clip(0, 1)*255)\n",
    "    if len(img.shape) == 2:\n",
    "      img = np.repeat(img[..., None], 3, -1)\n",
    "    self.writer.write_frame(img)\n",
    "\n",
    "  def close(self):\n",
    "    if self.writer:\n",
    "      self.writer.close()\n",
    "\n",
    "  def __enter__(self):\n",
    "    return self\n",
    "\n",
    "  def __exit__(self, *kw):\n",
    "    self.close()\n",
    "    if self.params['filename'] == '_autoplay.mp4':\n",
    "      self.show()\n",
    "\n",
    "  def show(self, **kw):\n",
    "      self.close()\n",
    "      fn = self.params['filename']\n",
    "      display(mvp.ipython_display(fn, **kw))"
   ]
  },
  {
   "cell_type": "code",
   "execution_count": 76,
   "metadata": {
    "id": "FKDlnbXcmnNl"
   },
   "outputs": [],
   "source": [
    "def draw_sim(parts_pos, parts_vel, grid_r_x, grid_r_y, opacity=1.0, p_size=4.0, pcol=jnp.array([1.0,0.0,0.0])):\n",
    "  canvas = jnp.zeros((grid_r_y, grid_r_x, 3))\n",
    "  col = opacity*pcol\n",
    "  # would be interesting to use jax.experimental.loops for these\n",
    "  for part_p, part_v in zip(parts_pos, parts_vel):\n",
    "    canvas = tc.draw_circle(part_p[0]*grid_r_y+grid_r_x*0.5-grid_r_y*0.5, part_p[1]*grid_r_y, p_size, col, canvas)\n",
    "  return jnp.clip(canvas, 0.0, 1.0)"
   ]
  },
  {
   "cell_type": "code",
   "execution_count": 77,
   "metadata": {
    "id": "mZ6Ie6ooxyiB"
   },
   "outputs": [],
   "source": [
    "def draw_sim_par(parts_pos, parts_vel, grid_r_x, grid_r_y, opacity=1.0, p_size=4.0, pcol=jnp.array([1.0,0.0,0.0])):\n",
    "  col = opacity*pcol\n",
    "  draw_single = lambda part_p, canv: tc.draw_circle(part_p[0]*grid_r_y+grid_r_x*0.5-grid_r_y*0.5, part_p[1]*grid_r_y, p_size, col, canv)\n",
    "  draw_all = vmap(draw_single)\n",
    "  return jnp.clip(draw_all(parts_pos, jnp.zeros((parts_pos.shape[0], grid_r_y, grid_r_x, 3))).sum(0), 0.0, 1.0)"
   ]
  },
  {
   "cell_type": "code",
   "execution_count": 78,
   "metadata": {
    "id": "o02Zz_WfUGoG"
   },
   "outputs": [],
   "source": [
    "def compute_forces(pos, scale, eps=0.1):\n",
    "  a, b = jnp.expand_dims(pos, 1), jnp.expand_dims(pos, 0)\n",
    "  diff = a - b\n",
    "  dist = (diff * diff).sum(axis=-1) ** 0.5\n",
    "  dist = jnp.expand_dims(dist, 2)\n",
    "  force = diff / ((dist * scale) ** 3 + eps)\n",
    "  return force.sum(0)\n",
    "\n",
    "fast_compute_forces = jit(compute_forces)"
   ]
  },
  {
   "cell_type": "code",
   "execution_count": 79,
   "metadata": {
    "id": "ZQKHQh8dQu-D"
   },
   "outputs": [],
   "source": [
    "def sim_update_force(parts_pos, parts_vel, t_delta=0.05, scale=5, repel_mag=0.1, center_mag=2.5, steps=10, damp=0.99):\n",
    "  p_p = jnp.array(parts_pos)\n",
    "  p_v = jnp.array(parts_vel)\n",
    "  # jax.experimental.loops\n",
    "  for _ in range(steps):\n",
    "    p_p = p_p + t_delta * p_v\n",
    "    force = fast_compute_forces(p_p, scale)\n",
    "    center_diff = p_p-0.5\n",
    "    centering_force = center_diff / ((center_diff ** 2).sum() ** 0.5)\n",
    "    p_v = damp * p_v - t_delta * (force * repel_mag + centering_force * center_mag)\n",
    "  return p_p, p_v"
   ]
  },
  {
   "cell_type": "code",
   "execution_count": 80,
   "metadata": {
    "id": "V9oE8mt1NlcI"
   },
   "outputs": [],
   "source": [
    "def make_init_state(p_count):\n",
    "  return random.rand(p_count, 2), random.rand(p_count, 2)-0.5"
   ]
  },
  {
   "cell_type": "code",
   "execution_count": 81,
   "metadata": {
    "id": "Fu3R9hlHp7W2"
   },
   "outputs": [],
   "source": [
    "fast_draw = jit(draw_sim, static_argnums=(2,3))\n",
    "fast_draw_par = jit(draw_sim_par, static_argnums=(2,3))\n",
    "fast_sim_update_force = jit(sim_update_force, static_argnames=('steps'))"
   ]
  },
  {
   "cell_type": "code",
   "execution_count": 82,
   "metadata": {
    "colab": {
     "base_uri": "https://localhost:8080/",
     "height": 303
    },
    "id": "E93WYTSTHD62",
    "outputId": "27545728-561f-4b0e-d4a9-4e5a62f4e7a0"
   },
   "outputs": [
    {
     "name": "stderr",
     "output_type": "stream",
     "text": [
      "100% 1000/1000 [00:00<00:00, 2083.09it/s]\n"
     ]
    },
    {
     "data": {
      "text/plain": [
       "<matplotlib.image.AxesImage at 0x7f88d4742580>"
      ]
     },
     "execution_count": 82,
     "metadata": {},
     "output_type": "execute_result"
    },
    {
     "data": {
      "image/png": "[encoded data removed]",
      "text/plain": [
       "<Figure size 432x288 with 1 Axes>"
      ]
     },
     "metadata": {
      "needs_background": "light"
     },
     "output_type": "display_data"
    }
   ],
   "source": [
    "p_state, v_state = make_init_state(128)\n",
    "v_state *= 0\n",
    "grid_res = 384\n",
    "for i in tqdm(range(1000)):\n",
    "  p_state, v_state = fast_sim_update_force(p_state, v_state, t_delta=0.05, scale=10, center_mag=0.5, repel_mag=0.05, damp=0.996, steps=2)\n",
    "plt.imshow(fast_draw_par(p_state, v_state, grid_res, grid_res, p_size=4.0))"
   ]
  },
  {
   "cell_type": "code",
   "execution_count": 83,
   "metadata": {
    "colab": {
     "base_uri": "https://localhost:8080/",
     "height": 303
    },
    "id": "Y_bUGrPfHSpb",
    "outputId": "88c4f26b-64d6-40b0-8002-283864e5007a"
   },
   "outputs": [
    {
     "name": "stderr",
     "output_type": "stream",
     "text": [
      "100% 100/100 [00:01<00:00, 72.13it/s]\n"
     ]
    },
    {
     "data": {
      "text/plain": [
       "<matplotlib.image.AxesImage at 0x7f88d4083be0>"
      ]
     },
     "execution_count": 83,
     "metadata": {},
     "output_type": "execute_result"
    },
    {
     "data": {
      "image/png": "[encoded data removed]",
      "text/plain": [
       "<Figure size 432x288 with 1 Axes>"
      ]
     },
     "metadata": {
      "needs_background": "light"
     },
     "output_type": "display_data"
    }
   ],
   "source": [
    "p_state, v_state = make_init_state(2048)\n",
    "v_state *= 0\n",
    "grid_res = 512\n",
    "for i in tqdm(range(100)):\n",
    "  p_state, v_state = fast_sim_update_force(p_state, v_state, t_delta=0.05, scale=40, center_mag=0.5, repel_mag=0.05, damp=0.997, steps=20)\n",
    "plt.imshow(fast_draw_par(p_state, v_state, grid_res, grid_res, p_size=3.0))\n"
   ]
  },
  {
   "cell_type": "code",
   "execution_count": 87,
   "metadata": {
    "id": "zkuQjpUJM8WN"
   },
   "outputs": [],
   "source": [
    "render_video = False"
   ]
  },
  {
   "cell_type": "code",
   "execution_count": 88,
   "metadata": {
    "id": "iIyXwOmlnwmv"
   },
   "outputs": [],
   "source": [
    "if render_video:\n",
    "  p_state, v_state = make_init_state(128)\n",
    "  v_state *= 0\n",
    "  grid_res = 384\n",
    "  with VideoWriter(fps=60) as vw:\n",
    "    for i in tqdm(range(1000)):\n",
    "        render = fast_draw_par(p_state, v_state, grid_res, grid_res, p_size=3.0)\n",
    "        vw.add(render)\n",
    "        p_state, v_state = fast_sim_update_force(p_state, v_state, t_delta=0.05, scale=10, center_mag=0.5, repel_mag=0.05, damp=0.996, steps=2)"
   ]
  },
  {
   "cell_type": "code",
   "execution_count": 89,
   "metadata": {
    "id": "PkzYIHXZ5-rz"
   },
   "outputs": [],
   "source": [
    "if render_video:\n",
    "  p_state, v_state = make_init_state(512)\n",
    "  v_state *= 0\n",
    "  grid_res = 256\n",
    "  with VideoWriter(fps=60) as vw:\n",
    "    for i in tqdm(range(1000)):\n",
    "        render = fast_draw_par(p_state, v_state, grid_res, grid_res, opacity=0.5, p_size=3.0)\n",
    "        vw.add(render)\n",
    "        p_state, v_state = fast_sim_update_force(p_state, v_state, t_delta=0.05, scale=20, center_mag=0.5, repel_mag=0.05, damp=0.998, steps=4)"
   ]
  },
  {
   "cell_type": "code",
   "execution_count": 90,
   "metadata": {
    "colab": {
     "base_uri": "https://localhost:8080/"
    },
    "id": "iktyz4JeiPeR",
    "outputId": "5d8c4d89-ead1-4214-d961-72bf673f9df1"
   },
   "outputs": [
    {
     "name": "stdout",
     "output_type": "stream",
     "text": [
      "Mon Oct  4 03:01:47 2021       \r\n",
      "+-----------------------------------------------------------------------------+\r\n",
      "| NVIDIA-SMI 460.80       Driver Version: 460.80       CUDA Version: 11.2     |\r\n",
      "|-------------------------------+----------------------+----------------------+\r\n",
      "| GPU  Name        Persistence-M| Bus-Id        Disp.A | Volatile Uncorr. ECC |\r\n",
      "| Fan  Temp  Perf  Pwr:Usage/Cap|         Memory-Usage | GPU-Util  Compute M. |\r\n",
      "|                               |                      |               MIG M. |\r\n",
      "|===============================+======================+======================|\r\n",
      "|   0  GeForce GTX 108...  Off  | 00000000:09:00.0 Off |                  N/A |\r\n",
      "| 15%   56C    P2    75W / 150W |  10078MiB / 11177MiB |      0%      Default |\r\n",
      "|                               |                      |                  N/A |\r\n",
      "+-------------------------------+----------------------+----------------------+\r\n",
      "                                                                               \r\n",
      "+-----------------------------------------------------------------------------+\r\n",
      "| Processes:                                                                  |\r\n",
      "|  GPU   GI   CI        PID   Type   Process name                  GPU Memory |\r\n",
      "|        ID   ID                                                   Usage      |\r\n",
      "|=============================================================================|\r\n",
      "+-----------------------------------------------------------------------------+\r\n"
     ]
    }
   ],
   "source": [
    "!nvidia-smi"
   ]
  },
  {
   "cell_type": "code",
   "execution_count": 56,
   "metadata": {
    "id": "ELDYTy1n5-w7"
   },
   "outputs": [],
   "source": [
    "p_test = 50\n",
    "res_test = 512"
   ]
  },
  {
   "cell_type": "code",
   "execution_count": 57,
   "metadata": {
    "colab": {
     "base_uri": "https://localhost:8080/"
    },
    "id": "1uZTpC0e6KlS",
    "outputId": "fb63ef38-4b45-4247-e2be-6cc4761bb0d0"
   },
   "outputs": [
    {
     "name": "stdout",
     "output_type": "stream",
     "text": [
      "287 ms ± 5.14 ms per loop (mean ± std. dev. of 7 runs, 1 loop each)\n"
     ]
    }
   ],
   "source": [
    "%%timeit\n",
    "draw_sim(*make_init_state(p_test), res_test, res_test)"
   ]
  },
  {
   "cell_type": "code",
   "execution_count": 58,
   "metadata": {
    "colab": {
     "base_uri": "https://localhost:8080/"
    },
    "id": "-Y8xAUZ36KiV",
    "outputId": "d5e2e06f-c152-466a-e577-632bec7b7813"
   },
   "outputs": [
    {
     "name": "stdout",
     "output_type": "stream",
     "text": [
      "19 ms ± 324 µs per loop (mean ± std. dev. of 7 runs, 100 loops each)\n"
     ]
    }
   ],
   "source": [
    "%%timeit\n",
    "draw_sim_par(*make_init_state(p_test), res_test, res_test)"
   ]
  },
  {
   "cell_type": "code",
   "execution_count": 74,
   "metadata": {
    "colab": {
     "base_uri": "https://localhost:8080/"
    },
    "id": "pbwZOyAm0xNJ",
    "outputId": "8ee489b5-876e-4f0f-94fa-abcfa0683851"
   },
   "outputs": [
    {
     "name": "stdout",
     "output_type": "stream",
     "text": [
      "1.99 ms ± 3.74 µs per loop (mean ± std. dev. of 7 runs, 1000 loops each)\n"
     ]
    }
   ],
   "source": [
    "%%timeit\n",
    "fast_draw(*make_init_state(p_test), res_test, res_test)"
   ]
  },
  {
   "cell_type": "code",
   "execution_count": 75,
   "metadata": {
    "colab": {
     "base_uri": "https://localhost:8080/"
    },
    "id": "SFAN_sq90kZT",
    "outputId": "c8e2775c-f9d8-4b57-bee5-3e8fde1e2b84"
   },
   "outputs": [
    {
     "name": "stdout",
     "output_type": "stream",
     "text": [
      "1.03 ms ± 8.01 µs per loop (mean ± std. dev. of 7 runs, 1000 loops each)\n"
     ]
    }
   ],
   "source": [
    "%%timeit\n",
    "fast_draw_par(*make_init_state(p_test), res_test, res_test)"
   ]
  },
  {
   "cell_type": "code",
   "execution_count": null,
   "metadata": {},
   "outputs": [],
   "source": []
  },
  {
   "cell_type": "code",
   "execution_count": 61,
   "metadata": {},
   "outputs": [],
   "source": [
    "import ffmpeg\n",
    "import logging\n",
    "import numpy as np\n",
    "import os\n",
    "import subprocess"
   ]
  },
  {
   "cell_type": "code",
   "execution_count": 62,
   "metadata": {},
   "outputs": [],
   "source": [
    "logger = logging.getLogger(__name__)\n",
    "logging.basicConfig(level=logging.INFO)\n",
    "\n",
    "def start_ffmpeg_process2(key, width, height):\n",
    "    logger.info('Starting ffmpeg process2')\n",
    "    args = f'ffmpeg -re -f lavfi -i anullsrc=channel_layout=stereo:sample_rate=44100 -f rawvideo -s {width}x{height} -pix_fmt rgb24 -i pipe: -c:v libx264 -preset veryfast -b:v 3000k -maxrate 3000k -bufsize 6000k -pix_fmt yuv420p -g 50 -c:a aac -b:a 160k -ac 2 -ar 44100 -f flv rtmp://a.rtmp.youtube.com/live2/{key}'\n",
    "    return subprocess.Popen(args.split(), stdin=subprocess.PIPE)\n",
    "\n",
    "def write_frame(process2, frame):\n",
    "    logger.debug('Writing frame')\n",
    "    process2.stdin.write(\n",
    "        frame\n",
    "        .astype(np.uint8)\n",
    "        .tobytes()\n",
    "    )\n",
    "\n",
    "def run(key, process_frame, width, height):\n",
    "\n",
    "    process2 = start_ffmpeg_process2(key, width, height)\n",
    "    while True:\n",
    "        logger.debug('Processing frame')\n",
    "        out_frame = process_frame()#(in_frame)\n",
    "        write_frame(process2, out_frame)\n",
    "\n",
    "    logger.info('Waiting for ffmpeg process2')\n",
    "    process2.stdin.close()\n",
    "    process2.wait()\n",
    "\n",
    "    logger.info('Done')\n"
   ]
  },
  {
   "cell_type": "code",
   "execution_count": 94,
   "metadata": {},
   "outputs": [],
   "source": [
    "import json"
   ]
  },
  {
   "cell_type": "code",
   "execution_count": 97,
   "metadata": {},
   "outputs": [],
   "source": [
    "class SimRunner():\n",
    "    \n",
    "    def __init__(self, pcount, grid_x, grid_y):\n",
    "        self.pcount = pcount\n",
    "        self.p_state, self.v_state = make_init_state(pcount)\n",
    "        self.v_state *= 0\n",
    "        self.grid_x = grid_x\n",
    "        self.grid_y = grid_y\n",
    "        self.fcount = 0\n",
    "        \n",
    "    def next_frame(self):\n",
    "        with open('test_col.json') as f:\n",
    "            col = jnp.array(json.load(f))\n",
    "        render = fast_draw_par(self.p_state, self.v_state, self.grid_x, self.grid_y, opacity=0.8, p_size=5.0, pcol=col)\n",
    "        if (self.fcount % 800 == 799):\n",
    "            self.v_state += 0.2*(random.rand(self.pcount, 2)-0.5)\n",
    "        self.p_state, self.v_state = fast_sim_update_force(self.p_state, self.v_state, t_delta=0.05, scale=20, center_mag=0.5, repel_mag=0.05, damp=0.995, steps=2)\n",
    "        self.fcount += 1\n",
    "        return render*255"
   ]
  },
  {
   "cell_type": "code",
   "execution_count": 98,
   "metadata": {},
   "outputs": [
    {
     "data": {
      "text/plain": [
       "DeviceArray(255., dtype=float32)"
      ]
     },
     "execution_count": 98,
     "metadata": {},
     "output_type": "execute_result"
    }
   ],
   "source": [
    "test = SimRunner(256, 512, 512)\n",
    "test.next_frame().max()\n",
    "#plt.imshow(test.next_frame())"
   ]
  },
  {
   "cell_type": "code",
   "execution_count": null,
   "metadata": {},
   "outputs": [
    {
     "name": "stderr",
     "output_type": "stream",
     "text": [
      "ffmpeg version 4.2.4-1ubuntu0.1 Copyright (c) 2000-2020 the FFmpeg developers\n",
      "  built with gcc 9 (Ubuntu 9.3.0-10ubuntu2)\n",
      "  configuration: --prefix=/usr --extra-version=1ubuntu0.1 --toolchain=hardened --libdir=/usr/lib/x86_64-linux-gnu --incdir=/usr/include/x86_64-linux-gnu --arch=amd64 --enable-gpl --disable-stripping --enable-avresample --disable-filter=resample --enable-avisynth --enable-gnutls --enable-ladspa --enable-libaom --enable-libass --enable-libbluray --enable-libbs2b --enable-libcaca --enable-libcdio --enable-libcodec2 --enable-libflite --enable-libfontconfig --enable-libfreetype --enable-libfribidi --enable-libgme --enable-libgsm --enable-libjack --enable-libmp3lame --enable-libmysofa --enable-libopenjpeg --enable-libopenmpt --enable-libopus --enable-libpulse --enable-librsvg --enable-librubberband --enable-libshine --enable-libsnappy --enable-libsoxr --enable-libspeex --enable-libssh --enable-libtheora --enable-libtwolame --enable-libvidstab --enable-libvorbis --enable-libvpx --enable-libwavpack --enable-libwebp --enable-libx265 --enable-libxml2 --enable-libxvid --enable-libzmq --enable-libzvbi --enable-lv2 --enable-omx --enable-openal --enable-opencl --enable-opengl --enable-sdl2 --enable-libdc1394 --enable-libdrm --enable-libiec61883 --enable-nvenc --enable-chromaprint --enable-frei0r --enable-libx264 --enable-shared\n",
      "  libavutil      56. 31.100 / 56. 31.100\n",
      "  libavcodec     58. 54.100 / 58. 54.100\n",
      "  libavformat    58. 29.100 / 58. 29.100\n",
      "  libavdevice    58.  8.100 / 58.  8.100\n",
      "  libavfilter     7. 57.100 /  7. 57.100\n",
      "  libavresample   4.  0.  0 /  4.  0.  0\n",
      "  libswscale      5.  5.100 /  5.  5.100\n",
      "  libswresample   3.  5.100 /  3.  5.100\n",
      "  libpostproc    55.  5.100 / 55.  5.100\n",
      "Input #0, lavfi, from 'anullsrc=channel_layout=stereo:sample_rate=44100':\n",
      "  Duration: N/A, start: 0.000000, bitrate: 705 kb/s\n",
      "    Stream #0:0: Audio: pcm_u8, 44100 Hz, stereo, u8, 705 kb/s\n",
      "Input #1, rawvideo, from 'pipe:':\n",
      "  Duration: N/A, start: 0.000000, bitrate: 552960 kb/s\n",
      "    Stream #1:0: Video: rawvideo (RGB[24] / 0x18424752), rgb24, 1280x720, 552960 kb/s, 25 tbr, 25 tbn, 25 tbc\n",
      "Stream mapping:\n",
      "  Stream #1:0 -> #0:0 (rawvideo (native) -> h264 (libx264))\n",
      "  Stream #0:0 -> #0:1 (pcm_u8 (native) -> aac (native))\n",
      "[libx264 @ 0x55d64c001080] using cpu capabilities: MMX2 SSE2Fast SSSE3 SSE4.2 AVX FMA3 BMI2 AVX2\n",
      "[libx264 @ 0x55d64c001080] profile High, level 3.1\n",
      "[libx264 @ 0x55d64c001080] 264 - core 155 r2917 0a84d98 - H.264/MPEG-4 AVC codec - Copyleft 2003-2018 - http://www.videolan.org/x264.html - options: cabac=1 ref=1 deblock=1:0:0 analyse=0x3:0x113 me=hex subme=2 psy=1 psy_rd=1.00:0.00 mixed_ref=0 me_range=16 chroma_me=1 trellis=0 8x8dct=1 cqm=0 deadzone=21,11 fast_pskip=1 chroma_qp_offset=0 threads=18 lookahead_threads=5 sliced_threads=0 nr=0 decimate=1 interlaced=0 bluray_compat=0 constrained_intra=0 bframes=3 b_pyramid=2 b_adapt=1 b_bias=0 direct=1 weightb=1 open_gop=0 weightp=1 keyint=50 keyint_min=5 scenecut=40 intra_refresh=0 rc_lookahead=10 rc=cbr mbtree=1 bitrate=3000 ratetol=1.0 qcomp=0.60 qpmin=0 qpmax=69 qpstep=4 vbv_maxrate=3000 vbv_bufsize=6000 nal_hrd=none filler=0 ip_ratio=1.40 aq=1:1.00\n",
      "Output #0, flv, to 'rtmp://a.rtmp.youtube.com/live2/gjhh-kvup-9fhh-fbe7-4402':\n",
      "  Metadata:\n",
      "    encoder         : Lavf58.29.100\n",
      "    Stream #0:0: Video: h264 (libx264) ([7][0][0][0] / 0x0007), yuv420p(progressive), 1280x720, q=-1--1, 3000 kb/s, 25 fps, 1k tbn, 25 tbc\n",
      "    Metadata:\n",
      "      encoder         : Lavc58.54.100 libx264\n",
      "    Side data:\n",
      "      cpb: bitrate max/min/avg: 3000000/0/3000000 buffer size: 6000000 vbv_delay: -1\n",
      "    Stream #0:1: Audio: aac (LC) ([10][0][0][0] / 0x000A), 44100 Hz, stereo, fltp, 160 kb/s\n",
      "    Metadata:\n",
      "      encoder         : Lavc58.54.100 aac\n",
      "[rawvideo @ 0x55d64bffc840] Thread message queue blocking; consider raising the thread_queue_size option (current value: 8)\n",
      "frame=15872 fps= 25 q=10.0 size=  222140kB time=00:10:33.51 bitrate=2872.5kbits/s speed=   1x     \r"
     ]
    }
   ],
   "source": [
    "try:\n",
    "    res_x, res_y = 1280, 720\n",
    "    sr = SimRunner(384, res_x, res_y)\n",
    "    run('gjhh-kvup-9fhh-fbe7-4402', sr.next_frame, res_x, res_y)\n",
    "except ffmpeg.Error as e:\n",
    "    print('stdout:', e.stdout.decode('utf8'))\n",
    "    print('stderr:', e.stderr.decode('utf8'))\n",
    "    raise e"
   ]
  },
  {
   "cell_type": "code",
   "execution_count": null,
   "metadata": {},
   "outputs": [],
   "source": []
  },
  {
   "cell_type": "code",
   "execution_count": null,
   "metadata": {},
   "outputs": [],
   "source": []
  }
 ],
 "metadata": {
  "accelerator": "GPU",
  "colab": {
   "authorship_tag": "ABX9TyMS8xCju6T0DW4/yMyAM8oi",
   "include_colab_link": true,
   "name": "nbody.ipynb",
   "provenance": []
  },
  "kernelspec": {
   "display_name": "Python 3 (ipykernel)",
   "language": "python",
   "name": "python3"
  },
  "language_info": {
   "codemirror_mode": {
    "name": "ipython",
    "version": 3
   },
   "file_extension": ".py",
   "mimetype": "text/x-python",
   "name": "python",
   "nbconvert_exporter": "python",
   "pygments_lexer": "ipython3",
   "version": "3.8.10"
  }
 },
 "nbformat": 4,
 "nbformat_minor": 1
}
