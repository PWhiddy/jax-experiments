{
  "nbformat": 4,
  "nbformat_minor": 0,
  "metadata": {
    "colab": {
      "name": "Jax-XLA-IR-Tests.ipynb",
      "provenance": [],
      "authorship_tag": "ABX9TyMc4/q6MGawe6Xi2adoQCBg"
    },
    "kernelspec": {
      "name": "python3",
      "display_name": "Python 3"
    },
    "language_info": {
      "name": "python"
    }
  },
  "cells": [
    {
      "cell_type": "code",
      "execution_count": 104,
      "metadata": {
        "id": "owCBvUDLuSW-"
      },
      "outputs": [],
      "source": [
        "import jax\n",
        "import jax.numpy as jnp\n",
        "from jax import jit, vmap, grad\n",
        "import jax.scipy as jsp\n",
        "\n",
        "import jaxlib.xla_extension as xla_ext"
      ]
    },
    {
      "cell_type": "markdown",
      "source": [
        "Example Ref - https://github.com/google/jax/discussions/7068\n",
        "```python\n",
        "# You could use the presets\n",
        "option = xla_ext.HloPrintOptions.short_parsable()\n",
        "print(module.to_string(option))\n",
        "\n",
        "option = xla_ext.HloPrintOptions.canonical()\n",
        "print(module.to_string(option))\n",
        "\n",
        "option = xla_ext.HloPrintOptions.fingerprint()\n",
        "print(module.to_string(option))\n",
        "\n",
        "# Or set each option manually\n",
        "option = xla_ext.HloPrintOptions()\n",
        "option.print_metadata = False\n",
        "option.include_layout_in_shapes = False\n",
        "print(module.to_string(option))\n",
        "```"
      ],
      "metadata": {
        "id": "jv_cdPpquomI"
      }
    },
    {
      "cell_type": "code",
      "source": [
        "def f(x):\n",
        "  return jnp.sin(x)\n",
        "\n",
        "c = jax.xla_computation(f)(1.)\n",
        "\n",
        "backend = jax.lib.xla_bridge.get_backend()\n",
        "computy = backend.compile(c)"
      ],
      "metadata": {
        "id": "v_hIP5lruV3z"
      },
      "execution_count": 8,
      "outputs": []
    },
    {
      "cell_type": "code",
      "source": [
        "def b(a, b, c):\n",
        "    return a * b * c"
      ],
      "metadata": {
        "id": "hrdPsmt3upeI"
      },
      "execution_count": 20,
      "outputs": []
    },
    {
      "cell_type": "code",
      "source": [
        "def matty(a, b):\n",
        "  return jnp.matmul(a,b) + 1 - 1 + 1"
      ],
      "metadata": {
        "id": "EPgPfxJQyA9n"
      },
      "execution_count": 32,
      "outputs": []
    },
    {
      "cell_type": "code",
      "source": [
        "def get_optimized_func(f, args, static_argnums=None):\n",
        "  if static_argnums is not None:\n",
        "    c = jax.xla_computation(f, static_argnums=static_argnums)(*args)\n",
        "  else:\n",
        "    c = jax.xla_computation(f)(*args)\n",
        "\n",
        "  backend = jax.lib.xla_bridge.get_backend()\n",
        "  e = backend.compile(c)\n",
        "  # hlo python object binding lives at\n",
        "  # https://github.com/tensorflow/tensorflow/blob/master/tensorflow/compiler/xla/python/xla_compiler.cc\n",
        "  print_options = xla_ext.HloPrintOptions\n",
        "  standard_option_types = [print_options.short_parsable(), print_options.canonical(), print_options.fingerprint()]\n",
        "  option = standard_option_types[0]\n",
        "  #option = xla_ext.HloPrintOptions()\n",
        "  #option.print_metadata = False\n",
        "  #option.include_layout_in_shapes = False\n",
        "  return e\n",
        "  #return e.hlo_modules()[0].to_string(option)\n"
      ],
      "metadata": {
        "id": "vilfKOTZvDc5"
      },
      "execution_count": 97,
      "outputs": []
    },
    {
      "cell_type": "code",
      "source": [
        "print(get_optimized_func(f, (1.0,)))"
      ],
      "metadata": {
        "colab": {
          "base_uri": "https://localhost:8080/"
        },
        "id": "_3B7rj3qxGxG",
        "outputId": "ecd16d4c-d548-460b-b5d9-7ad0ba9bdcb9"
      },
      "execution_count": 84,
      "outputs": [
        {
          "output_type": "stream",
          "name": "stdout",
          "text": [
            "<jaxlib.xla_extension.Executable object at 0x7f4118720630>\n"
          ]
        },
        {
          "output_type": "execute_result",
          "data": {
            "text/plain": [
              "<function NoneType.__dir__>"
            ]
          },
          "metadata": {},
          "execution_count": 84
        }
      ]
    },
    {
      "cell_type": "code",
      "source": [
        "jax.lax.conv(jnp.ones((5,5,3)), jnp.ones((5,5,3)), (1,1), \"SAME\")"
      ],
      "metadata": {
        "colab": {
          "base_uri": "https://localhost:8080/",
          "height": 329
        },
        "id": "g-UX4l8sGYQ9",
        "outputId": "a1708bcc-466b-478f-c47b-3193e6ee4db9"
      },
      "execution_count": 103,
      "outputs": [
        {
          "output_type": "error",
          "ename": "ValueError",
          "evalue": "ignored",
          "traceback": [
            "\u001b[0;31m---------------------------------------------------------------------------\u001b[0m",
            "\u001b[0;31mValueError\u001b[0m                                Traceback (most recent call last)",
            "\u001b[0;32m<ipython-input-103-f321842839a3>\u001b[0m in \u001b[0;36m<module>\u001b[0;34m()\u001b[0m\n\u001b[0;32m----> 1\u001b[0;31m \u001b[0mjax\u001b[0m\u001b[0;34m.\u001b[0m\u001b[0mlax\u001b[0m\u001b[0;34m.\u001b[0m\u001b[0mconv\u001b[0m\u001b[0;34m(\u001b[0m\u001b[0mjnp\u001b[0m\u001b[0;34m.\u001b[0m\u001b[0mones\u001b[0m\u001b[0;34m(\u001b[0m\u001b[0;34m(\u001b[0m\u001b[0;36m5\u001b[0m\u001b[0;34m,\u001b[0m\u001b[0;36m5\u001b[0m\u001b[0;34m,\u001b[0m\u001b[0;36m3\u001b[0m\u001b[0;34m)\u001b[0m\u001b[0;34m)\u001b[0m\u001b[0;34m,\u001b[0m \u001b[0mjnp\u001b[0m\u001b[0;34m.\u001b[0m\u001b[0mones\u001b[0m\u001b[0;34m(\u001b[0m\u001b[0;34m(\u001b[0m\u001b[0;36m5\u001b[0m\u001b[0;34m,\u001b[0m\u001b[0;36m5\u001b[0m\u001b[0;34m,\u001b[0m\u001b[0;36m3\u001b[0m\u001b[0;34m)\u001b[0m\u001b[0;34m)\u001b[0m\u001b[0;34m,\u001b[0m \u001b[0;34m(\u001b[0m\u001b[0;36m1\u001b[0m\u001b[0;34m,\u001b[0m\u001b[0;36m1\u001b[0m\u001b[0;34m)\u001b[0m\u001b[0;34m,\u001b[0m \u001b[0;34m\"SAME\"\u001b[0m\u001b[0;34m)\u001b[0m\u001b[0;34m\u001b[0m\u001b[0;34m\u001b[0m\u001b[0m\n\u001b[0m",
            "\u001b[0;32m/usr/local/lib/python3.7/dist-packages/jax/_src/lax/convolution.py\u001b[0m in \u001b[0;36mconv\u001b[0;34m(lhs, rhs, window_strides, padding, precision, preferred_element_type)\u001b[0m\n\u001b[1;32m    193\u001b[0m   return conv_general_dilated(lhs, rhs, window_strides, padding,\n\u001b[1;32m    194\u001b[0m                               \u001b[0mprecision\u001b[0m\u001b[0;34m=\u001b[0m\u001b[0mprecision\u001b[0m\u001b[0;34m,\u001b[0m\u001b[0;34m\u001b[0m\u001b[0;34m\u001b[0m\u001b[0m\n\u001b[0;32m--> 195\u001b[0;31m                               preferred_element_type=preferred_element_type)\n\u001b[0m\u001b[1;32m    196\u001b[0m \u001b[0;34m\u001b[0m\u001b[0m\n\u001b[1;32m    197\u001b[0m def conv_with_general_padding(lhs: Array, rhs: Array,\n",
            "\u001b[0;32m/usr/local/lib/python3.7/dist-packages/jax/_src/lax/convolution.py\u001b[0m in \u001b[0;36mconv_general_dilated\u001b[0;34m(lhs, rhs, window_strides, padding, lhs_dilation, rhs_dilation, dimension_numbers, feature_group_count, batch_group_count, precision, preferred_element_type)\u001b[0m\n\u001b[1;32m    163\u001b[0m       \u001b[0mlhs_shape\u001b[0m\u001b[0;34m=\u001b[0m\u001b[0mlhs\u001b[0m\u001b[0;34m.\u001b[0m\u001b[0mshape\u001b[0m\u001b[0;34m,\u001b[0m \u001b[0mrhs_shape\u001b[0m\u001b[0;34m=\u001b[0m\u001b[0mrhs\u001b[0m\u001b[0;34m.\u001b[0m\u001b[0mshape\u001b[0m\u001b[0;34m,\u001b[0m\u001b[0;34m\u001b[0m\u001b[0;34m\u001b[0m\u001b[0m\n\u001b[1;32m    164\u001b[0m       \u001b[0mprecision\u001b[0m\u001b[0;34m=\u001b[0m\u001b[0mlax\u001b[0m\u001b[0;34m.\u001b[0m\u001b[0mcanonicalize_precision\u001b[0m\u001b[0;34m(\u001b[0m\u001b[0mprecision\u001b[0m\u001b[0;34m)\u001b[0m\u001b[0;34m,\u001b[0m\u001b[0;34m\u001b[0m\u001b[0;34m\u001b[0m\u001b[0m\n\u001b[0;32m--> 165\u001b[0;31m       preferred_element_type=preferred_element_type)\n\u001b[0m\u001b[1;32m    166\u001b[0m \u001b[0;34m\u001b[0m\u001b[0m\n\u001b[1;32m    167\u001b[0m \u001b[0;34m\u001b[0m\u001b[0m\n",
            "\u001b[0;32m/usr/local/lib/python3.7/dist-packages/jax/core.py\u001b[0m in \u001b[0;36mbind\u001b[0;34m(self, *args, **params)\u001b[0m\n\u001b[1;32m    325\u001b[0m     assert (not config.jax_enable_checks or\n\u001b[1;32m    326\u001b[0m             all(isinstance(arg, Tracer) or valid_jaxtype(arg) for arg in args)), args\n\u001b[0;32m--> 327\u001b[0;31m     \u001b[0;32mreturn\u001b[0m \u001b[0mself\u001b[0m\u001b[0;34m.\u001b[0m\u001b[0mbind_with_trace\u001b[0m\u001b[0;34m(\u001b[0m\u001b[0mfind_top_trace\u001b[0m\u001b[0;34m(\u001b[0m\u001b[0margs\u001b[0m\u001b[0;34m)\u001b[0m\u001b[0;34m,\u001b[0m \u001b[0margs\u001b[0m\u001b[0;34m,\u001b[0m \u001b[0mparams\u001b[0m\u001b[0;34m)\u001b[0m\u001b[0;34m\u001b[0m\u001b[0;34m\u001b[0m\u001b[0m\n\u001b[0m\u001b[1;32m    328\u001b[0m \u001b[0;34m\u001b[0m\u001b[0m\n\u001b[1;32m    329\u001b[0m   \u001b[0;32mdef\u001b[0m \u001b[0mbind_with_trace\u001b[0m\u001b[0;34m(\u001b[0m\u001b[0mself\u001b[0m\u001b[0;34m,\u001b[0m \u001b[0mtrace\u001b[0m\u001b[0;34m,\u001b[0m \u001b[0margs\u001b[0m\u001b[0;34m,\u001b[0m \u001b[0mparams\u001b[0m\u001b[0;34m)\u001b[0m\u001b[0;34m:\u001b[0m\u001b[0;34m\u001b[0m\u001b[0;34m\u001b[0m\u001b[0m\n",
            "\u001b[0;32m/usr/local/lib/python3.7/dist-packages/jax/core.py\u001b[0m in \u001b[0;36mbind_with_trace\u001b[0;34m(self, trace, args, params)\u001b[0m\n\u001b[1;32m    328\u001b[0m \u001b[0;34m\u001b[0m\u001b[0m\n\u001b[1;32m    329\u001b[0m   \u001b[0;32mdef\u001b[0m \u001b[0mbind_with_trace\u001b[0m\u001b[0;34m(\u001b[0m\u001b[0mself\u001b[0m\u001b[0;34m,\u001b[0m \u001b[0mtrace\u001b[0m\u001b[0;34m,\u001b[0m \u001b[0margs\u001b[0m\u001b[0;34m,\u001b[0m \u001b[0mparams\u001b[0m\u001b[0;34m)\u001b[0m\u001b[0;34m:\u001b[0m\u001b[0;34m\u001b[0m\u001b[0;34m\u001b[0m\u001b[0m\n\u001b[0;32m--> 330\u001b[0;31m     \u001b[0mout\u001b[0m \u001b[0;34m=\u001b[0m \u001b[0mtrace\u001b[0m\u001b[0;34m.\u001b[0m\u001b[0mprocess_primitive\u001b[0m\u001b[0;34m(\u001b[0m\u001b[0mself\u001b[0m\u001b[0;34m,\u001b[0m \u001b[0mmap\u001b[0m\u001b[0;34m(\u001b[0m\u001b[0mtrace\u001b[0m\u001b[0;34m.\u001b[0m\u001b[0mfull_raise\u001b[0m\u001b[0;34m,\u001b[0m \u001b[0margs\u001b[0m\u001b[0;34m)\u001b[0m\u001b[0;34m,\u001b[0m \u001b[0mparams\u001b[0m\u001b[0;34m)\u001b[0m\u001b[0;34m\u001b[0m\u001b[0;34m\u001b[0m\u001b[0m\n\u001b[0m\u001b[1;32m    331\u001b[0m     \u001b[0;32mreturn\u001b[0m \u001b[0mmap\u001b[0m\u001b[0;34m(\u001b[0m\u001b[0mfull_lower\u001b[0m\u001b[0;34m,\u001b[0m \u001b[0mout\u001b[0m\u001b[0;34m)\u001b[0m \u001b[0;32mif\u001b[0m \u001b[0mself\u001b[0m\u001b[0;34m.\u001b[0m\u001b[0mmultiple_results\u001b[0m \u001b[0;32melse\u001b[0m \u001b[0mfull_lower\u001b[0m\u001b[0;34m(\u001b[0m\u001b[0mout\u001b[0m\u001b[0;34m)\u001b[0m\u001b[0;34m\u001b[0m\u001b[0;34m\u001b[0m\u001b[0m\n\u001b[1;32m    332\u001b[0m \u001b[0;34m\u001b[0m\u001b[0m\n",
            "\u001b[0;32m/usr/local/lib/python3.7/dist-packages/jax/core.py\u001b[0m in \u001b[0;36mprocess_primitive\u001b[0;34m(self, primitive, tracers, params)\u001b[0m\n\u001b[1;32m    678\u001b[0m \u001b[0;34m\u001b[0m\u001b[0m\n\u001b[1;32m    679\u001b[0m   \u001b[0;32mdef\u001b[0m \u001b[0mprocess_primitive\u001b[0m\u001b[0;34m(\u001b[0m\u001b[0mself\u001b[0m\u001b[0;34m,\u001b[0m \u001b[0mprimitive\u001b[0m\u001b[0;34m,\u001b[0m \u001b[0mtracers\u001b[0m\u001b[0;34m,\u001b[0m \u001b[0mparams\u001b[0m\u001b[0;34m)\u001b[0m\u001b[0;34m:\u001b[0m\u001b[0;34m\u001b[0m\u001b[0;34m\u001b[0m\u001b[0m\n\u001b[0;32m--> 680\u001b[0;31m     \u001b[0;32mreturn\u001b[0m \u001b[0mprimitive\u001b[0m\u001b[0;34m.\u001b[0m\u001b[0mimpl\u001b[0m\u001b[0;34m(\u001b[0m\u001b[0;34m*\u001b[0m\u001b[0mtracers\u001b[0m\u001b[0;34m,\u001b[0m \u001b[0;34m**\u001b[0m\u001b[0mparams\u001b[0m\u001b[0;34m)\u001b[0m\u001b[0;34m\u001b[0m\u001b[0;34m\u001b[0m\u001b[0m\n\u001b[0m\u001b[1;32m    681\u001b[0m \u001b[0;34m\u001b[0m\u001b[0m\n\u001b[1;32m    682\u001b[0m   \u001b[0;32mdef\u001b[0m \u001b[0mprocess_call\u001b[0m\u001b[0;34m(\u001b[0m\u001b[0mself\u001b[0m\u001b[0;34m,\u001b[0m \u001b[0mprimitive\u001b[0m\u001b[0;34m,\u001b[0m \u001b[0mf\u001b[0m\u001b[0;34m,\u001b[0m \u001b[0mtracers\u001b[0m\u001b[0;34m,\u001b[0m \u001b[0mparams\u001b[0m\u001b[0;34m)\u001b[0m\u001b[0;34m:\u001b[0m\u001b[0;34m\u001b[0m\u001b[0;34m\u001b[0m\u001b[0m\n",
            "\u001b[0;32m/usr/local/lib/python3.7/dist-packages/jax/_src/dispatch.py\u001b[0m in \u001b[0;36mapply_primitive\u001b[0;34m(prim, *args, **params)\u001b[0m\n\u001b[1;32m     98\u001b[0m   \u001b[0;34m\"\"\"Impl rule that compiles and runs a single primitive 'prim' using XLA.\"\"\"\u001b[0m\u001b[0;34m\u001b[0m\u001b[0;34m\u001b[0m\u001b[0m\n\u001b[1;32m     99\u001b[0m   compiled_fun = xla_primitive_callable(prim, *unsafe_map(arg_spec, args),\n\u001b[0;32m--> 100\u001b[0;31m                                         **params)\n\u001b[0m\u001b[1;32m    101\u001b[0m   \u001b[0;32mreturn\u001b[0m \u001b[0mcompiled_fun\u001b[0m\u001b[0;34m(\u001b[0m\u001b[0;34m*\u001b[0m\u001b[0margs\u001b[0m\u001b[0;34m)\u001b[0m\u001b[0;34m\u001b[0m\u001b[0;34m\u001b[0m\u001b[0m\n\u001b[1;32m    102\u001b[0m \u001b[0;34m\u001b[0m\u001b[0m\n",
            "\u001b[0;32m/usr/local/lib/python3.7/dist-packages/jax/_src/util.py\u001b[0m in \u001b[0;36mwrapper\u001b[0;34m(*args, **kwargs)\u001b[0m\n\u001b[1;32m    217\u001b[0m         \u001b[0;32mreturn\u001b[0m \u001b[0mf\u001b[0m\u001b[0;34m(\u001b[0m\u001b[0;34m*\u001b[0m\u001b[0margs\u001b[0m\u001b[0;34m,\u001b[0m \u001b[0;34m**\u001b[0m\u001b[0mkwargs\u001b[0m\u001b[0;34m)\u001b[0m\u001b[0;34m\u001b[0m\u001b[0;34m\u001b[0m\u001b[0m\n\u001b[1;32m    218\u001b[0m       \u001b[0;32melse\u001b[0m\u001b[0;34m:\u001b[0m\u001b[0;34m\u001b[0m\u001b[0;34m\u001b[0m\u001b[0m\n\u001b[0;32m--> 219\u001b[0;31m         \u001b[0;32mreturn\u001b[0m \u001b[0mcached\u001b[0m\u001b[0;34m(\u001b[0m\u001b[0mconfig\u001b[0m\u001b[0;34m.\u001b[0m\u001b[0m_trace_context\u001b[0m\u001b[0;34m(\u001b[0m\u001b[0;34m)\u001b[0m\u001b[0;34m,\u001b[0m \u001b[0;34m*\u001b[0m\u001b[0margs\u001b[0m\u001b[0;34m,\u001b[0m \u001b[0;34m**\u001b[0m\u001b[0mkwargs\u001b[0m\u001b[0;34m)\u001b[0m\u001b[0;34m\u001b[0m\u001b[0;34m\u001b[0m\u001b[0m\n\u001b[0m\u001b[1;32m    220\u001b[0m \u001b[0;34m\u001b[0m\u001b[0m\n\u001b[1;32m    221\u001b[0m     \u001b[0mwrapper\u001b[0m\u001b[0;34m.\u001b[0m\u001b[0mcache_clear\u001b[0m \u001b[0;34m=\u001b[0m \u001b[0mcached\u001b[0m\u001b[0;34m.\u001b[0m\u001b[0mcache_clear\u001b[0m\u001b[0;34m\u001b[0m\u001b[0;34m\u001b[0m\u001b[0m\n",
            "\u001b[0;32m/usr/local/lib/python3.7/dist-packages/jax/_src/util.py\u001b[0m in \u001b[0;36mcached\u001b[0;34m(_, *args, **kwargs)\u001b[0m\n\u001b[1;32m    210\u001b[0m     \u001b[0;34m@\u001b[0m\u001b[0mfunctools\u001b[0m\u001b[0;34m.\u001b[0m\u001b[0mlru_cache\u001b[0m\u001b[0;34m(\u001b[0m\u001b[0mmax_size\u001b[0m\u001b[0;34m)\u001b[0m\u001b[0;34m\u001b[0m\u001b[0;34m\u001b[0m\u001b[0m\n\u001b[1;32m    211\u001b[0m     \u001b[0;32mdef\u001b[0m \u001b[0mcached\u001b[0m\u001b[0;34m(\u001b[0m\u001b[0m_\u001b[0m\u001b[0;34m,\u001b[0m \u001b[0;34m*\u001b[0m\u001b[0margs\u001b[0m\u001b[0;34m,\u001b[0m \u001b[0;34m**\u001b[0m\u001b[0mkwargs\u001b[0m\u001b[0;34m)\u001b[0m\u001b[0;34m:\u001b[0m\u001b[0;34m\u001b[0m\u001b[0;34m\u001b[0m\u001b[0m\n\u001b[0;32m--> 212\u001b[0;31m       \u001b[0;32mreturn\u001b[0m \u001b[0mf\u001b[0m\u001b[0;34m(\u001b[0m\u001b[0;34m*\u001b[0m\u001b[0margs\u001b[0m\u001b[0;34m,\u001b[0m \u001b[0;34m**\u001b[0m\u001b[0mkwargs\u001b[0m\u001b[0;34m)\u001b[0m\u001b[0;34m\u001b[0m\u001b[0;34m\u001b[0m\u001b[0m\n\u001b[0m\u001b[1;32m    213\u001b[0m \u001b[0;34m\u001b[0m\u001b[0m\n\u001b[1;32m    214\u001b[0m     \u001b[0;34m@\u001b[0m\u001b[0mfunctools\u001b[0m\u001b[0;34m.\u001b[0m\u001b[0mwraps\u001b[0m\u001b[0;34m(\u001b[0m\u001b[0mf\u001b[0m\u001b[0;34m)\u001b[0m\u001b[0;34m\u001b[0m\u001b[0;34m\u001b[0m\u001b[0m\n",
            "\u001b[0;32m/usr/local/lib/python3.7/dist-packages/jax/_src/dispatch.py\u001b[0m in \u001b[0;36mxla_primitive_callable\u001b[0;34m(prim, *arg_specs, **params)\u001b[0m\n\u001b[1;32m    163\u001b[0m       \u001b[0;32mreturn\u001b[0m \u001b[0mout\u001b[0m\u001b[0;34m,\u001b[0m\u001b[0;34m\u001b[0m\u001b[0;34m\u001b[0m\u001b[0m\n\u001b[1;32m    164\u001b[0m   compiled = _xla_callable_uncached(lu.wrap_init(prim_fun), device, None,\n\u001b[0;32m--> 165\u001b[0;31m                                     prim.name, donated_invars, False, *arg_specs)\n\u001b[0m\u001b[1;32m    166\u001b[0m   \u001b[0;32mif\u001b[0m \u001b[0;32mnot\u001b[0m \u001b[0mprim\u001b[0m\u001b[0;34m.\u001b[0m\u001b[0mmultiple_results\u001b[0m\u001b[0;34m:\u001b[0m\u001b[0;34m\u001b[0m\u001b[0;34m\u001b[0m\u001b[0m\n\u001b[1;32m    167\u001b[0m     \u001b[0;32mreturn\u001b[0m \u001b[0;32mlambda\u001b[0m \u001b[0;34m*\u001b[0m\u001b[0margs\u001b[0m\u001b[0;34m,\u001b[0m \u001b[0;34m**\u001b[0m\u001b[0mkw\u001b[0m\u001b[0;34m:\u001b[0m \u001b[0mcompiled\u001b[0m\u001b[0;34m(\u001b[0m\u001b[0;34m*\u001b[0m\u001b[0margs\u001b[0m\u001b[0;34m,\u001b[0m \u001b[0;34m**\u001b[0m\u001b[0mkw\u001b[0m\u001b[0;34m)\u001b[0m\u001b[0;34m[\u001b[0m\u001b[0;36m0\u001b[0m\u001b[0;34m]\u001b[0m\u001b[0;34m\u001b[0m\u001b[0;34m\u001b[0m\u001b[0m\n",
            "\u001b[0;32m/usr/local/lib/python3.7/dist-packages/jax/_src/dispatch.py\u001b[0m in \u001b[0;36m_xla_callable_uncached\u001b[0;34m(fun, device, backend, name, donated_invars, keep_unused, *arg_specs)\u001b[0m\n\u001b[1;32m    244\u001b[0m                            donated_invars, keep_unused, *arg_specs):\n\u001b[1;32m    245\u001b[0m   return lower_xla_callable(fun, device, backend, name, donated_invars, False,\n\u001b[0;32m--> 246\u001b[0;31m                             keep_unused, *arg_specs).compile().unsafe_call\n\u001b[0m\u001b[1;32m    247\u001b[0m \u001b[0;34m\u001b[0m\u001b[0m\n\u001b[1;32m    248\u001b[0m \u001b[0mxla_callable\u001b[0m \u001b[0;34m=\u001b[0m \u001b[0mlu\u001b[0m\u001b[0;34m.\u001b[0m\u001b[0mcache\u001b[0m\u001b[0;34m(\u001b[0m\u001b[0m_xla_callable_uncached\u001b[0m\u001b[0;34m)\u001b[0m\u001b[0;34m\u001b[0m\u001b[0;34m\u001b[0m\u001b[0m\n",
            "\u001b[0;32m/usr/local/lib/python3.7/dist-packages/jax/_src/profiler.py\u001b[0m in \u001b[0;36mwrapper\u001b[0;34m(*args, **kwargs)\u001b[0m\n\u001b[1;32m    310\u001b[0m   \u001b[0;32mdef\u001b[0m \u001b[0mwrapper\u001b[0m\u001b[0;34m(\u001b[0m\u001b[0;34m*\u001b[0m\u001b[0margs\u001b[0m\u001b[0;34m,\u001b[0m \u001b[0;34m**\u001b[0m\u001b[0mkwargs\u001b[0m\u001b[0;34m)\u001b[0m\u001b[0;34m:\u001b[0m\u001b[0;34m\u001b[0m\u001b[0;34m\u001b[0m\u001b[0m\n\u001b[1;32m    311\u001b[0m     \u001b[0;32mwith\u001b[0m \u001b[0mTraceAnnotation\u001b[0m\u001b[0;34m(\u001b[0m\u001b[0mname\u001b[0m\u001b[0;34m,\u001b[0m \u001b[0;34m**\u001b[0m\u001b[0mdecorator_kwargs\u001b[0m\u001b[0;34m)\u001b[0m\u001b[0;34m:\u001b[0m\u001b[0;34m\u001b[0m\u001b[0;34m\u001b[0m\u001b[0m\n\u001b[0;32m--> 312\u001b[0;31m       \u001b[0;32mreturn\u001b[0m \u001b[0mfunc\u001b[0m\u001b[0;34m(\u001b[0m\u001b[0;34m*\u001b[0m\u001b[0margs\u001b[0m\u001b[0;34m,\u001b[0m \u001b[0;34m**\u001b[0m\u001b[0mkwargs\u001b[0m\u001b[0;34m)\u001b[0m\u001b[0;34m\u001b[0m\u001b[0;34m\u001b[0m\u001b[0m\n\u001b[0m\u001b[1;32m    313\u001b[0m     \u001b[0;32mreturn\u001b[0m \u001b[0mwrapper\u001b[0m\u001b[0;34m\u001b[0m\u001b[0;34m\u001b[0m\u001b[0m\n\u001b[1;32m    314\u001b[0m   \u001b[0;32mreturn\u001b[0m \u001b[0mwrapper\u001b[0m\u001b[0;34m\u001b[0m\u001b[0;34m\u001b[0m\u001b[0m\n",
            "\u001b[0;32m/usr/local/lib/python3.7/dist-packages/jax/_src/dispatch.py\u001b[0m in \u001b[0;36mlower_xla_callable\u001b[0;34m(fun, device, backend, name, donated_invars, always_lower, keep_unused, *arg_specs)\u001b[0m\n\u001b[1;32m    289\u001b[0m                         \"for jit in {elapsed_time} sec\"):\n\u001b[1;32m    290\u001b[0m     jaxpr, out_type, consts = pe.trace_to_jaxpr_final2(\n\u001b[0;32m--> 291\u001b[0;31m         fun, pe.debug_info_final(fun, \"jit\"))\n\u001b[0m\u001b[1;32m    292\u001b[0m   \u001b[0mout_avals\u001b[0m\u001b[0;34m,\u001b[0m \u001b[0mkept_outputs\u001b[0m \u001b[0;34m=\u001b[0m \u001b[0mutil\u001b[0m\u001b[0;34m.\u001b[0m\u001b[0munzip2\u001b[0m\u001b[0;34m(\u001b[0m\u001b[0mout_type\u001b[0m\u001b[0;34m)\u001b[0m\u001b[0;34m\u001b[0m\u001b[0;34m\u001b[0m\u001b[0m\n\u001b[1;32m    293\u001b[0m   \u001b[0;32mif\u001b[0m \u001b[0many\u001b[0m\u001b[0;34m(\u001b[0m\u001b[0misinstance\u001b[0m\u001b[0;34m(\u001b[0m\u001b[0mc\u001b[0m\u001b[0;34m,\u001b[0m \u001b[0mcore\u001b[0m\u001b[0;34m.\u001b[0m\u001b[0mTracer\u001b[0m\u001b[0;34m)\u001b[0m \u001b[0;32mfor\u001b[0m \u001b[0mc\u001b[0m \u001b[0;32min\u001b[0m \u001b[0mconsts\u001b[0m\u001b[0;34m)\u001b[0m\u001b[0;34m:\u001b[0m\u001b[0;34m\u001b[0m\u001b[0;34m\u001b[0m\u001b[0m\n",
            "\u001b[0;32m/usr/local/lib/python3.7/dist-packages/jax/_src/profiler.py\u001b[0m in \u001b[0;36mwrapper\u001b[0;34m(*args, **kwargs)\u001b[0m\n\u001b[1;32m    310\u001b[0m   \u001b[0;32mdef\u001b[0m \u001b[0mwrapper\u001b[0m\u001b[0;34m(\u001b[0m\u001b[0;34m*\u001b[0m\u001b[0margs\u001b[0m\u001b[0;34m,\u001b[0m \u001b[0;34m**\u001b[0m\u001b[0mkwargs\u001b[0m\u001b[0;34m)\u001b[0m\u001b[0;34m:\u001b[0m\u001b[0;34m\u001b[0m\u001b[0;34m\u001b[0m\u001b[0m\n\u001b[1;32m    311\u001b[0m     \u001b[0;32mwith\u001b[0m \u001b[0mTraceAnnotation\u001b[0m\u001b[0;34m(\u001b[0m\u001b[0mname\u001b[0m\u001b[0;34m,\u001b[0m \u001b[0;34m**\u001b[0m\u001b[0mdecorator_kwargs\u001b[0m\u001b[0;34m)\u001b[0m\u001b[0;34m:\u001b[0m\u001b[0;34m\u001b[0m\u001b[0;34m\u001b[0m\u001b[0m\n\u001b[0;32m--> 312\u001b[0;31m       \u001b[0;32mreturn\u001b[0m \u001b[0mfunc\u001b[0m\u001b[0;34m(\u001b[0m\u001b[0;34m*\u001b[0m\u001b[0margs\u001b[0m\u001b[0;34m,\u001b[0m \u001b[0;34m**\u001b[0m\u001b[0mkwargs\u001b[0m\u001b[0;34m)\u001b[0m\u001b[0;34m\u001b[0m\u001b[0;34m\u001b[0m\u001b[0m\n\u001b[0m\u001b[1;32m    313\u001b[0m     \u001b[0;32mreturn\u001b[0m \u001b[0mwrapper\u001b[0m\u001b[0;34m\u001b[0m\u001b[0;34m\u001b[0m\u001b[0m\n\u001b[1;32m    314\u001b[0m   \u001b[0;32mreturn\u001b[0m \u001b[0mwrapper\u001b[0m\u001b[0;34m\u001b[0m\u001b[0;34m\u001b[0m\u001b[0m\n",
            "\u001b[0;32m/usr/local/lib/python3.7/dist-packages/jax/interpreters/partial_eval.py\u001b[0m in \u001b[0;36mtrace_to_jaxpr_final2\u001b[0;34m(fun, debug_info)\u001b[0m\n\u001b[1;32m   1957\u001b[0m     \u001b[0mmain\u001b[0m\u001b[0;34m.\u001b[0m\u001b[0mjaxpr_stack\u001b[0m \u001b[0;34m=\u001b[0m \u001b[0;34m(\u001b[0m\u001b[0;34m)\u001b[0m  \u001b[0;31m# type: ignore\u001b[0m\u001b[0;34m\u001b[0m\u001b[0;34m\u001b[0m\u001b[0m\n\u001b[1;32m   1958\u001b[0m     \u001b[0;32mwith\u001b[0m \u001b[0mcore\u001b[0m\u001b[0;34m.\u001b[0m\u001b[0mnew_sublevel\u001b[0m\u001b[0;34m(\u001b[0m\u001b[0;34m)\u001b[0m\u001b[0;34m:\u001b[0m\u001b[0;34m\u001b[0m\u001b[0;34m\u001b[0m\u001b[0m\n\u001b[0;32m-> 1959\u001b[0;31m       \u001b[0mjaxpr\u001b[0m\u001b[0;34m,\u001b[0m \u001b[0mout_type\u001b[0m\u001b[0;34m,\u001b[0m \u001b[0mconsts\u001b[0m \u001b[0;34m=\u001b[0m \u001b[0mtrace_to_subjaxpr_dynamic2\u001b[0m\u001b[0;34m(\u001b[0m\u001b[0mfun\u001b[0m\u001b[0;34m,\u001b[0m \u001b[0mmain\u001b[0m\u001b[0;34m)\u001b[0m\u001b[0;34m\u001b[0m\u001b[0;34m\u001b[0m\u001b[0m\n\u001b[0m\u001b[1;32m   1960\u001b[0m     \u001b[0;32mdel\u001b[0m \u001b[0mfun\u001b[0m\u001b[0;34m,\u001b[0m \u001b[0mmain\u001b[0m\u001b[0;34m\u001b[0m\u001b[0;34m\u001b[0m\u001b[0m\n\u001b[1;32m   1961\u001b[0m   \u001b[0;32mreturn\u001b[0m \u001b[0mjaxpr\u001b[0m\u001b[0;34m,\u001b[0m \u001b[0mout_type\u001b[0m\u001b[0;34m,\u001b[0m \u001b[0mconsts\u001b[0m\u001b[0;34m\u001b[0m\u001b[0;34m\u001b[0m\u001b[0m\n",
            "\u001b[0;32m/usr/local/lib/python3.7/dist-packages/jax/interpreters/partial_eval.py\u001b[0m in \u001b[0;36mtrace_to_subjaxpr_dynamic2\u001b[0;34m(fun, main)\u001b[0m\n\u001b[1;32m   1918\u001b[0m     \u001b[0min_tracers\u001b[0m \u001b[0;34m=\u001b[0m \u001b[0m_input_type_to_tracers\u001b[0m\u001b[0;34m(\u001b[0m\u001b[0mtrace\u001b[0m\u001b[0;34m,\u001b[0m \u001b[0min_avals\u001b[0m\u001b[0;34m)\u001b[0m\u001b[0;34m\u001b[0m\u001b[0;34m\u001b[0m\u001b[0m\n\u001b[1;32m   1919\u001b[0m     \u001b[0min_tracers_\u001b[0m \u001b[0;34m=\u001b[0m \u001b[0;34m[\u001b[0m\u001b[0mt\u001b[0m \u001b[0;32mfor\u001b[0m \u001b[0mt\u001b[0m\u001b[0;34m,\u001b[0m \u001b[0mkeep\u001b[0m \u001b[0;32min\u001b[0m \u001b[0mzip\u001b[0m\u001b[0;34m(\u001b[0m\u001b[0min_tracers\u001b[0m\u001b[0;34m,\u001b[0m \u001b[0mkeep_inputs\u001b[0m\u001b[0;34m)\u001b[0m \u001b[0;32mif\u001b[0m \u001b[0mkeep\u001b[0m\u001b[0;34m]\u001b[0m\u001b[0;34m\u001b[0m\u001b[0;34m\u001b[0m\u001b[0m\n\u001b[0;32m-> 1920\u001b[0;31m     \u001b[0mans\u001b[0m \u001b[0;34m=\u001b[0m \u001b[0mfun\u001b[0m\u001b[0;34m.\u001b[0m\u001b[0mcall_wrapped\u001b[0m\u001b[0;34m(\u001b[0m\u001b[0;34m*\u001b[0m\u001b[0min_tracers_\u001b[0m\u001b[0;34m)\u001b[0m\u001b[0;34m\u001b[0m\u001b[0;34m\u001b[0m\u001b[0m\n\u001b[0m\u001b[1;32m   1921\u001b[0m     \u001b[0mout_tracers\u001b[0m \u001b[0;34m=\u001b[0m \u001b[0mmap\u001b[0m\u001b[0;34m(\u001b[0m\u001b[0mtrace\u001b[0m\u001b[0;34m.\u001b[0m\u001b[0mfull_raise\u001b[0m\u001b[0;34m,\u001b[0m \u001b[0mans\u001b[0m\u001b[0;34m)\u001b[0m\u001b[0;34m\u001b[0m\u001b[0;34m\u001b[0m\u001b[0m\n\u001b[1;32m   1922\u001b[0m     \u001b[0mjaxpr\u001b[0m\u001b[0;34m,\u001b[0m \u001b[0mout_type\u001b[0m\u001b[0;34m,\u001b[0m \u001b[0mconsts\u001b[0m \u001b[0;34m=\u001b[0m \u001b[0mframe\u001b[0m\u001b[0;34m.\u001b[0m\u001b[0mto_jaxpr2\u001b[0m\u001b[0;34m(\u001b[0m\u001b[0mout_tracers\u001b[0m\u001b[0;34m)\u001b[0m\u001b[0;34m\u001b[0m\u001b[0;34m\u001b[0m\u001b[0m\n",
            "\u001b[0;32m/usr/local/lib/python3.7/dist-packages/jax/linear_util.py\u001b[0m in \u001b[0;36mcall_wrapped\u001b[0;34m(self, *args, **kwargs)\u001b[0m\n\u001b[1;32m    166\u001b[0m \u001b[0;34m\u001b[0m\u001b[0m\n\u001b[1;32m    167\u001b[0m     \u001b[0;32mtry\u001b[0m\u001b[0;34m:\u001b[0m\u001b[0;34m\u001b[0m\u001b[0;34m\u001b[0m\u001b[0m\n\u001b[0;32m--> 168\u001b[0;31m       \u001b[0mans\u001b[0m \u001b[0;34m=\u001b[0m \u001b[0mself\u001b[0m\u001b[0;34m.\u001b[0m\u001b[0mf\u001b[0m\u001b[0;34m(\u001b[0m\u001b[0;34m*\u001b[0m\u001b[0margs\u001b[0m\u001b[0;34m,\u001b[0m \u001b[0;34m**\u001b[0m\u001b[0mdict\u001b[0m\u001b[0;34m(\u001b[0m\u001b[0mself\u001b[0m\u001b[0;34m.\u001b[0m\u001b[0mparams\u001b[0m\u001b[0;34m,\u001b[0m \u001b[0;34m**\u001b[0m\u001b[0mkwargs\u001b[0m\u001b[0;34m)\u001b[0m\u001b[0;34m)\u001b[0m\u001b[0;34m\u001b[0m\u001b[0;34m\u001b[0m\u001b[0m\n\u001b[0m\u001b[1;32m    169\u001b[0m     \u001b[0;32mexcept\u001b[0m\u001b[0;34m:\u001b[0m\u001b[0;34m\u001b[0m\u001b[0;34m\u001b[0m\u001b[0m\n\u001b[1;32m    170\u001b[0m       \u001b[0;31m# Some transformations yield from inside context managers, so we have to\u001b[0m\u001b[0;34m\u001b[0m\u001b[0;34m\u001b[0m\u001b[0;34m\u001b[0m\u001b[0m\n",
            "\u001b[0;32m/usr/local/lib/python3.7/dist-packages/jax/_src/dispatch.py\u001b[0m in \u001b[0;36mprim_fun\u001b[0;34m(*args)\u001b[0m\n\u001b[1;32m    157\u001b[0m   \u001b[0mdevice\u001b[0m \u001b[0;34m=\u001b[0m \u001b[0m_device_from_arg_devices\u001b[0m\u001b[0;34m(\u001b[0m\u001b[0marg_devices\u001b[0m\u001b[0;34m)\u001b[0m\u001b[0;34m\u001b[0m\u001b[0;34m\u001b[0m\u001b[0m\n\u001b[1;32m    158\u001b[0m   \u001b[0;32mdef\u001b[0m \u001b[0mprim_fun\u001b[0m\u001b[0;34m(\u001b[0m\u001b[0;34m*\u001b[0m\u001b[0margs\u001b[0m\u001b[0;34m)\u001b[0m\u001b[0;34m:\u001b[0m\u001b[0;34m\u001b[0m\u001b[0;34m\u001b[0m\u001b[0m\n\u001b[0;32m--> 159\u001b[0;31m     \u001b[0mout\u001b[0m \u001b[0;34m=\u001b[0m \u001b[0mprim\u001b[0m\u001b[0;34m.\u001b[0m\u001b[0mbind\u001b[0m\u001b[0;34m(\u001b[0m\u001b[0;34m*\u001b[0m\u001b[0margs\u001b[0m\u001b[0;34m,\u001b[0m \u001b[0;34m**\u001b[0m\u001b[0mparams\u001b[0m\u001b[0;34m)\u001b[0m\u001b[0;34m\u001b[0m\u001b[0;34m\u001b[0m\u001b[0m\n\u001b[0m\u001b[1;32m    160\u001b[0m     \u001b[0;32mif\u001b[0m \u001b[0mprim\u001b[0m\u001b[0;34m.\u001b[0m\u001b[0mmultiple_results\u001b[0m\u001b[0;34m:\u001b[0m\u001b[0;34m\u001b[0m\u001b[0;34m\u001b[0m\u001b[0m\n\u001b[1;32m    161\u001b[0m       \u001b[0;32mreturn\u001b[0m \u001b[0mout\u001b[0m\u001b[0;34m\u001b[0m\u001b[0;34m\u001b[0m\u001b[0m\n",
            "\u001b[0;32m/usr/local/lib/python3.7/dist-packages/jax/core.py\u001b[0m in \u001b[0;36mbind\u001b[0;34m(self, *args, **params)\u001b[0m\n\u001b[1;32m    325\u001b[0m     assert (not config.jax_enable_checks or\n\u001b[1;32m    326\u001b[0m             all(isinstance(arg, Tracer) or valid_jaxtype(arg) for arg in args)), args\n\u001b[0;32m--> 327\u001b[0;31m     \u001b[0;32mreturn\u001b[0m \u001b[0mself\u001b[0m\u001b[0;34m.\u001b[0m\u001b[0mbind_with_trace\u001b[0m\u001b[0;34m(\u001b[0m\u001b[0mfind_top_trace\u001b[0m\u001b[0;34m(\u001b[0m\u001b[0margs\u001b[0m\u001b[0;34m)\u001b[0m\u001b[0;34m,\u001b[0m \u001b[0margs\u001b[0m\u001b[0;34m,\u001b[0m \u001b[0mparams\u001b[0m\u001b[0;34m)\u001b[0m\u001b[0;34m\u001b[0m\u001b[0;34m\u001b[0m\u001b[0m\n\u001b[0m\u001b[1;32m    328\u001b[0m \u001b[0;34m\u001b[0m\u001b[0m\n\u001b[1;32m    329\u001b[0m   \u001b[0;32mdef\u001b[0m \u001b[0mbind_with_trace\u001b[0m\u001b[0;34m(\u001b[0m\u001b[0mself\u001b[0m\u001b[0;34m,\u001b[0m \u001b[0mtrace\u001b[0m\u001b[0;34m,\u001b[0m \u001b[0margs\u001b[0m\u001b[0;34m,\u001b[0m \u001b[0mparams\u001b[0m\u001b[0;34m)\u001b[0m\u001b[0;34m:\u001b[0m\u001b[0;34m\u001b[0m\u001b[0;34m\u001b[0m\u001b[0m\n",
            "\u001b[0;32m/usr/local/lib/python3.7/dist-packages/jax/core.py\u001b[0m in \u001b[0;36mbind_with_trace\u001b[0;34m(self, trace, args, params)\u001b[0m\n\u001b[1;32m    328\u001b[0m \u001b[0;34m\u001b[0m\u001b[0m\n\u001b[1;32m    329\u001b[0m   \u001b[0;32mdef\u001b[0m \u001b[0mbind_with_trace\u001b[0m\u001b[0;34m(\u001b[0m\u001b[0mself\u001b[0m\u001b[0;34m,\u001b[0m \u001b[0mtrace\u001b[0m\u001b[0;34m,\u001b[0m \u001b[0margs\u001b[0m\u001b[0;34m,\u001b[0m \u001b[0mparams\u001b[0m\u001b[0;34m)\u001b[0m\u001b[0;34m:\u001b[0m\u001b[0;34m\u001b[0m\u001b[0;34m\u001b[0m\u001b[0m\n\u001b[0;32m--> 330\u001b[0;31m     \u001b[0mout\u001b[0m \u001b[0;34m=\u001b[0m \u001b[0mtrace\u001b[0m\u001b[0;34m.\u001b[0m\u001b[0mprocess_primitive\u001b[0m\u001b[0;34m(\u001b[0m\u001b[0mself\u001b[0m\u001b[0;34m,\u001b[0m \u001b[0mmap\u001b[0m\u001b[0;34m(\u001b[0m\u001b[0mtrace\u001b[0m\u001b[0;34m.\u001b[0m\u001b[0mfull_raise\u001b[0m\u001b[0;34m,\u001b[0m \u001b[0margs\u001b[0m\u001b[0;34m)\u001b[0m\u001b[0;34m,\u001b[0m \u001b[0mparams\u001b[0m\u001b[0;34m)\u001b[0m\u001b[0;34m\u001b[0m\u001b[0;34m\u001b[0m\u001b[0m\n\u001b[0m\u001b[1;32m    331\u001b[0m     \u001b[0;32mreturn\u001b[0m \u001b[0mmap\u001b[0m\u001b[0;34m(\u001b[0m\u001b[0mfull_lower\u001b[0m\u001b[0;34m,\u001b[0m \u001b[0mout\u001b[0m\u001b[0;34m)\u001b[0m \u001b[0;32mif\u001b[0m \u001b[0mself\u001b[0m\u001b[0;34m.\u001b[0m\u001b[0mmultiple_results\u001b[0m \u001b[0;32melse\u001b[0m \u001b[0mfull_lower\u001b[0m\u001b[0;34m(\u001b[0m\u001b[0mout\u001b[0m\u001b[0;34m)\u001b[0m\u001b[0;34m\u001b[0m\u001b[0;34m\u001b[0m\u001b[0m\n\u001b[1;32m    332\u001b[0m \u001b[0;34m\u001b[0m\u001b[0m\n",
            "\u001b[0;32m/usr/local/lib/python3.7/dist-packages/jax/interpreters/partial_eval.py\u001b[0m in \u001b[0;36mprocess_primitive\u001b[0;34m(self, primitive, tracers, params)\u001b[0m\n\u001b[1;32m   1606\u001b[0m     \u001b[0;32mif\u001b[0m \u001b[0mprimitive\u001b[0m \u001b[0;32min\u001b[0m \u001b[0mcustom_staging_rules\u001b[0m\u001b[0;34m:\u001b[0m\u001b[0;34m\u001b[0m\u001b[0;34m\u001b[0m\u001b[0m\n\u001b[1;32m   1607\u001b[0m       \u001b[0;32mreturn\u001b[0m \u001b[0mcustom_staging_rules\u001b[0m\u001b[0;34m[\u001b[0m\u001b[0mprimitive\u001b[0m\u001b[0;34m]\u001b[0m\u001b[0;34m(\u001b[0m\u001b[0mself\u001b[0m\u001b[0;34m,\u001b[0m \u001b[0;34m*\u001b[0m\u001b[0mtracers\u001b[0m\u001b[0;34m,\u001b[0m \u001b[0;34m**\u001b[0m\u001b[0mparams\u001b[0m\u001b[0;34m)\u001b[0m\u001b[0;34m\u001b[0m\u001b[0;34m\u001b[0m\u001b[0m\n\u001b[0;32m-> 1608\u001b[0;31m     \u001b[0;32mreturn\u001b[0m \u001b[0mself\u001b[0m\u001b[0;34m.\u001b[0m\u001b[0mdefault_process_primitive\u001b[0m\u001b[0;34m(\u001b[0m\u001b[0mprimitive\u001b[0m\u001b[0;34m,\u001b[0m \u001b[0mtracers\u001b[0m\u001b[0;34m,\u001b[0m \u001b[0mparams\u001b[0m\u001b[0;34m)\u001b[0m\u001b[0;34m\u001b[0m\u001b[0;34m\u001b[0m\u001b[0m\n\u001b[0m\u001b[1;32m   1609\u001b[0m \u001b[0;34m\u001b[0m\u001b[0m\n\u001b[1;32m   1610\u001b[0m   \u001b[0;32mdef\u001b[0m \u001b[0mdefault_process_primitive\u001b[0m\u001b[0;34m(\u001b[0m\u001b[0mself\u001b[0m\u001b[0;34m,\u001b[0m \u001b[0mprimitive\u001b[0m\u001b[0;34m,\u001b[0m \u001b[0mtracers\u001b[0m\u001b[0;34m,\u001b[0m \u001b[0mparams\u001b[0m\u001b[0;34m)\u001b[0m\u001b[0;34m:\u001b[0m\u001b[0;34m\u001b[0m\u001b[0;34m\u001b[0m\u001b[0m\n",
            "\u001b[0;32m/usr/local/lib/python3.7/dist-packages/jax/interpreters/partial_eval.py\u001b[0m in \u001b[0;36mdefault_process_primitive\u001b[0;34m(self, primitive, tracers, params)\u001b[0m\n\u001b[1;32m   1610\u001b[0m   \u001b[0;32mdef\u001b[0m \u001b[0mdefault_process_primitive\u001b[0m\u001b[0;34m(\u001b[0m\u001b[0mself\u001b[0m\u001b[0;34m,\u001b[0m \u001b[0mprimitive\u001b[0m\u001b[0;34m,\u001b[0m \u001b[0mtracers\u001b[0m\u001b[0;34m,\u001b[0m \u001b[0mparams\u001b[0m\u001b[0;34m)\u001b[0m\u001b[0;34m:\u001b[0m\u001b[0;34m\u001b[0m\u001b[0;34m\u001b[0m\u001b[0m\n\u001b[1;32m   1611\u001b[0m     \u001b[0mavals\u001b[0m \u001b[0;34m=\u001b[0m \u001b[0;34m[\u001b[0m\u001b[0mt\u001b[0m\u001b[0;34m.\u001b[0m\u001b[0maval\u001b[0m \u001b[0;32mfor\u001b[0m \u001b[0mt\u001b[0m \u001b[0;32min\u001b[0m \u001b[0mtracers\u001b[0m\u001b[0;34m]\u001b[0m\u001b[0;34m\u001b[0m\u001b[0;34m\u001b[0m\u001b[0m\n\u001b[0;32m-> 1612\u001b[0;31m     \u001b[0mout_avals\u001b[0m\u001b[0;34m,\u001b[0m \u001b[0meffects\u001b[0m \u001b[0;34m=\u001b[0m \u001b[0mprimitive\u001b[0m\u001b[0;34m.\u001b[0m\u001b[0mabstract_eval\u001b[0m\u001b[0;34m(\u001b[0m\u001b[0;34m*\u001b[0m\u001b[0mavals\u001b[0m\u001b[0;34m,\u001b[0m \u001b[0;34m**\u001b[0m\u001b[0mparams\u001b[0m\u001b[0;34m)\u001b[0m\u001b[0;34m\u001b[0m\u001b[0;34m\u001b[0m\u001b[0m\n\u001b[0m\u001b[1;32m   1613\u001b[0m     \u001b[0mout_avals\u001b[0m \u001b[0;34m=\u001b[0m \u001b[0;34m[\u001b[0m\u001b[0mout_avals\u001b[0m\u001b[0;34m]\u001b[0m \u001b[0;32mif\u001b[0m \u001b[0;32mnot\u001b[0m \u001b[0mprimitive\u001b[0m\u001b[0;34m.\u001b[0m\u001b[0mmultiple_results\u001b[0m \u001b[0;32melse\u001b[0m \u001b[0mout_avals\u001b[0m\u001b[0;34m\u001b[0m\u001b[0;34m\u001b[0m\u001b[0m\n\u001b[1;32m   1614\u001b[0m     \u001b[0msource_info\u001b[0m \u001b[0;34m=\u001b[0m \u001b[0msource_info_util\u001b[0m\u001b[0;34m.\u001b[0m\u001b[0mcurrent\u001b[0m\u001b[0;34m(\u001b[0m\u001b[0;34m)\u001b[0m\u001b[0;34m\u001b[0m\u001b[0;34m\u001b[0m\u001b[0m\n",
            "\u001b[0;32m/usr/local/lib/python3.7/dist-packages/jax/core.py\u001b[0m in \u001b[0;36mabstract_eval_\u001b[0;34m(*args, **kwargs)\u001b[0m\n\u001b[1;32m    361\u001b[0m \u001b[0;32mdef\u001b[0m \u001b[0m_effect_free_abstract_eval\u001b[0m\u001b[0;34m(\u001b[0m\u001b[0mabstract_eval\u001b[0m\u001b[0;34m)\u001b[0m\u001b[0;34m:\u001b[0m\u001b[0;34m\u001b[0m\u001b[0;34m\u001b[0m\u001b[0m\n\u001b[1;32m    362\u001b[0m   \u001b[0;32mdef\u001b[0m \u001b[0mabstract_eval_\u001b[0m\u001b[0;34m(\u001b[0m\u001b[0;34m*\u001b[0m\u001b[0margs\u001b[0m\u001b[0;34m,\u001b[0m \u001b[0;34m**\u001b[0m\u001b[0mkwargs\u001b[0m\u001b[0;34m)\u001b[0m\u001b[0;34m:\u001b[0m\u001b[0;34m\u001b[0m\u001b[0;34m\u001b[0m\u001b[0m\n\u001b[0;32m--> 363\u001b[0;31m     \u001b[0;32mreturn\u001b[0m \u001b[0mabstract_eval\u001b[0m\u001b[0;34m(\u001b[0m\u001b[0;34m*\u001b[0m\u001b[0margs\u001b[0m\u001b[0;34m,\u001b[0m \u001b[0;34m**\u001b[0m\u001b[0mkwargs\u001b[0m\u001b[0;34m)\u001b[0m\u001b[0;34m,\u001b[0m \u001b[0mno_effects\u001b[0m\u001b[0;34m\u001b[0m\u001b[0;34m\u001b[0m\u001b[0m\n\u001b[0m\u001b[1;32m    364\u001b[0m   \u001b[0;32mreturn\u001b[0m \u001b[0mabstract_eval_\u001b[0m\u001b[0;34m\u001b[0m\u001b[0;34m\u001b[0m\u001b[0m\n\u001b[1;32m    365\u001b[0m \u001b[0;34m\u001b[0m\u001b[0m\n",
            "\u001b[0;32m/usr/local/lib/python3.7/dist-packages/jax/_src/lax/utils.py\u001b[0m in \u001b[0;36mstandard_abstract_eval\u001b[0;34m(prim, shape_rule, dtype_rule, weak_type_rule, named_shape_rule, *avals, **kwargs)\u001b[0m\n\u001b[1;32m     64\u001b[0m     \u001b[0;32mreturn\u001b[0m \u001b[0mcore\u001b[0m\u001b[0;34m.\u001b[0m\u001b[0mConcreteArray\u001b[0m\u001b[0;34m(\u001b[0m\u001b[0mout\u001b[0m\u001b[0;34m.\u001b[0m\u001b[0mdtype\u001b[0m\u001b[0;34m,\u001b[0m \u001b[0mout\u001b[0m\u001b[0;34m,\u001b[0m \u001b[0mweak_type\u001b[0m\u001b[0;34m=\u001b[0m\u001b[0mweak_type\u001b[0m\u001b[0;34m)\u001b[0m\u001b[0;34m\u001b[0m\u001b[0;34m\u001b[0m\u001b[0m\n\u001b[1;32m     65\u001b[0m   \u001b[0;32melif\u001b[0m \u001b[0mleast_specialized\u001b[0m \u001b[0;32mis\u001b[0m \u001b[0mcore\u001b[0m\u001b[0;34m.\u001b[0m\u001b[0mShapedArray\u001b[0m\u001b[0;34m:\u001b[0m\u001b[0;34m\u001b[0m\u001b[0;34m\u001b[0m\u001b[0m\n\u001b[0;32m---> 66\u001b[0;31m     return core.ShapedArray(shape_rule(*avals, **kwargs),\n\u001b[0m\u001b[1;32m     67\u001b[0m                             \u001b[0mdtype_rule\u001b[0m\u001b[0;34m(\u001b[0m\u001b[0;34m*\u001b[0m\u001b[0mavals\u001b[0m\u001b[0;34m,\u001b[0m \u001b[0;34m**\u001b[0m\u001b[0mkwargs\u001b[0m\u001b[0;34m)\u001b[0m\u001b[0;34m,\u001b[0m \u001b[0mweak_type\u001b[0m\u001b[0;34m=\u001b[0m\u001b[0mweak_type\u001b[0m\u001b[0;34m,\u001b[0m\u001b[0;34m\u001b[0m\u001b[0;34m\u001b[0m\u001b[0m\n\u001b[1;32m     68\u001b[0m                             named_shape=named_shape_rule(*avals, **kwargs))\n",
            "\u001b[0;32m/usr/local/lib/python3.7/dist-packages/jax/_src/lax/convolution.py\u001b[0m in \u001b[0;36m_conv_general_dilated_shape_rule\u001b[0;34m(lhs, rhs, window_strides, padding, lhs_dilation, rhs_dilation, dimension_numbers, feature_group_count, batch_group_count, **unused_kwargs)\u001b[0m\n\u001b[1;32m    402\u001b[0m            \"the same number of dimensions, but got {} and {}\")\n\u001b[1;32m    403\u001b[0m     raise ValueError(\n\u001b[0;32m--> 404\u001b[0;31m         msg.format(len(_conv_sdims(dimension_numbers.rhs_spec)), len(window_strides)))\n\u001b[0m\u001b[1;32m    405\u001b[0m \u001b[0;34m\u001b[0m\u001b[0m\n\u001b[1;32m    406\u001b[0m   \u001b[0mlhs_perm\u001b[0m\u001b[0;34m,\u001b[0m \u001b[0mrhs_perm\u001b[0m\u001b[0;34m,\u001b[0m \u001b[0mout_perm\u001b[0m \u001b[0;34m=\u001b[0m \u001b[0mdimension_numbers\u001b[0m\u001b[0;34m\u001b[0m\u001b[0;34m\u001b[0m\u001b[0m\n",
            "\u001b[0;31mValueError\u001b[0m: conv_general_dilated window and window_strides must have the same number of dimensions, but got 1 and 2"
          ]
        }
      ]
    },
    {
      "cell_type": "code",
      "source": [
        "x = jnp.linspace(-3, 3, 7)\n",
        "window = jsp.stats.norm.pdf(x) * jsp.stats.norm.pdf(x[:, None])\n",
        "input_img = jnp.ones((32,32))\n",
        "print(get_optimized_func(\n",
        "    jsp.signal.convolve, \n",
        "    (input_img, window)\n",
        "    ).hlo_modules()[0].to_string())"
      ],
      "metadata": {
        "colab": {
          "base_uri": "https://localhost:8080/"
        },
        "id": "7fpkBOotG-d3",
        "outputId": "6dd779a4-f4df-4c46-d17a-c9862c7f5eea"
      },
      "execution_count": 110,
      "outputs": [
        {
          "output_type": "stream",
          "name": "stdout",
          "text": [
            "HloModule xla_computation_convolve.143, entry_computation_layout={(f32[32,32]{1,0},f32[7,7]{1,0})->(f32[38,38]{1,0})}\n",
            "\n",
            "%fused_computation (param_0.2: f32[7,7]) -> f32[7,7,1,1] {\n",
            "  %param_0.2 = f32[7,7]{1,0} parameter(0)\n",
            "  %reverse.1 = f32[7,7]{1,0} reverse(f32[7,7]{1,0} %param_0.2), dimensions={0,1}, metadata={op_name=\"xla_computation(convolve)/jit(main)/jit(_flip)/rev[dimensions=(0, 1)]\" source_file=\"<ipython-input-97-ae23534e1a9a>\" source_line=5}\n",
            "  %reshape.6 = f32[7,7,1,1]{1,0,3,2} reshape(f32[7,7]{1,0} %reverse.1)\n",
            "  ROOT %copy.2 = f32[7,7,1,1]{3,2,1,0} copy(f32[7,7,1,1]{1,0,3,2} %reshape.6)\n",
            "}\n",
            "\n",
            "%fused_computation.1 (param_0.4: f32[32,32]) -> f32[1,32,32,1] {\n",
            "  %param_0.4 = f32[32,32]{1,0} parameter(0)\n",
            "  %reshape.9 = f32[1,32,32,1]{2,1,3,0} reshape(f32[32,32]{1,0} %param_0.4)\n",
            "  ROOT %copy.3 = f32[1,32,32,1]{3,2,1,0} copy(f32[1,32,32,1]{2,1,3,0} %reshape.9)\n",
            "}\n",
            "\n",
            "ENTRY %main.12 (Arg_0.1: f32[32,32], Arg_1.2: f32[7,7]) -> (f32[38,38]) {\n",
            "  %Arg_0.1 = f32[32,32]{1,0} parameter(0)\n",
            "  %fusion.1 = f32[1,32,32,1]{3,2,1,0} fusion(f32[32,32]{1,0} %Arg_0.1), kind=kLoop, calls=%fused_computation.1\n",
            "  %Arg_1.2 = f32[7,7]{1,0} parameter(1)\n",
            "  %fusion = f32[7,7,1,1]{3,2,1,0} fusion(f32[7,7]{1,0} %Arg_1.2), kind=kLoop, calls=%fused_computation\n",
            "  %convolution = f32[1,38,38,1]{3,2,1,0} convolution(f32[1,32,32,1]{3,2,1,0} %fusion.1, f32[7,7,1,1]{3,2,1,0} %fusion), window={size=7x7 pad=6_6x6_6}, dim_labels=b01f_01io->b01f\n",
            "  %bitcast = f32[38,38]{1,0} bitcast(f32[1,38,38,1]{3,2,1,0} %convolution), metadata={op_name=\"xla_computation(convolve)/jit(main)/gather[dimension_numbers=GatherDimensionNumbers(offset_dims=(0, 1), collapsed_slice_dims=(0, 1), start_index_map=(0, 1)) slice_sizes=(1, 1, 38, 38) unique_indices=True indices_are_sorted=True mode=GatherScatterMode.PROMISE_IN_BOUNDS fill_value=None]\" source_file=\"<ipython-input-97-ae23534e1a9a>\" source_line=5}\n",
            "  ROOT %tuple.11 = (f32[38,38]{1,0}) tuple(f32[38,38]{1,0} %bitcast)\n",
            "}\n",
            "\n",
            "\n"
          ]
        }
      ]
    },
    {
      "cell_type": "code",
      "source": [
        "\n",
        "get_optimized_func(\n",
        "    jax.lax.conv, \n",
        "    (jnp.ones((5,5)), jnp.ones((5,5)), 1, \"SAME\")\n",
        "    ).hlo_modules()[0].to_string()"
      ],
      "metadata": {
        "colab": {
          "base_uri": "https://localhost:8080/",
          "height": 589
        },
        "id": "ZLh7h1-v9YMP",
        "outputId": "2271f915-cca3-49f3-d40d-4e8bf1ef6e52"
      },
      "execution_count": 100,
      "outputs": [
        {
          "output_type": "error",
          "ename": "TypeError",
          "evalue": "ignored",
          "traceback": [
            "\u001b[0;31m---------------------------------------------------------------------------\u001b[0m",
            "\u001b[0;31mUnfilteredStackTrace\u001b[0m                      Traceback (most recent call last)",
            "\u001b[0;32m<ipython-input-100-56708f917a62>\u001b[0m in \u001b[0;36m<module>\u001b[0;34m()\u001b[0m\n\u001b[1;32m      2\u001b[0m     \u001b[0mjax\u001b[0m\u001b[0;34m.\u001b[0m\u001b[0mlax\u001b[0m\u001b[0;34m.\u001b[0m\u001b[0mconv\u001b[0m\u001b[0;34m,\u001b[0m\u001b[0;34m\u001b[0m\u001b[0;34m\u001b[0m\u001b[0m\n\u001b[0;32m----> 3\u001b[0;31m     \u001b[0;34m(\u001b[0m\u001b[0mjnp\u001b[0m\u001b[0;34m.\u001b[0m\u001b[0mones\u001b[0m\u001b[0;34m(\u001b[0m\u001b[0;34m(\u001b[0m\u001b[0;36m5\u001b[0m\u001b[0;34m,\u001b[0m\u001b[0;36m5\u001b[0m\u001b[0;34m)\u001b[0m\u001b[0;34m)\u001b[0m\u001b[0;34m,\u001b[0m \u001b[0mjnp\u001b[0m\u001b[0;34m.\u001b[0m\u001b[0mones\u001b[0m\u001b[0;34m(\u001b[0m\u001b[0;34m(\u001b[0m\u001b[0;36m5\u001b[0m\u001b[0;34m,\u001b[0m\u001b[0;36m5\u001b[0m\u001b[0;34m)\u001b[0m\u001b[0;34m)\u001b[0m\u001b[0;34m,\u001b[0m \u001b[0;36m1\u001b[0m\u001b[0;34m,\u001b[0m \u001b[0;34m\"SAME\"\u001b[0m\u001b[0;34m)\u001b[0m\u001b[0;34m\u001b[0m\u001b[0;34m\u001b[0m\u001b[0m\n\u001b[0m\u001b[1;32m      4\u001b[0m     ).hlo_modules()[0].to_string()\n",
            "\u001b[0;32m<ipython-input-97-ae23534e1a9a>\u001b[0m in \u001b[0;36mget_optimized_func\u001b[0;34m(f, args, static_argnums)\u001b[0m\n\u001b[1;32m      4\u001b[0m   \u001b[0;32melse\u001b[0m\u001b[0;34m:\u001b[0m\u001b[0;34m\u001b[0m\u001b[0;34m\u001b[0m\u001b[0m\n\u001b[0;32m----> 5\u001b[0;31m     \u001b[0mc\u001b[0m \u001b[0;34m=\u001b[0m \u001b[0mjax\u001b[0m\u001b[0;34m.\u001b[0m\u001b[0mxla_computation\u001b[0m\u001b[0;34m(\u001b[0m\u001b[0mf\u001b[0m\u001b[0;34m)\u001b[0m\u001b[0;34m(\u001b[0m\u001b[0;34m*\u001b[0m\u001b[0margs\u001b[0m\u001b[0;34m)\u001b[0m\u001b[0;34m\u001b[0m\u001b[0;34m\u001b[0m\u001b[0m\n\u001b[0m\u001b[1;32m      6\u001b[0m \u001b[0;34m\u001b[0m\u001b[0m\n",
            "\u001b[0;32m/usr/local/lib/python3.7/dist-packages/jax/_src/traceback_util.py\u001b[0m in \u001b[0;36mreraise_with_filtered_traceback\u001b[0;34m(*args, **kwargs)\u001b[0m\n\u001b[1;32m    161\u001b[0m     \u001b[0;32mtry\u001b[0m\u001b[0;34m:\u001b[0m\u001b[0;34m\u001b[0m\u001b[0;34m\u001b[0m\u001b[0m\n\u001b[0;32m--> 162\u001b[0;31m       \u001b[0;32mreturn\u001b[0m \u001b[0mfun\u001b[0m\u001b[0;34m(\u001b[0m\u001b[0;34m*\u001b[0m\u001b[0margs\u001b[0m\u001b[0;34m,\u001b[0m \u001b[0;34m**\u001b[0m\u001b[0mkwargs\u001b[0m\u001b[0;34m)\u001b[0m\u001b[0;34m\u001b[0m\u001b[0;34m\u001b[0m\u001b[0m\n\u001b[0m\u001b[1;32m    163\u001b[0m     \u001b[0;32mexcept\u001b[0m \u001b[0mException\u001b[0m \u001b[0;32mas\u001b[0m \u001b[0me\u001b[0m\u001b[0;34m:\u001b[0m\u001b[0;34m\u001b[0m\u001b[0;34m\u001b[0m\u001b[0m\n",
            "\u001b[0;32m/usr/local/lib/python3.7/dist-packages/jax/_src/api.py\u001b[0m in \u001b[0;36mcomputation_maker\u001b[0;34m(*args, **kwargs)\u001b[0m\n\u001b[1;32m    877\u001b[0m     \u001b[0mjaxtree_fun\u001b[0m\u001b[0;34m,\u001b[0m \u001b[0mout_tree\u001b[0m \u001b[0;34m=\u001b[0m \u001b[0mflatten_fun\u001b[0m\u001b[0;34m(\u001b[0m\u001b[0mf\u001b[0m\u001b[0;34m,\u001b[0m \u001b[0min_tree\u001b[0m\u001b[0;34m)\u001b[0m\u001b[0;34m\u001b[0m\u001b[0;34m\u001b[0m\u001b[0m\n\u001b[0;32m--> 878\u001b[0;31m     \u001b[0mavals\u001b[0m \u001b[0;34m=\u001b[0m \u001b[0mmap\u001b[0m\u001b[0;34m(\u001b[0m\u001b[0mshaped_abstractify\u001b[0m\u001b[0;34m,\u001b[0m \u001b[0margs_flat\u001b[0m\u001b[0;34m)\u001b[0m\u001b[0;34m\u001b[0m\u001b[0;34m\u001b[0m\u001b[0m\n\u001b[0m\u001b[1;32m    879\u001b[0m     \u001b[0;32mwith\u001b[0m \u001b[0mExitStack\u001b[0m\u001b[0;34m(\u001b[0m\u001b[0;34m)\u001b[0m \u001b[0;32mas\u001b[0m \u001b[0mstack\u001b[0m\u001b[0;34m:\u001b[0m\u001b[0;34m\u001b[0m\u001b[0;34m\u001b[0m\u001b[0m\n",
            "\u001b[0;32m/usr/local/lib/python3.7/dist-packages/jax/_src/util.py\u001b[0m in \u001b[0;36msafe_map\u001b[0;34m(f, *args)\u001b[0m\n\u001b[1;32m     46\u001b[0m     \u001b[0;32massert\u001b[0m \u001b[0mlen\u001b[0m\u001b[0;34m(\u001b[0m\u001b[0marg\u001b[0m\u001b[0;34m)\u001b[0m \u001b[0;34m==\u001b[0m \u001b[0mn\u001b[0m\u001b[0;34m,\u001b[0m \u001b[0;34mf'length mismatch: {list(map(len, args))}'\u001b[0m\u001b[0;34m\u001b[0m\u001b[0;34m\u001b[0m\u001b[0m\n\u001b[0;32m---> 47\u001b[0;31m   \u001b[0;32mreturn\u001b[0m \u001b[0mlist\u001b[0m\u001b[0;34m(\u001b[0m\u001b[0mmap\u001b[0m\u001b[0;34m(\u001b[0m\u001b[0mf\u001b[0m\u001b[0;34m,\u001b[0m \u001b[0;34m*\u001b[0m\u001b[0margs\u001b[0m\u001b[0;34m)\u001b[0m\u001b[0;34m)\u001b[0m\u001b[0;34m\u001b[0m\u001b[0;34m\u001b[0m\u001b[0m\n\u001b[0m\u001b[1;32m     48\u001b[0m \u001b[0;34m\u001b[0m\u001b[0m\n",
            "\u001b[0;32m/usr/local/lib/python3.7/dist-packages/jax/_src/api_util.py\u001b[0m in \u001b[0;36mshaped_abstractify\u001b[0;34m(x)\u001b[0m\n\u001b[1;32m    436\u001b[0m   \u001b[0mnamed_shape\u001b[0m \u001b[0;34m=\u001b[0m \u001b[0mgetattr\u001b[0m\u001b[0;34m(\u001b[0m\u001b[0mx\u001b[0m\u001b[0;34m,\u001b[0m \u001b[0;34m'named_shape'\u001b[0m\u001b[0;34m,\u001b[0m \u001b[0;34m{\u001b[0m\u001b[0;34m}\u001b[0m\u001b[0;34m)\u001b[0m\u001b[0;34m\u001b[0m\u001b[0;34m\u001b[0m\u001b[0m\n\u001b[0;32m--> 437\u001b[0;31m   return core.ShapedArray(np.shape(x), _dtype(x), weak_type=weak_type,\n\u001b[0m\u001b[1;32m    438\u001b[0m                           named_shape=named_shape)\n",
            "\u001b[0;32m/usr/local/lib/python3.7/dist-packages/jax/_src/api_util.py\u001b[0m in \u001b[0;36m_dtype\u001b[0;34m(x)\u001b[0m\n\u001b[1;32m    423\u001b[0m   \u001b[0;32mtry\u001b[0m\u001b[0;34m:\u001b[0m\u001b[0;34m\u001b[0m\u001b[0;34m\u001b[0m\u001b[0m\n\u001b[0;32m--> 424\u001b[0;31m     \u001b[0;32mreturn\u001b[0m \u001b[0mdtypes\u001b[0m\u001b[0;34m.\u001b[0m\u001b[0mresult_type\u001b[0m\u001b[0;34m(\u001b[0m\u001b[0mx\u001b[0m\u001b[0;34m)\u001b[0m\u001b[0;34m\u001b[0m\u001b[0;34m\u001b[0m\u001b[0m\n\u001b[0m\u001b[1;32m    425\u001b[0m   \u001b[0;32mexcept\u001b[0m \u001b[0mValueError\u001b[0m\u001b[0;34m:\u001b[0m\u001b[0;34m\u001b[0m\u001b[0;34m\u001b[0m\u001b[0m\n",
            "\u001b[0;32m/usr/local/lib/python3.7/dist-packages/jax/_src/dtypes.py\u001b[0m in \u001b[0;36mresult_type\u001b[0;34m(return_weak_type_flag, *args)\u001b[0m\n\u001b[1;32m    470\u001b[0m     \u001b[0;32mraise\u001b[0m \u001b[0mValueError\u001b[0m\u001b[0;34m(\u001b[0m\u001b[0;34m\"at least one array or dtype is required\"\u001b[0m\u001b[0;34m)\u001b[0m\u001b[0;34m\u001b[0m\u001b[0;34m\u001b[0m\u001b[0m\n\u001b[0;32m--> 471\u001b[0;31m   \u001b[0mdtype\u001b[0m\u001b[0;34m,\u001b[0m \u001b[0mweak_type\u001b[0m \u001b[0;34m=\u001b[0m \u001b[0m_lattice_result_type\u001b[0m\u001b[0;34m(\u001b[0m\u001b[0;34m*\u001b[0m\u001b[0;34m(\u001b[0m\u001b[0mfloat_\u001b[0m \u001b[0;32mif\u001b[0m \u001b[0marg\u001b[0m \u001b[0;32mis\u001b[0m \u001b[0;32mNone\u001b[0m \u001b[0;32melse\u001b[0m \u001b[0marg\u001b[0m \u001b[0;32mfor\u001b[0m \u001b[0marg\u001b[0m \u001b[0;32min\u001b[0m \u001b[0margs\u001b[0m\u001b[0;34m)\u001b[0m\u001b[0;34m)\u001b[0m\u001b[0;34m\u001b[0m\u001b[0;34m\u001b[0m\u001b[0m\n\u001b[0m\u001b[1;32m    472\u001b[0m   \u001b[0;32mif\u001b[0m \u001b[0mweak_type\u001b[0m\u001b[0;34m:\u001b[0m\u001b[0;34m\u001b[0m\u001b[0;34m\u001b[0m\u001b[0m\n",
            "\u001b[0;32m/usr/local/lib/python3.7/dist-packages/jax/_src/dtypes.py\u001b[0m in \u001b[0;36m_lattice_result_type\u001b[0;34m(*args)\u001b[0m\n\u001b[1;32m    438\u001b[0m \u001b[0;32mdef\u001b[0m \u001b[0m_lattice_result_type\u001b[0m\u001b[0;34m(\u001b[0m\u001b[0;34m*\u001b[0m\u001b[0margs\u001b[0m\u001b[0;34m)\u001b[0m\u001b[0;34m:\u001b[0m\u001b[0;34m\u001b[0m\u001b[0;34m\u001b[0m\u001b[0m\n\u001b[0;32m--> 439\u001b[0;31m   \u001b[0mdtypes\u001b[0m\u001b[0;34m,\u001b[0m \u001b[0mweak_types\u001b[0m \u001b[0;34m=\u001b[0m \u001b[0mzip\u001b[0m\u001b[0;34m(\u001b[0m\u001b[0;34m*\u001b[0m\u001b[0;34m(\u001b[0m\u001b[0m_dtype_and_weaktype\u001b[0m\u001b[0;34m(\u001b[0m\u001b[0marg\u001b[0m\u001b[0;34m)\u001b[0m \u001b[0;32mfor\u001b[0m \u001b[0marg\u001b[0m \u001b[0;32min\u001b[0m \u001b[0margs\u001b[0m\u001b[0;34m)\u001b[0m\u001b[0;34m)\u001b[0m\u001b[0;34m\u001b[0m\u001b[0;34m\u001b[0m\u001b[0m\n\u001b[0m\u001b[1;32m    440\u001b[0m   \u001b[0;32mif\u001b[0m \u001b[0mlen\u001b[0m\u001b[0;34m(\u001b[0m\u001b[0mdtypes\u001b[0m\u001b[0;34m)\u001b[0m \u001b[0;34m==\u001b[0m \u001b[0;36m1\u001b[0m\u001b[0;34m:\u001b[0m\u001b[0;34m\u001b[0m\u001b[0;34m\u001b[0m\u001b[0m\n",
            "\u001b[0;32m/usr/local/lib/python3.7/dist-packages/jax/_src/dtypes.py\u001b[0m in \u001b[0;36m<genexpr>\u001b[0;34m(.0)\u001b[0m\n\u001b[1;32m    438\u001b[0m \u001b[0;32mdef\u001b[0m \u001b[0m_lattice_result_type\u001b[0m\u001b[0;34m(\u001b[0m\u001b[0;34m*\u001b[0m\u001b[0margs\u001b[0m\u001b[0;34m)\u001b[0m\u001b[0;34m:\u001b[0m\u001b[0;34m\u001b[0m\u001b[0;34m\u001b[0m\u001b[0m\n\u001b[0;32m--> 439\u001b[0;31m   \u001b[0mdtypes\u001b[0m\u001b[0;34m,\u001b[0m \u001b[0mweak_types\u001b[0m \u001b[0;34m=\u001b[0m \u001b[0mzip\u001b[0m\u001b[0;34m(\u001b[0m\u001b[0;34m*\u001b[0m\u001b[0;34m(\u001b[0m\u001b[0m_dtype_and_weaktype\u001b[0m\u001b[0;34m(\u001b[0m\u001b[0marg\u001b[0m\u001b[0;34m)\u001b[0m \u001b[0;32mfor\u001b[0m \u001b[0marg\u001b[0m \u001b[0;32min\u001b[0m \u001b[0margs\u001b[0m\u001b[0;34m)\u001b[0m\u001b[0;34m)\u001b[0m\u001b[0;34m\u001b[0m\u001b[0;34m\u001b[0m\u001b[0m\n\u001b[0m\u001b[1;32m    440\u001b[0m   \u001b[0;32mif\u001b[0m \u001b[0mlen\u001b[0m\u001b[0;34m(\u001b[0m\u001b[0mdtypes\u001b[0m\u001b[0;34m)\u001b[0m \u001b[0;34m==\u001b[0m \u001b[0;36m1\u001b[0m\u001b[0;34m:\u001b[0m\u001b[0;34m\u001b[0m\u001b[0;34m\u001b[0m\u001b[0m\n",
            "\u001b[0;32m/usr/local/lib/python3.7/dist-packages/jax/_src/dtypes.py\u001b[0m in \u001b[0;36m_dtype_and_weaktype\u001b[0;34m(value)\u001b[0m\n\u001b[1;32m    288\u001b[0m   \u001b[0;34m\"\"\"Return a (dtype, weak_type) tuple for the given input.\"\"\"\u001b[0m\u001b[0;34m\u001b[0m\u001b[0;34m\u001b[0m\u001b[0m\n\u001b[0;32m--> 289\u001b[0;31m   \u001b[0;32mreturn\u001b[0m \u001b[0mdtype\u001b[0m\u001b[0;34m(\u001b[0m\u001b[0mvalue\u001b[0m\u001b[0;34m)\u001b[0m\u001b[0;34m,\u001b[0m \u001b[0many\u001b[0m\u001b[0;34m(\u001b[0m\u001b[0mvalue\u001b[0m \u001b[0;32mis\u001b[0m \u001b[0mtyp\u001b[0m \u001b[0;32mfor\u001b[0m \u001b[0mtyp\u001b[0m \u001b[0;32min\u001b[0m \u001b[0m_weak_types\u001b[0m\u001b[0;34m)\u001b[0m \u001b[0;32mor\u001b[0m \u001b[0mis_weakly_typed\u001b[0m\u001b[0;34m(\u001b[0m\u001b[0mvalue\u001b[0m\u001b[0;34m)\u001b[0m\u001b[0;34m\u001b[0m\u001b[0;34m\u001b[0m\u001b[0m\n\u001b[0m\u001b[1;32m    290\u001b[0m \u001b[0;34m\u001b[0m\u001b[0m\n",
            "\u001b[0;32m/usr/local/lib/python3.7/dist-packages/jax/_src/dtypes.py\u001b[0m in \u001b[0;36mdtype\u001b[0;34m(x, canonicalize)\u001b[0m\n\u001b[1;32m    431\u001b[0m   \u001b[0;32melse\u001b[0m\u001b[0;34m:\u001b[0m\u001b[0;34m\u001b[0m\u001b[0;34m\u001b[0m\u001b[0m\n\u001b[0;32m--> 432\u001b[0;31m     \u001b[0mdt\u001b[0m \u001b[0;34m=\u001b[0m \u001b[0mnp\u001b[0m\u001b[0;34m.\u001b[0m\u001b[0mresult_type\u001b[0m\u001b[0;34m(\u001b[0m\u001b[0mx\u001b[0m\u001b[0;34m)\u001b[0m\u001b[0;34m\u001b[0m\u001b[0;34m\u001b[0m\u001b[0m\n\u001b[0m\u001b[1;32m    433\u001b[0m   \u001b[0;32mif\u001b[0m \u001b[0mdt\u001b[0m \u001b[0;32mnot\u001b[0m \u001b[0;32min\u001b[0m \u001b[0m_jax_dtype_set\u001b[0m\u001b[0;34m:\u001b[0m\u001b[0;34m\u001b[0m\u001b[0;34m\u001b[0m\u001b[0m\n",
            "\u001b[0;32m<__array_function__ internals>\u001b[0m in \u001b[0;36mresult_type\u001b[0;34m(*args, **kwargs)\u001b[0m\n",
            "\u001b[0;31mUnfilteredStackTrace\u001b[0m: TypeError: data type 'SAME' not understood\n\nThe stack trace below excludes JAX-internal frames.\nThe preceding is the original exception that occurred, unmodified.\n\n--------------------",
            "\nThe above exception was the direct cause of the following exception:\n",
            "\u001b[0;31mTypeError\u001b[0m                                 Traceback (most recent call last)",
            "\u001b[0;32m<ipython-input-100-56708f917a62>\u001b[0m in \u001b[0;36m<module>\u001b[0;34m()\u001b[0m\n\u001b[1;32m      1\u001b[0m get_optimized_func(\n\u001b[1;32m      2\u001b[0m     \u001b[0mjax\u001b[0m\u001b[0;34m.\u001b[0m\u001b[0mlax\u001b[0m\u001b[0;34m.\u001b[0m\u001b[0mconv\u001b[0m\u001b[0;34m,\u001b[0m\u001b[0;34m\u001b[0m\u001b[0;34m\u001b[0m\u001b[0m\n\u001b[0;32m----> 3\u001b[0;31m     \u001b[0;34m(\u001b[0m\u001b[0mjnp\u001b[0m\u001b[0;34m.\u001b[0m\u001b[0mones\u001b[0m\u001b[0;34m(\u001b[0m\u001b[0;34m(\u001b[0m\u001b[0;36m5\u001b[0m\u001b[0;34m,\u001b[0m\u001b[0;36m5\u001b[0m\u001b[0;34m)\u001b[0m\u001b[0;34m)\u001b[0m\u001b[0;34m,\u001b[0m \u001b[0mjnp\u001b[0m\u001b[0;34m.\u001b[0m\u001b[0mones\u001b[0m\u001b[0;34m(\u001b[0m\u001b[0;34m(\u001b[0m\u001b[0;36m5\u001b[0m\u001b[0;34m,\u001b[0m\u001b[0;36m5\u001b[0m\u001b[0;34m)\u001b[0m\u001b[0;34m)\u001b[0m\u001b[0;34m,\u001b[0m \u001b[0;36m1\u001b[0m\u001b[0;34m,\u001b[0m \u001b[0;34m\"SAME\"\u001b[0m\u001b[0;34m)\u001b[0m\u001b[0;34m\u001b[0m\u001b[0;34m\u001b[0m\u001b[0m\n\u001b[0m\u001b[1;32m      4\u001b[0m     ).hlo_modules()[0].to_string()\n",
            "\u001b[0;32m<ipython-input-97-ae23534e1a9a>\u001b[0m in \u001b[0;36mget_optimized_func\u001b[0;34m(f, args, static_argnums)\u001b[0m\n\u001b[1;32m      3\u001b[0m     \u001b[0mc\u001b[0m \u001b[0;34m=\u001b[0m \u001b[0mjax\u001b[0m\u001b[0;34m.\u001b[0m\u001b[0mxla_computation\u001b[0m\u001b[0;34m(\u001b[0m\u001b[0mf\u001b[0m\u001b[0;34m,\u001b[0m \u001b[0mstatic_argnums\u001b[0m\u001b[0;34m=\u001b[0m\u001b[0mstatic_argnums\u001b[0m\u001b[0;34m)\u001b[0m\u001b[0;34m(\u001b[0m\u001b[0;34m*\u001b[0m\u001b[0margs\u001b[0m\u001b[0;34m)\u001b[0m\u001b[0;34m\u001b[0m\u001b[0;34m\u001b[0m\u001b[0m\n\u001b[1;32m      4\u001b[0m   \u001b[0;32melse\u001b[0m\u001b[0;34m:\u001b[0m\u001b[0;34m\u001b[0m\u001b[0;34m\u001b[0m\u001b[0m\n\u001b[0;32m----> 5\u001b[0;31m     \u001b[0mc\u001b[0m \u001b[0;34m=\u001b[0m \u001b[0mjax\u001b[0m\u001b[0;34m.\u001b[0m\u001b[0mxla_computation\u001b[0m\u001b[0;34m(\u001b[0m\u001b[0mf\u001b[0m\u001b[0;34m)\u001b[0m\u001b[0;34m(\u001b[0m\u001b[0;34m*\u001b[0m\u001b[0margs\u001b[0m\u001b[0;34m)\u001b[0m\u001b[0;34m\u001b[0m\u001b[0;34m\u001b[0m\u001b[0m\n\u001b[0m\u001b[1;32m      6\u001b[0m \u001b[0;34m\u001b[0m\u001b[0m\n\u001b[1;32m      7\u001b[0m   \u001b[0mbackend\u001b[0m \u001b[0;34m=\u001b[0m \u001b[0mjax\u001b[0m\u001b[0;34m.\u001b[0m\u001b[0mlib\u001b[0m\u001b[0;34m.\u001b[0m\u001b[0mxla_bridge\u001b[0m\u001b[0;34m.\u001b[0m\u001b[0mget_backend\u001b[0m\u001b[0;34m(\u001b[0m\u001b[0;34m)\u001b[0m\u001b[0;34m\u001b[0m\u001b[0;34m\u001b[0m\u001b[0m\n",
            "\u001b[0;32m<__array_function__ internals>\u001b[0m in \u001b[0;36mresult_type\u001b[0;34m(*args, **kwargs)\u001b[0m\n",
            "\u001b[0;31mTypeError\u001b[0m: data type 'SAME' not understood"
          ]
        }
      ]
    },
    {
      "cell_type": "code",
      "source": [
        "print(get_optimized_func(, (1.0,)))"
      ],
      "metadata": {
        "id": "Ul42HZJGFV5i"
      },
      "execution_count": null,
      "outputs": []
    },
    {
      "cell_type": "code",
      "source": [
        "print(get_optimized_func(b, (1.0,2.0, 3.0)))"
      ],
      "metadata": {
        "colab": {
          "base_uri": "https://localhost:8080/"
        },
        "id": "-16fO0HOxKO2",
        "outputId": "1df0cf56-2c5e-4ad0-efc8-81fad1103e51"
      },
      "execution_count": 41,
      "outputs": [
        {
          "output_type": "stream",
          "name": "stdout",
          "text": [
            "HloModule xla_computation_b.20, entry_computation_layout={(f32[],f32[],f32[])->(f32[])}\n",
            "\n",
            "fused_computation {\n",
            "  param_1.1 = f32[] parameter(1)\n",
            "  param_2 = f32[] parameter(2)\n",
            "  multiply.1 = f32[] multiply(param_1.1, param_2)\n",
            "  param_0.1 = f32[] parameter(0)\n",
            "  ROOT multiply.0 = f32[] multiply(multiply.1, param_0.1)\n",
            "}\n",
            "\n",
            "ENTRY main.7 {\n",
            "  Arg_2.3 = f32[] parameter(2)\n",
            "  Arg_0.1 = f32[] parameter(0)\n",
            "  Arg_1.2 = f32[] parameter(1)\n",
            "  fusion = f32[] fusion(Arg_2.3, Arg_0.1, Arg_1.2), kind=kLoop, calls=fused_computation\n",
            "  ROOT tuple.6 = (f32[]) tuple(fusion)\n",
            "}\n",
            "\n",
            "\n"
          ]
        }
      ]
    },
    {
      "cell_type": "code",
      "source": [
        "print(get_optimized_func(matty, (jnp.ones((5,5)), jnp.ones((5,5))) ))"
      ],
      "metadata": {
        "colab": {
          "base_uri": "https://localhost:8080/"
        },
        "id": "JOyEDBAbxvEP",
        "outputId": "bb2ceb4c-1d77-4222-fa9c-afe766786191"
      },
      "execution_count": 43,
      "outputs": [
        {
          "output_type": "stream",
          "name": "stdout",
          "text": [
            "HloModule xla_computation_matty.22, entry_computation_layout={(f32[5,5]{1,0},f32[5,5]{1,0})->(f32[5,5]{1,0})}\n",
            "\n",
            "fused_computation {\n",
            "  param_0 = f32[5,5]{1,0} parameter(0)\n",
            "  constant.2 = f32[] constant(1)\n",
            "  broadcast.2 = f32[5,5]{1,0} broadcast(constant.2), dimensions={}\n",
            "  ROOT add.3 = f32[5,5]{1,0} add(param_0, broadcast.2)\n",
            "}\n",
            "\n",
            "ENTRY main.10 {\n",
            "  Arg_0.1 = f32[5,5]{1,0} parameter(0)\n",
            "  Arg_1.2 = f32[5,5]{1,0} parameter(1)\n",
            "  dot.5 = f32[5,5]{1,0} dot(Arg_0.1, Arg_1.2), lhs_contracting_dims={1}, rhs_contracting_dims={0}\n",
            "  fusion = f32[5,5]{1,0} fusion(dot.5), kind=kLoop, calls=fused_computation\n",
            "  ROOT tuple.9 = (f32[5,5]{1,0}) tuple(fusion)\n",
            "}\n",
            "\n",
            "\n"
          ]
        }
      ]
    },
    {
      "cell_type": "code",
      "source": [
        "print(get_optimized_func(matty, (jnp.ones((5000,5000)), jnp.ones((5000,5000))) ))"
      ],
      "metadata": {
        "colab": {
          "base_uri": "https://localhost:8080/"
        },
        "id": "DdPwEO7c0MYl",
        "outputId": "8253d688-28c2-47bc-f1db-d4ce7ae0baad"
      },
      "execution_count": 45,
      "outputs": [
        {
          "output_type": "stream",
          "name": "stdout",
          "text": [
            "HloModule xla_computation_matty.24, entry_computation_layout={(f32[5000,5000]{1,0},f32[5000,5000]{1,0})->(f32[5000,5000]{1,0})}\n",
            "\n",
            "fused_computation.clone {\n",
            "  param_0.1 = f32[5000,5000]{1,0} parameter(0)\n",
            "  constant.4 = f32[] constant(1)\n",
            "  broadcast.3 = f32[5000,5000]{1,0} broadcast(constant.4), dimensions={}\n",
            "  ROOT add.4 = f32[5000,5000]{1,0} add(param_0.1, broadcast.3)\n",
            "}\n",
            "\n",
            "parallel_fusion {\n",
            "  p = f32[5000,5000]{1,0} parameter(0)\n",
            "  ROOT fusion.clone = f32[5000,5000]{1,0} fusion(p), kind=kLoop, calls=fused_computation.clone, outer_dimension_partitions={2}\n",
            "}\n",
            "\n",
            "ENTRY main.10 {\n",
            "  Arg_0.1 = f32[5000,5000]{1,0} parameter(0)\n",
            "  Arg_1.2 = f32[5000,5000]{1,0} parameter(1)\n",
            "  dot.5 = f32[5000,5000]{1,0} dot(Arg_0.1, Arg_1.2), lhs_contracting_dims={1}, rhs_contracting_dims={0}\n",
            "  call = f32[5000,5000]{1,0} call(dot.5), to_apply=parallel_fusion\n",
            "  ROOT tuple.9 = (f32[5000,5000]{1,0}) tuple(call)\n",
            "}\n",
            "\n",
            "\n"
          ]
        }
      ]
    },
    {
      "cell_type": "code",
      "source": [
        ""
      ],
      "metadata": {
        "id": "Jlgr7SNm2Fnq"
      },
      "execution_count": null,
      "outputs": []
    },
    {
      "cell_type": "code",
      "source": [
        "def render_pixel(uvt):\n",
        "  uv = uvt[0:2]\n",
        "  time = uvt[2]\n",
        "\n",
        "  def vec3(x, y, z):\n",
        "    return jnp.array([x, y, z])\n",
        "\n",
        "  def mag(v):\n",
        "    return jnp.sqrt(v.dot(v))\n",
        "\n",
        "  def normalize(v):\n",
        "    return v / mag(v)\n",
        "\n",
        "  def sdf_sphere(v, r):\n",
        "    return mag(v) - r\n",
        "\n",
        "  def scene(p):\n",
        "    return sdf_sphere(p, 0.6)\n",
        "\n",
        "  sdf_normal = grad(scene)\n",
        "  ray_dir = normalize(vec3(*uv, 1.0))\n",
        "  ray_pos = vec3(0.0, 0.0, -2.0)\n",
        "  eps = 0.001\n",
        "  max_dist = 100\n",
        "  bg_color = vec3(0.0, 0.0, 0.0)\n",
        "\n",
        "  def raymarch_step(d):\n",
        "    d_s = scene(ray_pos + ray_dir * d[0] * 0.95)\n",
        "    return d[0] + d_s, d_s\n",
        "\n",
        "  run_condition = lambda d : jnp.where((d[1] > eps) & (d[1] < max_dist), True, False)\n",
        "\n",
        "  dist_i = scene(ray_pos)\n",
        "  dist_o, dist_s = jax.lax.while_loop(run_condition, raymarch_step, (dist_i, dist_i))\n",
        "\n",
        "  intersect_mask = (dist_s < eps).astype(jnp.float32)\n",
        "\n",
        "  def color(p):\n",
        "    light_dir = normalize(vec3(0.2,-0.4,-1.0))\n",
        "    normal = sdf_normal(p)\n",
        "    light = jnp.maximum(normal.dot(light_dir), 0.0)\n",
        "    return jnp.array([0.8, 0.1, 0.15]) * light\n",
        "\n",
        "  intersect_pos = ray_pos + ray_dir * dist_o\n",
        "  obj_color = color(intersect_pos)\n",
        "\n",
        "  return intersect_mask * obj_color + (1.0 - intersect_mask) * bg_color"
      ],
      "metadata": {
        "id": "57MGSUhK1Qms"
      },
      "execution_count": 46,
      "outputs": []
    },
    {
      "cell_type": "code",
      "source": [
        "img_res = 128\n",
        "ax_coords = jnp.arange(img_res)/img_res-0.5\n",
        "img_coords = jnp.meshgrid(ax_coords, ax_coords)\n",
        "img_coords = jnp.stack([*img_coords, jnp.full((img_res, img_res), 1.0)], axis=2)\n",
        "# x = jnp.array([-0.4, -0.4, -2.0])\n",
        "# x.dot(x)\n",
        "#render_pixel(jnp.array([0.0, 0.0, 1.0]))\n",
        "render_pixels = jit(vmap(vmap(render_pixel)))\n",
        "#test_img = render_pixels(img_coords)"
      ],
      "metadata": {
        "id": "f3OBA_7g2JAT"
      },
      "execution_count": 49,
      "outputs": []
    },
    {
      "cell_type": "code",
      "source": [
        "#print(get_optimized_func(render_pixel, (jnp.array([0.0, 0.0, 1.0]),) ))"
      ],
      "metadata": {
        "id": "DL4l-mJ02RRH"
      },
      "execution_count": 61,
      "outputs": []
    },
    {
      "cell_type": "code",
      "source": [
        "#print(get_optimized_func(jit(render_pixel), (jnp.array([0.0, 0.0, 1.0]),) ))"
      ],
      "metadata": {
        "id": "ks3TJjvj2zyC"
      },
      "execution_count": 62,
      "outputs": []
    },
    {
      "cell_type": "code",
      "source": [
        "print(get_optimized_func(render_pixels, (img_coords,) ))"
      ],
      "metadata": {
        "colab": {
          "base_uri": "https://localhost:8080/"
        },
        "id": "pn71seAk2VmQ",
        "outputId": "faf8cb5e-3d87-489e-9991-38eb9e29f1d2"
      },
      "execution_count": 63,
      "outputs": [
        {
          "output_type": "stream",
          "name": "stdout",
          "text": [
            "HloModule xla_computation_render_pixel.84, entry_computation_layout={(f32[128,128,3]{2,1,0})->(f32[128,128,3]{2,1,0})}\n",
            "\n",
            "fused_computation.1 {\n",
            "  param_0.4 = f32[128,128]{1,0} parameter(0)\n",
            "  constant.68 = f32[] constant(0.001)\n",
            "  broadcast.110 = f32[128,128]{1,0} broadcast(constant.68), dimensions={}\n",
            "  compare.16 = pred[128,128]{1,0} compare(param_0.4, broadcast.110), direction=GT\n",
            "  constant.67 = f32[] constant(100)\n",
            "  broadcast.109 = f32[128,128]{1,0} broadcast(constant.67), dimensions={}\n",
            "  compare.15 = pred[128,128]{1,0} compare(param_0.4, broadcast.109), direction=LT\n",
            "  and.7 = pred[128,128]{1,0} and(compare.16, compare.15)\n",
            "  constant.66 = pred[] constant(true)\n",
            "  broadcast.108 = pred[128,128]{1,0} broadcast(constant.66), dimensions={}\n",
            "  constant.65 = pred[] constant(false)\n",
            "  broadcast.107 = pred[128,128]{1,0} broadcast(constant.65), dimensions={}\n",
            "  select.17 = pred[128,128]{1,0} select(and.7, broadcast.108, broadcast.107)\n",
            "  param_1.8 = f32[128,128]{1,0} parameter(1)\n",
            "  constant.43.clone.4 = f32[] constant(-0.6)\n",
            "  broadcast.105 = f32[128,128]{1,0} broadcast(constant.43.clone.4), dimensions={}\n",
            "  add.14 = f32[128,128]{1,0} add(param_1.8, broadcast.105)\n",
            "  ROOT select.16 = f32[128,128]{1,0} select(select.17, add.14, param_0.4)\n",
            "}\n",
            "\n",
            "fused_computation.2 {\n",
            "  param_2.15 = f32[128,128]{1,0} parameter(2)\n",
            "  constant.76 = f32[] constant(0.001)\n",
            "  broadcast.117 = f32[128,128]{1,0} broadcast(constant.76), dimensions={}\n",
            "  compare.18 = pred[128,128]{1,0} compare(param_2.15, broadcast.117), direction=GT\n",
            "  constant.75 = f32[] constant(100)\n",
            "  broadcast.116 = f32[128,128]{1,0} broadcast(constant.75), dimensions={}\n",
            "  compare.17 = pred[128,128]{1,0} compare(param_2.15, broadcast.116), direction=LT\n",
            "  and.8 = pred[128,128]{1,0} and(compare.18, compare.17)\n",
            "  constant.74 = pred[] constant(true)\n",
            "  broadcast.115 = pred[128,128]{1,0} broadcast(constant.74), dimensions={}\n",
            "  constant.72 = pred[] constant(false)\n",
            "  broadcast.114 = pred[128,128]{1,0} broadcast(constant.72), dimensions={}\n",
            "  select.19 = pred[128,128]{1,0} select(and.8, broadcast.115, broadcast.114)\n",
            "  param_0.6 = f32[128,128]{1,0} parameter(0)\n",
            "  param_1.11 = f32[128,128]{1,0} parameter(1)\n",
            "  constant.43.clone.5 = f32[] constant(-0.6)\n",
            "  broadcast.113 = f32[128,128]{1,0} broadcast(constant.43.clone.5), dimensions={}\n",
            "  add.16 = f32[128,128]{1,0} add(param_1.11, broadcast.113)\n",
            "  add.15 = f32[128,128]{1,0} add(param_0.6, add.16)\n",
            "  ROOT select.18 = f32[128,128]{1,0} select(select.19, add.15, param_0.6)\n",
            "}\n",
            "\n",
            "fused_computation.3 {\n",
            "  constant.78 = f32[3]{0} constant({0, 0, -2})\n",
            "  broadcast.120 = f32[128,128,3]{2,1,0} broadcast(constant.78), dimensions={2}\n",
            "  param_0.8 = f32[128,128,3]{2,1,0} parameter(0)\n",
            "  param_1.15 = f32[128,128]{1,0} parameter(1)\n",
            "  broadcast.119 = f32[128,128,3]{2,1,0} broadcast(param_1.15), dimensions={0,1}\n",
            "  multiply.15 = f32[128,128,3]{2,1,0} multiply(param_0.8, broadcast.119)\n",
            "  constant.77 = f32[] constant(0.95)\n",
            "  broadcast.118 = f32[128,128,3]{2,1,0} broadcast(constant.77), dimensions={}\n",
            "  multiply.14 = f32[128,128,3]{2,1,0} multiply(multiply.15, broadcast.118)\n",
            "  ROOT add.17 = f32[128,128,3]{2,1,0} add(broadcast.120, multiply.14)\n",
            "}\n",
            "\n",
            "wide.region_0.14.clone.clone {\n",
            "  wide_param.4 = (f32[128,128]{1,0}, f32[128,128]{1,0}, f32[128,128,3]{2,1,0}) parameter(0)\n",
            "  get-tuple-element.64 = f32[128,128]{1,0} get-tuple-element(wide_param.4), index=0\n",
            "  get-tuple-element.73 = f32[128,128,3]{2,1,0} get-tuple-element(wide_param.4), index=2\n",
            "  fusion.3 = f32[128,128,3]{2,1,0} fusion(get-tuple-element.73, get-tuple-element.64), kind=kLoop, calls=fused_computation.3\n",
            "  dot.14 = f32[128,128]{1,0} dot(fusion.3, fusion.3), lhs_batch_dims={0,1}, lhs_contracting_dims={2}, rhs_batch_dims={0,1}, rhs_contracting_dims={2}\n",
            "  sqrt.6 = f32[128,128]{1,0} sqrt(dot.14)\n",
            "  get-tuple-element.69 = f32[128,128]{1,0} get-tuple-element(wide_param.4), index=1\n",
            "  copy.3 = f32[128,128]{1,0} copy(get-tuple-element.69)\n",
            "  fusion.2 = f32[128,128]{1,0} fusion(get-tuple-element.64, sqrt.6, copy.3), kind=kLoop, calls=fused_computation.2\n",
            "  fusion.1 = f32[128,128]{1,0} fusion(copy.3, sqrt.6), kind=kLoop, calls=fused_computation.1\n",
            "  ROOT tuple.15 = (f32[128,128]{1,0}, f32[128,128]{1,0}, f32[128,128,3]{2,1,0}) tuple(fusion.2, fusion.1, get-tuple-element.73)\n",
            "}\n",
            "\n",
            "region_2.59 {\n",
            "  Arg_0.60 = pred[] parameter(0)\n",
            "  Arg_1.61 = pred[] parameter(1)\n",
            "  ROOT or.62 = pred[] or(Arg_0.60, Arg_1.61)\n",
            "}\n",
            "\n",
            "fused_computation {\n",
            "  param_0.2 = f32[128,128]{1,0} parameter(0)\n",
            "  constant.64 = f32[] constant(0.001)\n",
            "  broadcast.103 = f32[128,128]{1,0} broadcast(constant.64), dimensions={}\n",
            "  compare.14 = pred[128,128]{1,0} compare(param_0.2, broadcast.103), direction=GT\n",
            "  constant.63 = f32[] constant(100)\n",
            "  broadcast.102 = f32[128,128]{1,0} broadcast(constant.63), dimensions={}\n",
            "  compare.13 = pred[128,128]{1,0} compare(param_0.2, broadcast.102), direction=LT\n",
            "  and.6 = pred[128,128]{1,0} and(compare.14, compare.13)\n",
            "  constant.62 = pred[] constant(true)\n",
            "  broadcast.101 = pred[128,128]{1,0} broadcast(constant.62), dimensions={}\n",
            "  constant.61 = pred[] constant(false)\n",
            "  broadcast.100 = pred[128,128]{1,0} broadcast(constant.61), dimensions={}\n",
            "  ROOT select.15 = pred[128,128]{1,0} select(and.6, broadcast.101, broadcast.100)\n",
            "}\n",
            "\n",
            "wide.region_1.63.clone.clone {\n",
            "  wide_param.5 = (f32[128,128]{1,0}, f32[128,128]{1,0}, f32[128,128,3]{2,1,0}) parameter(0)\n",
            "  get-tuple-element.56 = f32[128,128]{1,0} get-tuple-element(wide_param.5), index=1\n",
            "  fusion = pred[128,128]{1,0} fusion(get-tuple-element.56), kind=kLoop, calls=fused_computation\n",
            "  constant.60 = pred[] constant(false)\n",
            "  reduce-window.3 = pred[4,4]{1,0} reduce-window(fusion, constant.60), window={size=32x32 stride=32x32}, to_apply=region_2.59\n",
            "  ROOT reduce.3 = pred[] reduce(reduce-window.3, constant.60), dimensions={0,1}, to_apply=region_2.59\n",
            "}\n",
            "\n",
            "fused_computation.4 {\n",
            "  param_1.23 = f32[128,128]{1,0} parameter(1)\n",
            "  constant.81 = f32[] constant(0.001)\n",
            "  broadcast.132 = f32[128,128]{1,0} broadcast(constant.81), dimensions={}\n",
            "  compare.19 = pred[128,128]{1,0} compare(param_1.23, broadcast.132), direction=LT\n",
            "  convert.1 = f32[128,128]{1,0} convert(compare.19)\n",
            "  broadcast.131 = f32[128,128,3]{2,1,0} broadcast(convert.1), dimensions={0,1}\n",
            "  constant.80 = f32[3]{0} constant({0.8, 0.1, 0.15})\n",
            "  broadcast.130 = f32[128,128,3]{2,1,0} broadcast(constant.80), dimensions={2}\n",
            "  param_0.13 = f32[16384]{0} parameter(0)\n",
            "  constant.79 = f32[] constant(0)\n",
            "  broadcast.128 = f32[16384]{0} broadcast(constant.79), dimensions={}\n",
            "  maximum.2 = f32[16384]{0} maximum(param_0.13, broadcast.128)\n",
            "  reshape.73 = f32[128,128]{1,0} reshape(maximum.2)\n",
            "  broadcast.126 = f32[128,128,3]{2,1,0} broadcast(reshape.73), dimensions={0,1}\n",
            "  multiply.18 = f32[128,128,3]{2,1,0} multiply(broadcast.130, broadcast.126)\n",
            "  multiply.17 = f32[128,128,3]{2,1,0} multiply(broadcast.131, multiply.18)\n",
            "  constant.82 = f32[] constant(1)\n",
            "  broadcast.125 = f32[128,128]{1,0} broadcast(constant.82), dimensions={}\n",
            "  subtract.2 = f32[128,128]{1,0} subtract(broadcast.125, convert.1)\n",
            "  broadcast.123 = f32[128,128]{1,0} broadcast(constant.79), dimensions={}\n",
            "  multiply.16 = f32[128,128]{1,0} multiply(subtract.2, broadcast.123)\n",
            "  broadcast.121 = f32[128,128,3]{2,1,0} broadcast(multiply.16), dimensions={0,1}\n",
            "  ROOT add.18 = f32[128,128,3]{2,1,0} add(multiply.17, broadcast.121)\n",
            "}\n",
            "\n",
            "fused_computation.5 {\n",
            "  constant.85 = f32[] constant(0.5)\n",
            "  broadcast.137 = f32[128,128]{1,0} broadcast(constant.85), dimensions={}\n",
            "  param_0.21 = f32[128,128]{1,0} parameter(0)\n",
            "  multiply.20 = f32[128,128]{1,0} multiply(broadcast.137, param_0.21)\n",
            "  broadcast.134 = f32[128,128,3]{2,1,0} broadcast(multiply.20), dimensions={0,1}\n",
            "  constant.84 = f32[3]{0} constant({0, 0, -2})\n",
            "  broadcast.136 = f32[128,128,3]{2,1,0} broadcast(constant.84), dimensions={2}\n",
            "  param_1.30 = f32[128,128,3]{2,1,0} parameter(1)\n",
            "  param_2.33 = f32[128,128]{1,0} parameter(2)\n",
            "  broadcast.135 = f32[128,128,3]{2,1,0} broadcast(param_2.33), dimensions={0,1}\n",
            "  multiply.21 = f32[128,128,3]{2,1,0} multiply(param_1.30, broadcast.135)\n",
            "  add.20 = f32[128,128,3]{2,1,0} add(broadcast.136, multiply.21)\n",
            "  multiply.19 = f32[128,128,3]{2,1,0} multiply(broadcast.134, add.20)\n",
            "  add.19 = f32[128,128,3]{2,1,0} add(multiply.19, multiply.19)\n",
            "  reshape.74 = f32[16384,3]{1,0} reshape(add.19)\n",
            "  constant.83 = f32[3]{0} constant({0.182574183, -0.365148365, -0.912870884})\n",
            "  ROOT dot.15 = f32[16384]{0} dot(reshape.74, constant.83), lhs_contracting_dims={1}, rhs_contracting_dims={0}\n",
            "}\n",
            "\n",
            "fused_computation.6 {\n",
            "  constant.87 = f32[3]{0} constant({0, 0, -2})\n",
            "  broadcast.139 = f32[128,128,3]{2,1,0} broadcast(constant.87), dimensions={2}\n",
            "  param_0.23 = f32[128,128,3]{2,1,0} parameter(0)\n",
            "  param_1.33 = f32[128,128]{1,0} parameter(1)\n",
            "  broadcast.138 = f32[128,128,3]{2,1,0} broadcast(param_1.33), dimensions={0,1}\n",
            "  multiply.22 = f32[128,128,3]{2,1,0} multiply(param_0.23, broadcast.138)\n",
            "  ROOT add.21 = f32[128,128,3]{2,1,0} add(broadcast.139, multiply.22)\n",
            "}\n",
            "\n",
            "fused_computation.7 {\n",
            "  param_0.24 = f32[128,128,3]{2,1,0} parameter(0)\n",
            "  param_1.35 = f32[128,128]{1,0} parameter(1)\n",
            "  broadcast.140 = f32[128,128,3]{2,1,0} broadcast(param_1.35), dimensions={0,1}\n",
            "  ROOT divide.3 = f32[128,128,3]{2,1,0} divide(param_0.24, broadcast.140)\n",
            "}\n",
            "\n",
            "fused_computation.8 {\n",
            "  param_0.27 = f32[128,128,3]{2,1,0} parameter(0)\n",
            "  slice.6 = f32[128,128,2]{2,1,0} slice(param_0.27), slice={[0:128], [0:128], [0:2]}\n",
            "  constant.89 = f32[] constant(1)\n",
            "  ROOT pad.1 = f32[128,128,3]{2,1,0} pad(slice.6, constant.89), padding=0_0x0_0x0_1\n",
            "}\n",
            "\n",
            "ENTRY main.170 {\n",
            "  Arg_0.1 = f32[128,128,3]{2,1,0} parameter(0)\n",
            "  fusion.8 = f32[128,128,3]{2,1,0} fusion(Arg_0.1), kind=kLoop, calls=fused_computation.8\n",
            "  dot.1 = f32[128,128]{1,0} dot(fusion.8, fusion.8), lhs_batch_dims={0,1}, lhs_contracting_dims={2}, rhs_batch_dims={0,1}, rhs_contracting_dims={2}\n",
            "  sqrt.1 = f32[128,128]{1,0} sqrt(dot.1)\n",
            "  fusion.7 = f32[128,128,3]{2,1,0} fusion(fusion.8, sqrt.1), kind=kLoop, calls=fused_computation.7\n",
            "  constant.42 = f32[] constant(1.4)\n",
            "  broadcast.5 = f32[128,128]{1,0} broadcast(constant.42), dimensions={}\n",
            "  copy.1 = f32[128,128]{1,0} copy(broadcast.5)\n",
            "  tuple.13 = (f32[128,128]{1,0}, f32[128,128]{1,0}, f32[128,128,3]{2,1,0}) tuple(broadcast.5, copy.1, fusion.7)\n",
            "  while.3 = (f32[128,128]{1,0}, f32[128,128]{1,0}, f32[128,128,3]{2,1,0}) while(tuple.13), condition=wide.region_1.63.clone.clone, body=wide.region_0.14.clone.clone\n",
            "  get-tuple-element.3 = f32[128,128]{1,0} get-tuple-element(while.3), index=0\n",
            "  fusion.6 = f32[128,128,3]{2,1,0} fusion(fusion.7, get-tuple-element.3), kind=kLoop, calls=fused_computation.6\n",
            "  dot.2 = f32[128,128]{1,0} dot(fusion.6, fusion.6), lhs_batch_dims={0,1}, lhs_contracting_dims={2}, rhs_batch_dims={0,1}, rhs_contracting_dims={2}\n",
            "  rsqrt = f32[128,128]{1,0} rsqrt(dot.2)\n",
            "  fusion.5 = f32[16384]{0} fusion(rsqrt, fusion.7, get-tuple-element.3), kind=kLoop, calls=fused_computation.5\n",
            "  get-tuple-element.2 = f32[128,128]{1,0} get-tuple-element(while.3), index=1\n",
            "  fusion.4 = f32[128,128,3]{2,1,0} fusion(fusion.5, get-tuple-element.2), kind=kLoop, calls=fused_computation.4\n",
            "  ROOT tuple.169 = (f32[128,128,3]{2,1,0}) tuple(fusion.4)\n",
            "}\n",
            "\n",
            "\n"
          ]
        }
      ]
    },
    {
      "cell_type": "code",
      "source": [
        ""
      ],
      "metadata": {
        "id": "9ECWO2cL5-Us"
      },
      "execution_count": null,
      "outputs": []
    }
  ]
}