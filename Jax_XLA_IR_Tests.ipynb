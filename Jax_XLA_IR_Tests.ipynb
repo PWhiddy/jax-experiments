{
  "nbformat": 4,
  "nbformat_minor": 0,
  "metadata": {
    "colab": {
      "name": "Jax-XLA-IR-Tests.ipynb",
      "provenance": [],
      "authorship_tag": "ABX9TyNDTMrWTeNbPSBuL8XXVw3U"
    },
    "kernelspec": {
      "name": "python3",
      "display_name": "Python 3"
    },
    "language_info": {
      "name": "python"
    }
  },
  "cells": [
    {
      "cell_type": "code",
      "execution_count": 104,
      "metadata": {
        "id": "owCBvUDLuSW-"
      },
      "outputs": [],
      "source": [
        "import jax\n",
        "import jax.numpy as jnp\n",
        "from jax import jit, vmap, grad\n",
        "import jax.scipy as jsp\n",
        "\n",
        "import jaxlib.xla_extension as xla_ext"
      ]
    },
    {
      "cell_type": "markdown",
      "source": [
        "Example Ref - https://github.com/google/jax/discussions/7068\n",
        "```python\n",
        "# You could use the presets\n",
        "option = xla_ext.HloPrintOptions.short_parsable()\n",
        "print(module.to_string(option))\n",
        "\n",
        "option = xla_ext.HloPrintOptions.canonical()\n",
        "print(module.to_string(option))\n",
        "\n",
        "option = xla_ext.HloPrintOptions.fingerprint()\n",
        "print(module.to_string(option))\n",
        "\n",
        "# Or set each option manually\n",
        "option = xla_ext.HloPrintOptions()\n",
        "option.print_metadata = False\n",
        "option.include_layout_in_shapes = False\n",
        "print(module.to_string(option))\n",
        "```"
      ],
      "metadata": {
        "id": "jv_cdPpquomI"
      }
    },
    {
      "cell_type": "code",
      "source": [
        "def f(x):\n",
        "  return jnp.sin(x)\n",
        "\n",
        "c = jax.xla_computation(f)(1.)\n",
        "\n",
        "backend = jax.lib.xla_bridge.get_backend()\n",
        "computy = backend.compile(c)"
      ],
      "metadata": {
        "id": "v_hIP5lruV3z"
      },
      "execution_count": 8,
      "outputs": []
    },
    {
      "cell_type": "code",
      "source": [
        "def b(a, b, c):\n",
        "    return a * b * c"
      ],
      "metadata": {
        "id": "hrdPsmt3upeI"
      },
      "execution_count": 20,
      "outputs": []
    },
    {
      "cell_type": "code",
      "source": [
        "def matty(a, b):\n",
        "  return jnp.matmul(a,b) + 1 - 1 + 1"
      ],
      "metadata": {
        "id": "EPgPfxJQyA9n"
      },
      "execution_count": 32,
      "outputs": []
    },
    {
      "cell_type": "code",
      "source": [
        "def get_optimized_func(f, args, static_argnums=None):\n",
        "  if static_argnums is not None:\n",
        "    c = jax.xla_computation(f, static_argnums=static_argnums)(*args)\n",
        "  else:\n",
        "    c = jax.xla_computation(f)(*args)\n",
        "\n",
        "  backend = jax.lib.xla_bridge.get_backend()\n",
        "  e = backend.compile(c)\n",
        "  # hlo python object binding lives at\n",
        "  # https://github.com/tensorflow/tensorflow/blob/master/tensorflow/compiler/xla/python/xla_compiler.cc\n",
        "  print_options = xla_ext.HloPrintOptions\n",
        "  standard_option_types = [print_options.short_parsable(), print_options.canonical(), print_options.fingerprint()]\n",
        "  option = standard_option_types[0]\n",
        "  #option = xla_ext.HloPrintOptions()\n",
        "  #option.print_metadata = False\n",
        "  #option.include_layout_in_shapes = False\n",
        "  #return e\n",
        "  return e.hlo_modules()[0].to_string(option)\n"
      ],
      "metadata": {
        "id": "vilfKOTZvDc5"
      },
      "execution_count": 112,
      "outputs": []
    },
    {
      "cell_type": "code",
      "source": [
        "print(get_optimized_func(f, (1.0,)))"
      ],
      "metadata": {
        "colab": {
          "base_uri": "https://localhost:8080/"
        },
        "id": "_3B7rj3qxGxG",
        "outputId": "6f08a4d0-6b4c-4b97-fd9f-fe7eb8d0cefd"
      },
      "execution_count": 114,
      "outputs": [
        {
          "output_type": "stream",
          "name": "stdout",
          "text": [
            "HloModule xla_computation_f.146, entry_computation_layout={(f32[])->(f32[])}\n",
            "\n",
            "fused_computation {\n",
            "  param_0.1 = f32[] parameter(0)\n",
            "  cosine.0 = f32[] cosine(param_0.1)\n",
            "  ROOT sine.0 = f32[] sine(cosine.0)\n",
            "}\n",
            "\n",
            "ENTRY main.5 {\n",
            "  Arg_0.1 = f32[] parameter(0)\n",
            "  fusion = f32[] fusion(Arg_0.1), kind=kLoop, calls=fused_computation\n",
            "  ROOT tuple.4 = (f32[]) tuple(fusion)\n",
            "}\n",
            "\n",
            "\n"
          ]
        }
      ]
    },
    {
      "cell_type": "code",
      "source": [
        "x = jnp.linspace(-3, 3, 7)\n",
        "window = jsp.stats.norm.pdf(x) * jsp.stats.norm.pdf(x[:, None])\n",
        "input_img = jnp.ones((32,32))\n",
        "print(get_optimized_func(\n",
        "    jsp.signal.convolve, \n",
        "    (input_img, window)\n",
        "    ))"
      ],
      "metadata": {
        "colab": {
          "base_uri": "https://localhost:8080/"
        },
        "id": "7fpkBOotG-d3",
        "outputId": "884bb43e-63ed-405c-9447-a39ee1cc3853"
      },
      "execution_count": 117,
      "outputs": [
        {
          "output_type": "stream",
          "name": "stdout",
          "text": [
            "HloModule xla_computation_convolve.148, entry_computation_layout={(f32[32,32]{1,0},f32[7,7]{1,0})->(f32[38,38]{1,0})}\n",
            "\n",
            "fused_computation {\n",
            "  param_0.2 = f32[7,7]{1,0} parameter(0)\n",
            "  reverse.1 = f32[7,7]{1,0} reverse(param_0.2), dimensions={0,1}\n",
            "  reshape.6 = f32[7,7,1,1]{1,0,3,2} reshape(reverse.1)\n",
            "  ROOT copy.2 = f32[7,7,1,1]{3,2,1,0} copy(reshape.6)\n",
            "}\n",
            "\n",
            "fused_computation.1 {\n",
            "  param_0.4 = f32[32,32]{1,0} parameter(0)\n",
            "  reshape.9 = f32[1,32,32,1]{2,1,3,0} reshape(param_0.4)\n",
            "  ROOT copy.3 = f32[1,32,32,1]{3,2,1,0} copy(reshape.9)\n",
            "}\n",
            "\n",
            "ENTRY main.12 {\n",
            "  Arg_0.1 = f32[32,32]{1,0} parameter(0)\n",
            "  fusion.1 = f32[1,32,32,1]{3,2,1,0} fusion(Arg_0.1), kind=kLoop, calls=fused_computation.1\n",
            "  Arg_1.2 = f32[7,7]{1,0} parameter(1)\n",
            "  fusion = f32[7,7,1,1]{3,2,1,0} fusion(Arg_1.2), kind=kLoop, calls=fused_computation\n",
            "  convolution = f32[1,38,38,1]{3,2,1,0} convolution(fusion.1, fusion), window={size=7x7 pad=6_6x6_6}, dim_labels=b01f_01io->b01f\n",
            "  bitcast = f32[38,38]{1,0} bitcast(convolution)\n",
            "  ROOT tuple.11 = (f32[38,38]{1,0}) tuple(bitcast)\n",
            "}\n",
            "\n",
            "\n"
          ]
        }
      ]
    },
    {
      "cell_type": "code",
      "source": [
        "print(get_optimized_func(f, (1.0,)))"
      ],
      "metadata": {
        "colab": {
          "base_uri": "https://localhost:8080/"
        },
        "id": "Ul42HZJGFV5i",
        "outputId": "d865ba77-82f7-4a3f-93b7-2266c441efcd"
      },
      "execution_count": 118,
      "outputs": [
        {
          "output_type": "stream",
          "name": "stdout",
          "text": [
            "HloModule xla_computation_f.149, entry_computation_layout={(f32[])->(f32[])}\n",
            "\n",
            "fused_computation {\n",
            "  param_0.1 = f32[] parameter(0)\n",
            "  cosine.0 = f32[] cosine(param_0.1)\n",
            "  ROOT sine.0 = f32[] sine(cosine.0)\n",
            "}\n",
            "\n",
            "ENTRY main.5 {\n",
            "  Arg_0.1 = f32[] parameter(0)\n",
            "  fusion = f32[] fusion(Arg_0.1), kind=kLoop, calls=fused_computation\n",
            "  ROOT tuple.4 = (f32[]) tuple(fusion)\n",
            "}\n",
            "\n",
            "\n"
          ]
        }
      ]
    },
    {
      "cell_type": "code",
      "source": [
        "print(get_optimized_func(b, (1.0,2.0, 3.0)))"
      ],
      "metadata": {
        "colab": {
          "base_uri": "https://localhost:8080/"
        },
        "id": "-16fO0HOxKO2",
        "outputId": "1df0cf56-2c5e-4ad0-efc8-81fad1103e51"
      },
      "execution_count": 41,
      "outputs": [
        {
          "output_type": "stream",
          "name": "stdout",
          "text": [
            "HloModule xla_computation_b.20, entry_computation_layout={(f32[],f32[],f32[])->(f32[])}\n",
            "\n",
            "fused_computation {\n",
            "  param_1.1 = f32[] parameter(1)\n",
            "  param_2 = f32[] parameter(2)\n",
            "  multiply.1 = f32[] multiply(param_1.1, param_2)\n",
            "  param_0.1 = f32[] parameter(0)\n",
            "  ROOT multiply.0 = f32[] multiply(multiply.1, param_0.1)\n",
            "}\n",
            "\n",
            "ENTRY main.7 {\n",
            "  Arg_2.3 = f32[] parameter(2)\n",
            "  Arg_0.1 = f32[] parameter(0)\n",
            "  Arg_1.2 = f32[] parameter(1)\n",
            "  fusion = f32[] fusion(Arg_2.3, Arg_0.1, Arg_1.2), kind=kLoop, calls=fused_computation\n",
            "  ROOT tuple.6 = (f32[]) tuple(fusion)\n",
            "}\n",
            "\n",
            "\n"
          ]
        }
      ]
    },
    {
      "cell_type": "code",
      "source": [
        "print(get_optimized_func(matty, (jnp.ones((5,5)), jnp.ones((5,5))) ))"
      ],
      "metadata": {
        "colab": {
          "base_uri": "https://localhost:8080/"
        },
        "id": "JOyEDBAbxvEP",
        "outputId": "bb2ceb4c-1d77-4222-fa9c-afe766786191"
      },
      "execution_count": 43,
      "outputs": [
        {
          "output_type": "stream",
          "name": "stdout",
          "text": [
            "HloModule xla_computation_matty.22, entry_computation_layout={(f32[5,5]{1,0},f32[5,5]{1,0})->(f32[5,5]{1,0})}\n",
            "\n",
            "fused_computation {\n",
            "  param_0 = f32[5,5]{1,0} parameter(0)\n",
            "  constant.2 = f32[] constant(1)\n",
            "  broadcast.2 = f32[5,5]{1,0} broadcast(constant.2), dimensions={}\n",
            "  ROOT add.3 = f32[5,5]{1,0} add(param_0, broadcast.2)\n",
            "}\n",
            "\n",
            "ENTRY main.10 {\n",
            "  Arg_0.1 = f32[5,5]{1,0} parameter(0)\n",
            "  Arg_1.2 = f32[5,5]{1,0} parameter(1)\n",
            "  dot.5 = f32[5,5]{1,0} dot(Arg_0.1, Arg_1.2), lhs_contracting_dims={1}, rhs_contracting_dims={0}\n",
            "  fusion = f32[5,5]{1,0} fusion(dot.5), kind=kLoop, calls=fused_computation\n",
            "  ROOT tuple.9 = (f32[5,5]{1,0}) tuple(fusion)\n",
            "}\n",
            "\n",
            "\n"
          ]
        }
      ]
    },
    {
      "cell_type": "code",
      "source": [
        "print(get_optimized_func(matty, (jnp.ones((5000,5000)), jnp.ones((5000,5000))) ))"
      ],
      "metadata": {
        "colab": {
          "base_uri": "https://localhost:8080/"
        },
        "id": "DdPwEO7c0MYl",
        "outputId": "8253d688-28c2-47bc-f1db-d4ce7ae0baad"
      },
      "execution_count": 45,
      "outputs": [
        {
          "output_type": "stream",
          "name": "stdout",
          "text": [
            "HloModule xla_computation_matty.24, entry_computation_layout={(f32[5000,5000]{1,0},f32[5000,5000]{1,0})->(f32[5000,5000]{1,0})}\n",
            "\n",
            "fused_computation.clone {\n",
            "  param_0.1 = f32[5000,5000]{1,0} parameter(0)\n",
            "  constant.4 = f32[] constant(1)\n",
            "  broadcast.3 = f32[5000,5000]{1,0} broadcast(constant.4), dimensions={}\n",
            "  ROOT add.4 = f32[5000,5000]{1,0} add(param_0.1, broadcast.3)\n",
            "}\n",
            "\n",
            "parallel_fusion {\n",
            "  p = f32[5000,5000]{1,0} parameter(0)\n",
            "  ROOT fusion.clone = f32[5000,5000]{1,0} fusion(p), kind=kLoop, calls=fused_computation.clone, outer_dimension_partitions={2}\n",
            "}\n",
            "\n",
            "ENTRY main.10 {\n",
            "  Arg_0.1 = f32[5000,5000]{1,0} parameter(0)\n",
            "  Arg_1.2 = f32[5000,5000]{1,0} parameter(1)\n",
            "  dot.5 = f32[5000,5000]{1,0} dot(Arg_0.1, Arg_1.2), lhs_contracting_dims={1}, rhs_contracting_dims={0}\n",
            "  call = f32[5000,5000]{1,0} call(dot.5), to_apply=parallel_fusion\n",
            "  ROOT tuple.9 = (f32[5000,5000]{1,0}) tuple(call)\n",
            "}\n",
            "\n",
            "\n"
          ]
        }
      ]
    },
    {
      "cell_type": "code",
      "source": [
        ""
      ],
      "metadata": {
        "id": "Jlgr7SNm2Fnq"
      },
      "execution_count": null,
      "outputs": []
    },
    {
      "cell_type": "code",
      "source": [
        "def render_pixel(uvt):\n",
        "  uv = uvt[0:2]\n",
        "  time = uvt[2]\n",
        "\n",
        "  def vec3(x, y, z):\n",
        "    return jnp.array([x, y, z])\n",
        "\n",
        "  def mag(v):\n",
        "    return jnp.sqrt(v.dot(v))\n",
        "\n",
        "  def normalize(v):\n",
        "    return v / mag(v)\n",
        "\n",
        "  def sdf_sphere(v, r):\n",
        "    return mag(v) - r\n",
        "\n",
        "  def scene(p):\n",
        "    return sdf_sphere(p, 0.6)\n",
        "\n",
        "  sdf_normal = grad(scene)\n",
        "  ray_dir = normalize(vec3(*uv, 1.0))\n",
        "  ray_pos = vec3(0.0, 0.0, -2.0)\n",
        "  eps = 0.001\n",
        "  max_dist = 100\n",
        "  bg_color = vec3(0.0, 0.0, 0.0)\n",
        "\n",
        "  def raymarch_step(d):\n",
        "    d_s = scene(ray_pos + ray_dir * d[0] * 0.95)\n",
        "    return d[0] + d_s, d_s\n",
        "\n",
        "  run_condition = lambda d : jnp.where((d[1] > eps) & (d[1] < max_dist), True, False)\n",
        "\n",
        "  dist_i = scene(ray_pos)\n",
        "  dist_o, dist_s = jax.lax.while_loop(run_condition, raymarch_step, (dist_i, dist_i))\n",
        "\n",
        "  intersect_mask = (dist_s < eps).astype(jnp.float32)\n",
        "\n",
        "  def color(p):\n",
        "    light_dir = normalize(vec3(0.2,-0.4,-1.0))\n",
        "    normal = sdf_normal(p)\n",
        "    light = jnp.maximum(normal.dot(light_dir), 0.0)\n",
        "    return jnp.array([0.8, 0.1, 0.15]) * light\n",
        "\n",
        "  intersect_pos = ray_pos + ray_dir * dist_o\n",
        "  obj_color = color(intersect_pos)\n",
        "\n",
        "  return intersect_mask * obj_color + (1.0 - intersect_mask) * bg_color"
      ],
      "metadata": {
        "id": "57MGSUhK1Qms"
      },
      "execution_count": 46,
      "outputs": []
    },
    {
      "cell_type": "code",
      "source": [
        "img_res = 128\n",
        "ax_coords = jnp.arange(img_res)/img_res-0.5\n",
        "img_coords = jnp.meshgrid(ax_coords, ax_coords)\n",
        "img_coords = jnp.stack([*img_coords, jnp.full((img_res, img_res), 1.0)], axis=2)\n",
        "# x = jnp.array([-0.4, -0.4, -2.0])\n",
        "# x.dot(x)\n",
        "#render_pixel(jnp.array([0.0, 0.0, 1.0]))\n",
        "render_pixels = jit(vmap(vmap(render_pixel)))\n",
        "#test_img = render_pixels(img_coords)"
      ],
      "metadata": {
        "id": "f3OBA_7g2JAT"
      },
      "execution_count": 49,
      "outputs": []
    },
    {
      "cell_type": "code",
      "source": [
        "#print(get_optimized_func(render_pixel, (jnp.array([0.0, 0.0, 1.0]),) ))"
      ],
      "metadata": {
        "id": "DL4l-mJ02RRH"
      },
      "execution_count": 61,
      "outputs": []
    },
    {
      "cell_type": "code",
      "source": [
        "#print(get_optimized_func(jit(render_pixel), (jnp.array([0.0, 0.0, 1.0]),) ))"
      ],
      "metadata": {
        "id": "ks3TJjvj2zyC"
      },
      "execution_count": 62,
      "outputs": []
    },
    {
      "cell_type": "code",
      "source": [
        "print(get_optimized_func(render_pixels, (img_coords,) ))"
      ],
      "metadata": {
        "colab": {
          "base_uri": "https://localhost:8080/"
        },
        "id": "pn71seAk2VmQ",
        "outputId": "faf8cb5e-3d87-489e-9991-38eb9e29f1d2"
      },
      "execution_count": 63,
      "outputs": [
        {
          "output_type": "stream",
          "name": "stdout",
          "text": [
            "HloModule xla_computation_render_pixel.84, entry_computation_layout={(f32[128,128,3]{2,1,0})->(f32[128,128,3]{2,1,0})}\n",
            "\n",
            "fused_computation.1 {\n",
            "  param_0.4 = f32[128,128]{1,0} parameter(0)\n",
            "  constant.68 = f32[] constant(0.001)\n",
            "  broadcast.110 = f32[128,128]{1,0} broadcast(constant.68), dimensions={}\n",
            "  compare.16 = pred[128,128]{1,0} compare(param_0.4, broadcast.110), direction=GT\n",
            "  constant.67 = f32[] constant(100)\n",
            "  broadcast.109 = f32[128,128]{1,0} broadcast(constant.67), dimensions={}\n",
            "  compare.15 = pred[128,128]{1,0} compare(param_0.4, broadcast.109), direction=LT\n",
            "  and.7 = pred[128,128]{1,0} and(compare.16, compare.15)\n",
            "  constant.66 = pred[] constant(true)\n",
            "  broadcast.108 = pred[128,128]{1,0} broadcast(constant.66), dimensions={}\n",
            "  constant.65 = pred[] constant(false)\n",
            "  broadcast.107 = pred[128,128]{1,0} broadcast(constant.65), dimensions={}\n",
            "  select.17 = pred[128,128]{1,0} select(and.7, broadcast.108, broadcast.107)\n",
            "  param_1.8 = f32[128,128]{1,0} parameter(1)\n",
            "  constant.43.clone.4 = f32[] constant(-0.6)\n",
            "  broadcast.105 = f32[128,128]{1,0} broadcast(constant.43.clone.4), dimensions={}\n",
            "  add.14 = f32[128,128]{1,0} add(param_1.8, broadcast.105)\n",
            "  ROOT select.16 = f32[128,128]{1,0} select(select.17, add.14, param_0.4)\n",
            "}\n",
            "\n",
            "fused_computation.2 {\n",
            "  param_2.15 = f32[128,128]{1,0} parameter(2)\n",
            "  constant.76 = f32[] constant(0.001)\n",
            "  broadcast.117 = f32[128,128]{1,0} broadcast(constant.76), dimensions={}\n",
            "  compare.18 = pred[128,128]{1,0} compare(param_2.15, broadcast.117), direction=GT\n",
            "  constant.75 = f32[] constant(100)\n",
            "  broadcast.116 = f32[128,128]{1,0} broadcast(constant.75), dimensions={}\n",
            "  compare.17 = pred[128,128]{1,0} compare(param_2.15, broadcast.116), direction=LT\n",
            "  and.8 = pred[128,128]{1,0} and(compare.18, compare.17)\n",
            "  constant.74 = pred[] constant(true)\n",
            "  broadcast.115 = pred[128,128]{1,0} broadcast(constant.74), dimensions={}\n",
            "  constant.72 = pred[] constant(false)\n",
            "  broadcast.114 = pred[128,128]{1,0} broadcast(constant.72), dimensions={}\n",
            "  select.19 = pred[128,128]{1,0} select(and.8, broadcast.115, broadcast.114)\n",
            "  param_0.6 = f32[128,128]{1,0} parameter(0)\n",
            "  param_1.11 = f32[128,128]{1,0} parameter(1)\n",
            "  constant.43.clone.5 = f32[] constant(-0.6)\n",
            "  broadcast.113 = f32[128,128]{1,0} broadcast(constant.43.clone.5), dimensions={}\n",
            "  add.16 = f32[128,128]{1,0} add(param_1.11, broadcast.113)\n",
            "  add.15 = f32[128,128]{1,0} add(param_0.6, add.16)\n",
            "  ROOT select.18 = f32[128,128]{1,0} select(select.19, add.15, param_0.6)\n",
            "}\n",
            "\n",
            "fused_computation.3 {\n",
            "  constant.78 = f32[3]{0} constant({0, 0, -2})\n",
            "  broadcast.120 = f32[128,128,3]{2,1,0} broadcast(constant.78), dimensions={2}\n",
            "  param_0.8 = f32[128,128,3]{2,1,0} parameter(0)\n",
            "  param_1.15 = f32[128,128]{1,0} parameter(1)\n",
            "  broadcast.119 = f32[128,128,3]{2,1,0} broadcast(param_1.15), dimensions={0,1}\n",
            "  multiply.15 = f32[128,128,3]{2,1,0} multiply(param_0.8, broadcast.119)\n",
            "  constant.77 = f32[] constant(0.95)\n",
            "  broadcast.118 = f32[128,128,3]{2,1,0} broadcast(constant.77), dimensions={}\n",
            "  multiply.14 = f32[128,128,3]{2,1,0} multiply(multiply.15, broadcast.118)\n",
            "  ROOT add.17 = f32[128,128,3]{2,1,0} add(broadcast.120, multiply.14)\n",
            "}\n",
            "\n",
            "wide.region_0.14.clone.clone {\n",
            "  wide_param.4 = (f32[128,128]{1,0}, f32[128,128]{1,0}, f32[128,128,3]{2,1,0}) parameter(0)\n",
            "  get-tuple-element.64 = f32[128,128]{1,0} get-tuple-element(wide_param.4), index=0\n",
            "  get-tuple-element.73 = f32[128,128,3]{2,1,0} get-tuple-element(wide_param.4), index=2\n",
            "  fusion.3 = f32[128,128,3]{2,1,0} fusion(get-tuple-element.73, get-tuple-element.64), kind=kLoop, calls=fused_computation.3\n",
            "  dot.14 = f32[128,128]{1,0} dot(fusion.3, fusion.3), lhs_batch_dims={0,1}, lhs_contracting_dims={2}, rhs_batch_dims={0,1}, rhs_contracting_dims={2}\n",
            "  sqrt.6 = f32[128,128]{1,0} sqrt(dot.14)\n",
            "  get-tuple-element.69 = f32[128,128]{1,0} get-tuple-element(wide_param.4), index=1\n",
            "  copy.3 = f32[128,128]{1,0} copy(get-tuple-element.69)\n",
            "  fusion.2 = f32[128,128]{1,0} fusion(get-tuple-element.64, sqrt.6, copy.3), kind=kLoop, calls=fused_computation.2\n",
            "  fusion.1 = f32[128,128]{1,0} fusion(copy.3, sqrt.6), kind=kLoop, calls=fused_computation.1\n",
            "  ROOT tuple.15 = (f32[128,128]{1,0}, f32[128,128]{1,0}, f32[128,128,3]{2,1,0}) tuple(fusion.2, fusion.1, get-tuple-element.73)\n",
            "}\n",
            "\n",
            "region_2.59 {\n",
            "  Arg_0.60 = pred[] parameter(0)\n",
            "  Arg_1.61 = pred[] parameter(1)\n",
            "  ROOT or.62 = pred[] or(Arg_0.60, Arg_1.61)\n",
            "}\n",
            "\n",
            "fused_computation {\n",
            "  param_0.2 = f32[128,128]{1,0} parameter(0)\n",
            "  constant.64 = f32[] constant(0.001)\n",
            "  broadcast.103 = f32[128,128]{1,0} broadcast(constant.64), dimensions={}\n",
            "  compare.14 = pred[128,128]{1,0} compare(param_0.2, broadcast.103), direction=GT\n",
            "  constant.63 = f32[] constant(100)\n",
            "  broadcast.102 = f32[128,128]{1,0} broadcast(constant.63), dimensions={}\n",
            "  compare.13 = pred[128,128]{1,0} compare(param_0.2, broadcast.102), direction=LT\n",
            "  and.6 = pred[128,128]{1,0} and(compare.14, compare.13)\n",
            "  constant.62 = pred[] constant(true)\n",
            "  broadcast.101 = pred[128,128]{1,0} broadcast(constant.62), dimensions={}\n",
            "  constant.61 = pred[] constant(false)\n",
            "  broadcast.100 = pred[128,128]{1,0} broadcast(constant.61), dimensions={}\n",
            "  ROOT select.15 = pred[128,128]{1,0} select(and.6, broadcast.101, broadcast.100)\n",
            "}\n",
            "\n",
            "wide.region_1.63.clone.clone {\n",
            "  wide_param.5 = (f32[128,128]{1,0}, f32[128,128]{1,0}, f32[128,128,3]{2,1,0}) parameter(0)\n",
            "  get-tuple-element.56 = f32[128,128]{1,0} get-tuple-element(wide_param.5), index=1\n",
            "  fusion = pred[128,128]{1,0} fusion(get-tuple-element.56), kind=kLoop, calls=fused_computation\n",
            "  constant.60 = pred[] constant(false)\n",
            "  reduce-window.3 = pred[4,4]{1,0} reduce-window(fusion, constant.60), window={size=32x32 stride=32x32}, to_apply=region_2.59\n",
            "  ROOT reduce.3 = pred[] reduce(reduce-window.3, constant.60), dimensions={0,1}, to_apply=region_2.59\n",
            "}\n",
            "\n",
            "fused_computation.4 {\n",
            "  param_1.23 = f32[128,128]{1,0} parameter(1)\n",
            "  constant.81 = f32[] constant(0.001)\n",
            "  broadcast.132 = f32[128,128]{1,0} broadcast(constant.81), dimensions={}\n",
            "  compare.19 = pred[128,128]{1,0} compare(param_1.23, broadcast.132), direction=LT\n",
            "  convert.1 = f32[128,128]{1,0} convert(compare.19)\n",
            "  broadcast.131 = f32[128,128,3]{2,1,0} broadcast(convert.1), dimensions={0,1}\n",
            "  constant.80 = f32[3]{0} constant({0.8, 0.1, 0.15})\n",
            "  broadcast.130 = f32[128,128,3]{2,1,0} broadcast(constant.80), dimensions={2}\n",
            "  param_0.13 = f32[16384]{0} parameter(0)\n",
            "  constant.79 = f32[] constant(0)\n",
            "  broadcast.128 = f32[16384]{0} broadcast(constant.79), dimensions={}\n",
            "  maximum.2 = f32[16384]{0} maximum(param_0.13, broadcast.128)\n",
            "  reshape.73 = f32[128,128]{1,0} reshape(maximum.2)\n",
            "  broadcast.126 = f32[128,128,3]{2,1,0} broadcast(reshape.73), dimensions={0,1}\n",
            "  multiply.18 = f32[128,128,3]{2,1,0} multiply(broadcast.130, broadcast.126)\n",
            "  multiply.17 = f32[128,128,3]{2,1,0} multiply(broadcast.131, multiply.18)\n",
            "  constant.82 = f32[] constant(1)\n",
            "  broadcast.125 = f32[128,128]{1,0} broadcast(constant.82), dimensions={}\n",
            "  subtract.2 = f32[128,128]{1,0} subtract(broadcast.125, convert.1)\n",
            "  broadcast.123 = f32[128,128]{1,0} broadcast(constant.79), dimensions={}\n",
            "  multiply.16 = f32[128,128]{1,0} multiply(subtract.2, broadcast.123)\n",
            "  broadcast.121 = f32[128,128,3]{2,1,0} broadcast(multiply.16), dimensions={0,1}\n",
            "  ROOT add.18 = f32[128,128,3]{2,1,0} add(multiply.17, broadcast.121)\n",
            "}\n",
            "\n",
            "fused_computation.5 {\n",
            "  constant.85 = f32[] constant(0.5)\n",
            "  broadcast.137 = f32[128,128]{1,0} broadcast(constant.85), dimensions={}\n",
            "  param_0.21 = f32[128,128]{1,0} parameter(0)\n",
            "  multiply.20 = f32[128,128]{1,0} multiply(broadcast.137, param_0.21)\n",
            "  broadcast.134 = f32[128,128,3]{2,1,0} broadcast(multiply.20), dimensions={0,1}\n",
            "  constant.84 = f32[3]{0} constant({0, 0, -2})\n",
            "  broadcast.136 = f32[128,128,3]{2,1,0} broadcast(constant.84), dimensions={2}\n",
            "  param_1.30 = f32[128,128,3]{2,1,0} parameter(1)\n",
            "  param_2.33 = f32[128,128]{1,0} parameter(2)\n",
            "  broadcast.135 = f32[128,128,3]{2,1,0} broadcast(param_2.33), dimensions={0,1}\n",
            "  multiply.21 = f32[128,128,3]{2,1,0} multiply(param_1.30, broadcast.135)\n",
            "  add.20 = f32[128,128,3]{2,1,0} add(broadcast.136, multiply.21)\n",
            "  multiply.19 = f32[128,128,3]{2,1,0} multiply(broadcast.134, add.20)\n",
            "  add.19 = f32[128,128,3]{2,1,0} add(multiply.19, multiply.19)\n",
            "  reshape.74 = f32[16384,3]{1,0} reshape(add.19)\n",
            "  constant.83 = f32[3]{0} constant({0.182574183, -0.365148365, -0.912870884})\n",
            "  ROOT dot.15 = f32[16384]{0} dot(reshape.74, constant.83), lhs_contracting_dims={1}, rhs_contracting_dims={0}\n",
            "}\n",
            "\n",
            "fused_computation.6 {\n",
            "  constant.87 = f32[3]{0} constant({0, 0, -2})\n",
            "  broadcast.139 = f32[128,128,3]{2,1,0} broadcast(constant.87), dimensions={2}\n",
            "  param_0.23 = f32[128,128,3]{2,1,0} parameter(0)\n",
            "  param_1.33 = f32[128,128]{1,0} parameter(1)\n",
            "  broadcast.138 = f32[128,128,3]{2,1,0} broadcast(param_1.33), dimensions={0,1}\n",
            "  multiply.22 = f32[128,128,3]{2,1,0} multiply(param_0.23, broadcast.138)\n",
            "  ROOT add.21 = f32[128,128,3]{2,1,0} add(broadcast.139, multiply.22)\n",
            "}\n",
            "\n",
            "fused_computation.7 {\n",
            "  param_0.24 = f32[128,128,3]{2,1,0} parameter(0)\n",
            "  param_1.35 = f32[128,128]{1,0} parameter(1)\n",
            "  broadcast.140 = f32[128,128,3]{2,1,0} broadcast(param_1.35), dimensions={0,1}\n",
            "  ROOT divide.3 = f32[128,128,3]{2,1,0} divide(param_0.24, broadcast.140)\n",
            "}\n",
            "\n",
            "fused_computation.8 {\n",
            "  param_0.27 = f32[128,128,3]{2,1,0} parameter(0)\n",
            "  slice.6 = f32[128,128,2]{2,1,0} slice(param_0.27), slice={[0:128], [0:128], [0:2]}\n",
            "  constant.89 = f32[] constant(1)\n",
            "  ROOT pad.1 = f32[128,128,3]{2,1,0} pad(slice.6, constant.89), padding=0_0x0_0x0_1\n",
            "}\n",
            "\n",
            "ENTRY main.170 {\n",
            "  Arg_0.1 = f32[128,128,3]{2,1,0} parameter(0)\n",
            "  fusion.8 = f32[128,128,3]{2,1,0} fusion(Arg_0.1), kind=kLoop, calls=fused_computation.8\n",
            "  dot.1 = f32[128,128]{1,0} dot(fusion.8, fusion.8), lhs_batch_dims={0,1}, lhs_contracting_dims={2}, rhs_batch_dims={0,1}, rhs_contracting_dims={2}\n",
            "  sqrt.1 = f32[128,128]{1,0} sqrt(dot.1)\n",
            "  fusion.7 = f32[128,128,3]{2,1,0} fusion(fusion.8, sqrt.1), kind=kLoop, calls=fused_computation.7\n",
            "  constant.42 = f32[] constant(1.4)\n",
            "  broadcast.5 = f32[128,128]{1,0} broadcast(constant.42), dimensions={}\n",
            "  copy.1 = f32[128,128]{1,0} copy(broadcast.5)\n",
            "  tuple.13 = (f32[128,128]{1,0}, f32[128,128]{1,0}, f32[128,128,3]{2,1,0}) tuple(broadcast.5, copy.1, fusion.7)\n",
            "  while.3 = (f32[128,128]{1,0}, f32[128,128]{1,0}, f32[128,128,3]{2,1,0}) while(tuple.13), condition=wide.region_1.63.clone.clone, body=wide.region_0.14.clone.clone\n",
            "  get-tuple-element.3 = f32[128,128]{1,0} get-tuple-element(while.3), index=0\n",
            "  fusion.6 = f32[128,128,3]{2,1,0} fusion(fusion.7, get-tuple-element.3), kind=kLoop, calls=fused_computation.6\n",
            "  dot.2 = f32[128,128]{1,0} dot(fusion.6, fusion.6), lhs_batch_dims={0,1}, lhs_contracting_dims={2}, rhs_batch_dims={0,1}, rhs_contracting_dims={2}\n",
            "  rsqrt = f32[128,128]{1,0} rsqrt(dot.2)\n",
            "  fusion.5 = f32[16384]{0} fusion(rsqrt, fusion.7, get-tuple-element.3), kind=kLoop, calls=fused_computation.5\n",
            "  get-tuple-element.2 = f32[128,128]{1,0} get-tuple-element(while.3), index=1\n",
            "  fusion.4 = f32[128,128,3]{2,1,0} fusion(fusion.5, get-tuple-element.2), kind=kLoop, calls=fused_computation.4\n",
            "  ROOT tuple.169 = (f32[128,128,3]{2,1,0}) tuple(fusion.4)\n",
            "}\n",
            "\n",
            "\n"
          ]
        }
      ]
    },
    {
      "cell_type": "code",
      "source": [
        ""
      ],
      "metadata": {
        "id": "9ECWO2cL5-Us"
      },
      "execution_count": null,
      "outputs": []
    }
  ]
}