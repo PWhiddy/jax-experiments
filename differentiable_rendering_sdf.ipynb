{
  "nbformat": 4,
  "nbformat_minor": 0,
  "metadata": {
    "colab": {
      "name": "differentiable_rendering_sdf.ipynb",
      "provenance": [],
      "authorship_tag": "ABX9TyPiOCz+WiAyi22XaXklszwy",
      "include_colab_link": true
    },
    "kernelspec": {
      "name": "python3",
      "display_name": "Python 3"
    },
    "language_info": {
      "name": "python"
    }
  },
  "cells": [
    {
      "cell_type": "markdown",
      "metadata": {
        "id": "view-in-github",
        "colab_type": "text"
      },
      "source": [
        "<a href=\"https://colab.research.google.com/github/PWhiddy/jax-experiments/blob/main/DifferentiableRenderingSDF.ipynb\" target=\"_parent\"><img src=\"https://colab.research.google.com/assets/colab-badge.svg\" alt=\"Open In Colab\"/></a>"
      ]
    },
    {
      "cell_type": "code",
      "metadata": {
        "id": "zkK66PPsFcQB"
      },
      "source": [
        "import jax.numpy as jnp\n",
        "from jax import jit, vmap, grad\n",
        "import jax"
      ],
      "execution_count": 1,
      "outputs": []
    },
    {
      "cell_type": "code",
      "metadata": {
        "id": "8zzP3EeOFlsN"
      },
      "source": [
        "import matplotlib.pyplot as plt"
      ],
      "execution_count": 2,
      "outputs": []
    },
    {
      "cell_type": "code",
      "metadata": {
        "id": "EpfMtJaN6VKp"
      },
      "source": [
        "def render_pixel(uvt):\n",
        "  uv = uvt[0:2]\n",
        "  time = uvt[2]\n",
        "\n",
        "  def vec3(x, y, z):\n",
        "    return jnp.array([x, y, z])\n",
        "\n",
        "  def mag(v):\n",
        "    return jnp.sqrt(v.dot(v))\n",
        "\n",
        "  def normalize(v):\n",
        "    return v / mag(v)\n",
        "\n",
        "  def sdf_sphere(v, r):\n",
        "    return mag(v) - r\n",
        "\n",
        "  def scene(p):\n",
        "    return sdf_sphere(p, 0.6)\n",
        "\n",
        "  sdf_normal = grad(scene)\n",
        "  ray_dir = normalize(vec3(*uv, 1.0))\n",
        "  ray_pos = vec3(0.0, 0.0, -2.0)\n",
        "  eps = 0.001\n",
        "  max_dist = 100\n",
        "  bg_color = vec3(0.0, 0.0, 0.0)\n",
        "\n",
        "  def raymarch_step(d):\n",
        "    d_s = scene(ray_pos + ray_dir * d[0] * 0.95)\n",
        "    return d[0] + d_s, d_s\n",
        "\n",
        "  run_condition = lambda d : jnp.where((d[1] > eps) & (d[1] < max_dist), True, False)\n",
        "\n",
        "  dist_i = scene(ray_pos)\n",
        "  dist_o, dist_s = jax.lax.while_loop(run_condition, raymarch_step, (dist_i, dist_i))\n",
        "\n",
        "  intersect_mask = (dist_s < eps).astype(jnp.float32)\n",
        "\n",
        "  def color(p):\n",
        "    light_dir = normalize(vec3(0.2,-0.4,-1.0))\n",
        "    normal = sdf_normal(p)\n",
        "    light = jnp.maximum(normal.dot(light_dir), 0.0)\n",
        "    return jnp.array([0.8, 0.1, 0.15]) * light\n",
        "\n",
        "  intersect_pos = ray_pos + ray_dir * dist_o\n",
        "  obj_color = color(intersect_pos)\n",
        "\n",
        "  return intersect_mask * obj_color + (1.0 - intersect_mask) * bg_color\n"
      ],
      "execution_count": 3,
      "outputs": []
    },
    {
      "cell_type": "code",
      "metadata": {
        "id": "vJmaOjo3BSAw",
        "colab": {
          "base_uri": "https://localhost:8080/"
        },
        "outputId": "82fbda07-a82d-4437-8b6f-d06e5cf46ef6"
      },
      "source": [
        "img_res = 512\n",
        "ax_coords = jnp.arange(img_res)/img_res-0.5\n",
        "img_coords = jnp.meshgrid(ax_coords, ax_coords)\n",
        "img_coords = jnp.stack([*img_coords, jnp.full((img_res, img_res), 1.0)], axis=2)"
      ],
      "execution_count": 4,
      "outputs": [
        {
          "output_type": "stream",
          "text": [
            "WARNING:absl:No GPU/TPU found, falling back to CPU. (Set TF_CPP_MIN_LOG_LEVEL=0 and rerun for more info.)\n"
          ],
          "name": "stderr"
        }
      ]
    },
    {
      "cell_type": "code",
      "metadata": {
        "id": "7WdswANGajeS",
        "colab": {
          "base_uri": "https://localhost:8080/"
        },
        "outputId": "a4eb7114-f4b8-4701-a7d2-c3456f52e51f"
      },
      "source": [
        "# x = jnp.array([-0.4, -0.4, -2.0])\n",
        "# x.dot(x)\n",
        "render_pixel(jnp.array([0.0, 0.0, 1.0]))"
      ],
      "execution_count": 5,
      "outputs": [
        {
          "output_type": "execute_result",
          "data": {
            "text/plain": [
              "DeviceArray([0.73029673, 0.09128709, 0.13693064], dtype=float32)"
            ]
          },
          "metadata": {},
          "execution_count": 5
        }
      ]
    },
    {
      "cell_type": "code",
      "metadata": {
        "id": "mNr7wjxRbBLd"
      },
      "source": [
        "render_pixels = jit(vmap(vmap(render_pixel)))"
      ],
      "execution_count": 6,
      "outputs": []
    },
    {
      "cell_type": "code",
      "metadata": {
        "id": "lXg13VQ8bsUr",
        "colab": {
          "base_uri": "https://localhost:8080/",
          "height": 286
        },
        "outputId": "7072b642-1fb7-46f2-cf71-80343a8cd6bc"
      },
      "source": [
        "test_img = render_pixels(img_coords)\n",
        "plt.imshow(test_img)"
      ],
      "execution_count": 11,
      "outputs": [
        {
          "output_type": "execute_result",
          "data": {
            "text/plain": [
              "<matplotlib.image.AxesImage at 0x7fde3bb6c390>"
            ]
          },
          "metadata": {},
          "execution_count": 11
        },
        {
          "output_type": "display_data",
          "data": {
            "image/png": "[encoded data removed]",
            "text/plain": [
              "<Figure size 432x288 with 1 Axes>"
            ]
          },
          "metadata": {
            "needs_background": "light"
          }
        }
      ]
    },
    {
      "cell_type": "code",
      "metadata": {
        "colab": {
          "base_uri": "https://localhost:8080/"
        },
        "id": "JNQagG-24tOL",
        "outputId": "ce2a19cf-0773-4718-cfa1-d956867cba53"
      },
      "source": [
        "img_coords[0][0]"
      ],
      "execution_count": 8,
      "outputs": [
        {
          "output_type": "execute_result",
          "data": {
            "text/plain": [
              "DeviceArray([-0.5, -0.5,  1. ], dtype=float32)"
            ]
          },
          "metadata": {},
          "execution_count": 8
        }
      ]
    },
    {
      "cell_type": "code",
      "metadata": {
        "colab": {
          "base_uri": "https://localhost:8080/"
        },
        "id": "sJlAbTb6D8e2",
        "outputId": "44e0d8f5-e16a-4e07-945f-989fe6ac5831"
      },
      "source": [
        "test_img.min()"
      ],
      "execution_count": 9,
      "outputs": [
        {
          "output_type": "execute_result",
          "data": {
            "text/plain": [
              "DeviceArray(0., dtype=float32)"
            ]
          },
          "metadata": {},
          "execution_count": 9
        }
      ]
    },
    {
      "cell_type": "code",
      "metadata": {
        "colab": {
          "base_uri": "https://localhost:8080/"
        },
        "id": "ceD4jZdQaacz",
        "outputId": "e23d1fbe-9a7b-4801-c62b-9d092448a9c5"
      },
      "source": [
        "img_coords.shape"
      ],
      "execution_count": 10,
      "outputs": [
        {
          "output_type": "execute_result",
          "data": {
            "text/plain": [
              "(512, 512, 3)"
            ]
          },
          "metadata": {},
          "execution_count": 10
        }
      ]
    },
    {
      "cell_type": "code",
      "metadata": {
        "id": "DapmGqKlPaM3"
      },
      "source": [
        ""
      ],
      "execution_count": 10,
      "outputs": []
    }
  ]
}
