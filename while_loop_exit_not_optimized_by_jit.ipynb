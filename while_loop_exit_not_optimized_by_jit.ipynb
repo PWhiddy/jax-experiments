{
  "nbformat": 4,
  "nbformat_minor": 0,
  "metadata": {
    "colab": {
      "provenance": [],
      "gpuType": "T4",
      "authorship_tag": "ABX9TyOdJ+PvKnUnXgMy/ya7WV62",
      "include_colab_link": true
    },
    "kernelspec": {
      "name": "python3",
      "display_name": "Python 3"
    },
    "language_info": {
      "name": "python"
    },
    "accelerator": "GPU"
  },
  "cells": [
    {
      "cell_type": "markdown",
      "metadata": {
        "id": "view-in-github",
        "colab_type": "text"
      },
      "source": [
        "<a href=\"https://colab.research.google.com/github/PWhiddy/jax-experiments/blob/main/while_loop_exit_not_optimized_by_jit.ipynb\" target=\"_parent\"><img src=\"https://colab.research.google.com/assets/colab-badge.svg\" alt=\"Open In Colab\"/></a>"
      ]
    },
    {
      "cell_type": "code",
      "execution_count": 22,
      "metadata": {
        "colab": {
          "base_uri": "https://localhost:8080/"
        },
        "id": "1ff4D_pygVcY",
        "outputId": "998b458e-1966-4514-bd9d-39c0009412af"
      },
      "outputs": [
        {
          "output_type": "stream",
          "name": "stdout",
          "text": [
            "First 5 results: [49995000        1        1        1        1]\n",
            "Result shape: (100000,)\n"
          ]
        }
      ],
      "source": [
        "import jax\n",
        "import jax.numpy as jnp\n",
        "from functools import partial\n",
        "\n",
        "def dynamic_sum_loop(x):\n",
        "    def cond_fun(state):\n",
        "        i, total, target, orig_x = state\n",
        "        return i < target\n",
        "\n",
        "    def body_fun(state):\n",
        "        i, total, target, orig_x = state\n",
        "        return i + 1, total + i, target, orig_x\n",
        "\n",
        "    # Initial state setup\n",
        "    init_i = 0\n",
        "    init_total = 0\n",
        "    # If x is 0, sum up to \"10000\", else a couple iterations to make just \"1\"\n",
        "    target = jnp.where(x == 0, 10_000, 2)\n",
        "\n",
        "    # Run the while loop\n",
        "    final_i, final_total, _, orig_x = jax.lax.while_loop(\n",
        "        cond_fun,\n",
        "        body_fun,\n",
        "        (init_i, init_total, target, x)\n",
        "    )\n",
        "\n",
        "    return final_total\n",
        "\n",
        "x = jnp.arange(100_000)\n",
        "\n",
        "vmap_dynamic_sum = jax.vmap(dynamic_sum_loop)\n",
        "\n",
        "jitted_vmap_dynamic_sum = jax.jit(vmap_dynamic_sum)\n",
        "\n",
        "result = jitted_vmap_dynamic_sum(x)\n",
        "\n",
        "print(\"First 5 results:\", result[:5])\n",
        "print(\"Result shape:\", result.shape)"
      ]
    },
    {
      "cell_type": "code",
      "source": [
        "dynamic_sum_loop(jnp.array(0))"
      ],
      "metadata": {
        "colab": {
          "base_uri": "https://localhost:8080/"
        },
        "id": "CVY5OGzngV4E",
        "outputId": "9fd45b69-ef93-46ed-f472-cdd45b540659"
      },
      "execution_count": 23,
      "outputs": [
        {
          "output_type": "execute_result",
          "data": {
            "text/plain": [
              "Array(49995000, dtype=int32, weak_type=True)"
            ]
          },
          "metadata": {},
          "execution_count": 23
        }
      ]
    },
    {
      "cell_type": "code",
      "source": [
        "sum([x for x in range(10000)])"
      ],
      "metadata": {
        "colab": {
          "base_uri": "https://localhost:8080/"
        },
        "id": "3k4CRnkt9nRG",
        "outputId": "206862d7-4480-42a6-9c14-67853eef3899"
      },
      "execution_count": 24,
      "outputs": [
        {
          "output_type": "execute_result",
          "data": {
            "text/plain": [
              "49995000"
            ]
          },
          "metadata": {},
          "execution_count": 24
        }
      ]
    },
    {
      "cell_type": "code",
      "source": [
        "jitted_vmap_dynamic_sum(jnp.array([0,1,2]))"
      ],
      "metadata": {
        "colab": {
          "base_uri": "https://localhost:8080/"
        },
        "id": "qZ19ICxw-YVI",
        "outputId": "a395a75c-a1e5-4dd1-cc4b-0c89525b2fb4"
      },
      "execution_count": 25,
      "outputs": [
        {
          "output_type": "execute_result",
          "data": {
            "text/plain": [
              "Array([49995000,        1,        1], dtype=int32, weak_type=True)"
            ]
          },
          "metadata": {},
          "execution_count": 25
        }
      ]
    },
    {
      "cell_type": "code",
      "source": [
        "input_no_work = jnp.ones(100_000)\n",
        "input_all_work = jnp.zeros(100_000)\n",
        "input_single_work = jnp.arange(100_000)"
      ],
      "metadata": {
        "id": "Yg6FJOXd-336"
      },
      "execution_count": 26,
      "outputs": []
    },
    {
      "cell_type": "code",
      "source": [
        "jitted_vmap_dynamic_sum(input_single_work)"
      ],
      "metadata": {
        "colab": {
          "base_uri": "https://localhost:8080/"
        },
        "id": "5UpnJi-l_seO",
        "outputId": "f78b4824-1bcd-4030-af00-7403fe6208e9"
      },
      "execution_count": 27,
      "outputs": [
        {
          "output_type": "execute_result",
          "data": {
            "text/plain": [
              "Array([49995000,        1,        1, ...,        1,        1,        1],      dtype=int32, weak_type=True)"
            ]
          },
          "metadata": {},
          "execution_count": 27
        }
      ]
    },
    {
      "cell_type": "code",
      "source": [
        "%%timeit\n",
        "jitted_vmap_dynamic_sum(input_no_work)"
      ],
      "metadata": {
        "colab": {
          "base_uri": "https://localhost:8080/"
        },
        "id": "HsJhzqBF-p47",
        "outputId": "b87fe35d-4349-466b-99b2-a058056ff700"
      },
      "execution_count": 28,
      "outputs": [
        {
          "output_type": "stream",
          "name": "stdout",
          "text": [
            "173 µs ± 5.2 µs per loop (mean ± std. dev. of 7 runs, 10000 loops each)\n"
          ]
        }
      ]
    },
    {
      "cell_type": "code",
      "source": [
        "%%timeit\n",
        "jitted_vmap_dynamic_sum(input_all_work)"
      ],
      "metadata": {
        "colab": {
          "base_uri": "https://localhost:8080/"
        },
        "id": "JdYWosPD_MGh",
        "outputId": "0d1bb468-8bdf-4714-f6b6-a100a8b263b0"
      },
      "execution_count": 29,
      "outputs": [
        {
          "output_type": "stream",
          "name": "stdout",
          "text": [
            "238 ms ± 21.7 ms per loop (mean ± std. dev. of 7 runs, 1 loop each)\n"
          ]
        }
      ]
    },
    {
      "cell_type": "code",
      "source": [
        "%%timeit\n",
        "jitted_vmap_dynamic_sum(input_single_work)"
      ],
      "metadata": {
        "colab": {
          "base_uri": "https://localhost:8080/"
        },
        "id": "fvV5SZyqAEX-",
        "outputId": "e4a37fda-9c08-4639-8089-3e1a95e99880"
      },
      "execution_count": 30,
      "outputs": [
        {
          "output_type": "stream",
          "name": "stdout",
          "text": [
            "239 ms ± 24.4 ms per loop (mean ± std. dev. of 7 runs, 1 loop each)\n"
          ]
        }
      ]
    },
    {
      "cell_type": "code",
      "source": [],
      "metadata": {
        "id": "2owXDGHXATwc"
      },
      "execution_count": 31,
      "outputs": []
    },
    {
      "cell_type": "code",
      "source": [],
      "metadata": {
        "id": "JoQ61rWjEmrx"
      },
      "execution_count": null,
      "outputs": []
    }
  ]
}