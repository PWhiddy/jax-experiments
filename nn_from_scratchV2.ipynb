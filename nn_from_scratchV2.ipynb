{
  "nbformat": 4,
  "nbformat_minor": 0,
  "metadata": {
    "colab": {
      "name": "nn_from_scratchV2.ipynb",
      "provenance": [],
      "collapsed_sections": [],
      "include_colab_link": true
    },
    "kernelspec": {
      "name": "python3",
      "display_name": "Python 3"
    },
    "language_info": {
      "name": "python"
    },
    "widgets": {
      "application/vnd.jupyter.widget-state+json": {
        "1bb97e1d1a6444228784378b69d8f9a6": {
          "model_module": "@jupyter-widgets/controls",
          "model_name": "HBoxModel",
          "model_module_version": "1.5.0",
          "state": {
            "_view_name": "HBoxView",
            "_dom_classes": [],
            "_model_name": "HBoxModel",
            "_view_module": "@jupyter-widgets/controls",
            "_model_module_version": "1.5.0",
            "_view_count": null,
            "_view_module_version": "1.5.0",
            "box_style": "",
            "layout": "IPY_MODEL_2fb658470ea24c06997038a00fdc316a",
            "_model_module": "@jupyter-widgets/controls",
            "children": [
              "IPY_MODEL_e6690297c8e04fbd8a78036caaf0ef6e",
              "IPY_MODEL_6f24e360c4784f8486e036a9cdbf76fb"
            ]
          }
        },
        "2fb658470ea24c06997038a00fdc316a": {
          "model_module": "@jupyter-widgets/base",
          "model_name": "LayoutModel",
          "model_module_version": "1.2.0",
          "state": {
            "_view_name": "LayoutView",
            "grid_template_rows": null,
            "right": null,
            "justify_content": null,
            "_view_module": "@jupyter-widgets/base",
            "overflow": null,
            "_model_module_version": "1.2.0",
            "_view_count": null,
            "flex_flow": null,
            "width": null,
            "min_width": null,
            "border": null,
            "align_items": null,
            "bottom": null,
            "_model_module": "@jupyter-widgets/base",
            "top": null,
            "grid_column": null,
            "overflow_y": null,
            "overflow_x": null,
            "grid_auto_flow": null,
            "grid_area": null,
            "grid_template_columns": null,
            "flex": null,
            "_model_name": "LayoutModel",
            "justify_items": null,
            "grid_row": null,
            "max_height": null,
            "align_content": null,
            "visibility": null,
            "align_self": null,
            "height": null,
            "min_height": null,
            "padding": null,
            "grid_auto_rows": null,
            "grid_gap": null,
            "max_width": null,
            "order": null,
            "_view_module_version": "1.2.0",
            "grid_template_areas": null,
            "object_position": null,
            "object_fit": null,
            "grid_auto_columns": null,
            "margin": null,
            "display": null,
            "left": null
          }
        },
        "e6690297c8e04fbd8a78036caaf0ef6e": {
          "model_module": "@jupyter-widgets/controls",
          "model_name": "FloatProgressModel",
          "model_module_version": "1.5.0",
          "state": {
            "_view_name": "ProgressView",
            "style": "IPY_MODEL_18f027d0f4f14032884a8e0534d942b7",
            "_dom_classes": [],
            "description": "100%",
            "_model_name": "FloatProgressModel",
            "bar_style": "success",
            "max": 15000,
            "_view_module": "@jupyter-widgets/controls",
            "_model_module_version": "1.5.0",
            "value": 15000,
            "_view_count": null,
            "_view_module_version": "1.5.0",
            "orientation": "horizontal",
            "min": 0,
            "description_tooltip": null,
            "_model_module": "@jupyter-widgets/controls",
            "layout": "IPY_MODEL_af41b7dfa81f43da812ad9e66a6a2d93"
          }
        },
        "6f24e360c4784f8486e036a9cdbf76fb": {
          "model_module": "@jupyter-widgets/controls",
          "model_name": "HTMLModel",
          "model_module_version": "1.5.0",
          "state": {
            "_view_name": "HTMLView",
            "style": "IPY_MODEL_b304982b8ead44259fb570710671c358",
            "_dom_classes": [],
            "description": "",
            "_model_name": "HTMLModel",
            "placeholder": "​",
            "_view_module": "@jupyter-widgets/controls",
            "_model_module_version": "1.5.0",
            "value": " 15000/15000 [04:30&lt;00:00, 55.43it/s]",
            "_view_count": null,
            "_view_module_version": "1.5.0",
            "description_tooltip": null,
            "_model_module": "@jupyter-widgets/controls",
            "layout": "IPY_MODEL_ce4bf31a8ef34446a687f7bb361d49f6"
          }
        },
        "18f027d0f4f14032884a8e0534d942b7": {
          "model_module": "@jupyter-widgets/controls",
          "model_name": "ProgressStyleModel",
          "model_module_version": "1.5.0",
          "state": {
            "_view_name": "StyleView",
            "_model_name": "ProgressStyleModel",
            "description_width": "initial",
            "_view_module": "@jupyter-widgets/base",
            "_model_module_version": "1.5.0",
            "_view_count": null,
            "_view_module_version": "1.2.0",
            "bar_color": null,
            "_model_module": "@jupyter-widgets/controls"
          }
        },
        "af41b7dfa81f43da812ad9e66a6a2d93": {
          "model_module": "@jupyter-widgets/base",
          "model_name": "LayoutModel",
          "model_module_version": "1.2.0",
          "state": {
            "_view_name": "LayoutView",
            "grid_template_rows": null,
            "right": null,
            "justify_content": null,
            "_view_module": "@jupyter-widgets/base",
            "overflow": null,
            "_model_module_version": "1.2.0",
            "_view_count": null,
            "flex_flow": null,
            "width": null,
            "min_width": null,
            "border": null,
            "align_items": null,
            "bottom": null,
            "_model_module": "@jupyter-widgets/base",
            "top": null,
            "grid_column": null,
            "overflow_y": null,
            "overflow_x": null,
            "grid_auto_flow": null,
            "grid_area": null,
            "grid_template_columns": null,
            "flex": null,
            "_model_name": "LayoutModel",
            "justify_items": null,
            "grid_row": null,
            "max_height": null,
            "align_content": null,
            "visibility": null,
            "align_self": null,
            "height": null,
            "min_height": null,
            "padding": null,
            "grid_auto_rows": null,
            "grid_gap": null,
            "max_width": null,
            "order": null,
            "_view_module_version": "1.2.0",
            "grid_template_areas": null,
            "object_position": null,
            "object_fit": null,
            "grid_auto_columns": null,
            "margin": null,
            "display": null,
            "left": null
          }
        },
        "b304982b8ead44259fb570710671c358": {
          "model_module": "@jupyter-widgets/controls",
          "model_name": "DescriptionStyleModel",
          "model_module_version": "1.5.0",
          "state": {
            "_view_name": "StyleView",
            "_model_name": "DescriptionStyleModel",
            "description_width": "",
            "_view_module": "@jupyter-widgets/base",
            "_model_module_version": "1.5.0",
            "_view_count": null,
            "_view_module_version": "1.2.0",
            "_model_module": "@jupyter-widgets/controls"
          }
        },
        "ce4bf31a8ef34446a687f7bb361d49f6": {
          "model_module": "@jupyter-widgets/base",
          "model_name": "LayoutModel",
          "model_module_version": "1.2.0",
          "state": {
            "_view_name": "LayoutView",
            "grid_template_rows": null,
            "right": null,
            "justify_content": null,
            "_view_module": "@jupyter-widgets/base",
            "overflow": null,
            "_model_module_version": "1.2.0",
            "_view_count": null,
            "flex_flow": null,
            "width": null,
            "min_width": null,
            "border": null,
            "align_items": null,
            "bottom": null,
            "_model_module": "@jupyter-widgets/base",
            "top": null,
            "grid_column": null,
            "overflow_y": null,
            "overflow_x": null,
            "grid_auto_flow": null,
            "grid_area": null,
            "grid_template_columns": null,
            "flex": null,
            "_model_name": "LayoutModel",
            "justify_items": null,
            "grid_row": null,
            "max_height": null,
            "align_content": null,
            "visibility": null,
            "align_self": null,
            "height": null,
            "min_height": null,
            "padding": null,
            "grid_auto_rows": null,
            "grid_gap": null,
            "max_width": null,
            "order": null,
            "_view_module_version": "1.2.0",
            "grid_template_areas": null,
            "object_position": null,
            "object_fit": null,
            "grid_auto_columns": null,
            "margin": null,
            "display": null,
            "left": null
          }
        },
        "ef5df7ceeb9146929f8cfb6c54b0eaf4": {
          "model_module": "@jupyter-widgets/controls",
          "model_name": "HBoxModel",
          "model_module_version": "1.5.0",
          "state": {
            "_view_name": "HBoxView",
            "_dom_classes": [],
            "_model_name": "HBoxModel",
            "_view_module": "@jupyter-widgets/controls",
            "_model_module_version": "1.5.0",
            "_view_count": null,
            "_view_module_version": "1.5.0",
            "box_style": "",
            "layout": "IPY_MODEL_6ffb1d8c986f47a4ad8b42156c7a1066",
            "_model_module": "@jupyter-widgets/controls",
            "children": [
              "IPY_MODEL_207c5cefa441448d82bf1e1777d24301",
              "IPY_MODEL_ac08f74988754a7683a24c06b5aa22a1"
            ]
          }
        },
        "6ffb1d8c986f47a4ad8b42156c7a1066": {
          "model_module": "@jupyter-widgets/base",
          "model_name": "LayoutModel",
          "model_module_version": "1.2.0",
          "state": {
            "_view_name": "LayoutView",
            "grid_template_rows": null,
            "right": null,
            "justify_content": null,
            "_view_module": "@jupyter-widgets/base",
            "overflow": null,
            "_model_module_version": "1.2.0",
            "_view_count": null,
            "flex_flow": null,
            "width": null,
            "min_width": null,
            "border": null,
            "align_items": null,
            "bottom": null,
            "_model_module": "@jupyter-widgets/base",
            "top": null,
            "grid_column": null,
            "overflow_y": null,
            "overflow_x": null,
            "grid_auto_flow": null,
            "grid_area": null,
            "grid_template_columns": null,
            "flex": null,
            "_model_name": "LayoutModel",
            "justify_items": null,
            "grid_row": null,
            "max_height": null,
            "align_content": null,
            "visibility": null,
            "align_self": null,
            "height": null,
            "min_height": null,
            "padding": null,
            "grid_auto_rows": null,
            "grid_gap": null,
            "max_width": null,
            "order": null,
            "_view_module_version": "1.2.0",
            "grid_template_areas": null,
            "object_position": null,
            "object_fit": null,
            "grid_auto_columns": null,
            "margin": null,
            "display": null,
            "left": null
          }
        },
        "207c5cefa441448d82bf1e1777d24301": {
          "model_module": "@jupyter-widgets/controls",
          "model_name": "FloatProgressModel",
          "model_module_version": "1.5.0",
          "state": {
            "_view_name": "ProgressView",
            "style": "IPY_MODEL_b9239b3da58f4fba97d9e9c87cc82435",
            "_dom_classes": [],
            "description": "100%",
            "_model_name": "FloatProgressModel",
            "bar_style": "success",
            "max": 15000,
            "_view_module": "@jupyter-widgets/controls",
            "_model_module_version": "1.5.0",
            "value": 15000,
            "_view_count": null,
            "_view_module_version": "1.5.0",
            "orientation": "horizontal",
            "min": 0,
            "description_tooltip": null,
            "_model_module": "@jupyter-widgets/controls",
            "layout": "IPY_MODEL_bd764cc14d154a91af219acea4dfe916"
          }
        },
        "ac08f74988754a7683a24c06b5aa22a1": {
          "model_module": "@jupyter-widgets/controls",
          "model_name": "HTMLModel",
          "model_module_version": "1.5.0",
          "state": {
            "_view_name": "HTMLView",
            "style": "IPY_MODEL_ee540856ea034e9e9b5050dfb6ee8300",
            "_dom_classes": [],
            "description": "",
            "_model_name": "HTMLModel",
            "placeholder": "​",
            "_view_module": "@jupyter-widgets/controls",
            "_model_module_version": "1.5.0",
            "value": " 15000/15000 [02:47&lt;00:00, 89.30it/s]",
            "_view_count": null,
            "_view_module_version": "1.5.0",
            "description_tooltip": null,
            "_model_module": "@jupyter-widgets/controls",
            "layout": "IPY_MODEL_71996770bfd64eca9396382859721b8b"
          }
        },
        "b9239b3da58f4fba97d9e9c87cc82435": {
          "model_module": "@jupyter-widgets/controls",
          "model_name": "ProgressStyleModel",
          "model_module_version": "1.5.0",
          "state": {
            "_view_name": "StyleView",
            "_model_name": "ProgressStyleModel",
            "description_width": "initial",
            "_view_module": "@jupyter-widgets/base",
            "_model_module_version": "1.5.0",
            "_view_count": null,
            "_view_module_version": "1.2.0",
            "bar_color": null,
            "_model_module": "@jupyter-widgets/controls"
          }
        },
        "bd764cc14d154a91af219acea4dfe916": {
          "model_module": "@jupyter-widgets/base",
          "model_name": "LayoutModel",
          "model_module_version": "1.2.0",
          "state": {
            "_view_name": "LayoutView",
            "grid_template_rows": null,
            "right": null,
            "justify_content": null,
            "_view_module": "@jupyter-widgets/base",
            "overflow": null,
            "_model_module_version": "1.2.0",
            "_view_count": null,
            "flex_flow": null,
            "width": null,
            "min_width": null,
            "border": null,
            "align_items": null,
            "bottom": null,
            "_model_module": "@jupyter-widgets/base",
            "top": null,
            "grid_column": null,
            "overflow_y": null,
            "overflow_x": null,
            "grid_auto_flow": null,
            "grid_area": null,
            "grid_template_columns": null,
            "flex": null,
            "_model_name": "LayoutModel",
            "justify_items": null,
            "grid_row": null,
            "max_height": null,
            "align_content": null,
            "visibility": null,
            "align_self": null,
            "height": null,
            "min_height": null,
            "padding": null,
            "grid_auto_rows": null,
            "grid_gap": null,
            "max_width": null,
            "order": null,
            "_view_module_version": "1.2.0",
            "grid_template_areas": null,
            "object_position": null,
            "object_fit": null,
            "grid_auto_columns": null,
            "margin": null,
            "display": null,
            "left": null
          }
        },
        "ee540856ea034e9e9b5050dfb6ee8300": {
          "model_module": "@jupyter-widgets/controls",
          "model_name": "DescriptionStyleModel",
          "model_module_version": "1.5.0",
          "state": {
            "_view_name": "StyleView",
            "_model_name": "DescriptionStyleModel",
            "description_width": "",
            "_view_module": "@jupyter-widgets/base",
            "_model_module_version": "1.5.0",
            "_view_count": null,
            "_view_module_version": "1.2.0",
            "_model_module": "@jupyter-widgets/controls"
          }
        },
        "71996770bfd64eca9396382859721b8b": {
          "model_module": "@jupyter-widgets/base",
          "model_name": "LayoutModel",
          "model_module_version": "1.2.0",
          "state": {
            "_view_name": "LayoutView",
            "grid_template_rows": null,
            "right": null,
            "justify_content": null,
            "_view_module": "@jupyter-widgets/base",
            "overflow": null,
            "_model_module_version": "1.2.0",
            "_view_count": null,
            "flex_flow": null,
            "width": null,
            "min_width": null,
            "border": null,
            "align_items": null,
            "bottom": null,
            "_model_module": "@jupyter-widgets/base",
            "top": null,
            "grid_column": null,
            "overflow_y": null,
            "overflow_x": null,
            "grid_auto_flow": null,
            "grid_area": null,
            "grid_template_columns": null,
            "flex": null,
            "_model_name": "LayoutModel",
            "justify_items": null,
            "grid_row": null,
            "max_height": null,
            "align_content": null,
            "visibility": null,
            "align_self": null,
            "height": null,
            "min_height": null,
            "padding": null,
            "grid_auto_rows": null,
            "grid_gap": null,
            "max_width": null,
            "order": null,
            "_view_module_version": "1.2.0",
            "grid_template_areas": null,
            "object_position": null,
            "object_fit": null,
            "grid_auto_columns": null,
            "margin": null,
            "display": null,
            "left": null
          }
        },
        "368f8e5d427f4f73b3b8def3a5243534": {
          "model_module": "@jupyter-widgets/controls",
          "model_name": "HBoxModel",
          "model_module_version": "1.5.0",
          "state": {
            "_view_name": "HBoxView",
            "_dom_classes": [],
            "_model_name": "HBoxModel",
            "_view_module": "@jupyter-widgets/controls",
            "_model_module_version": "1.5.0",
            "_view_count": null,
            "_view_module_version": "1.5.0",
            "box_style": "",
            "layout": "IPY_MODEL_f71f1fc45a6f44fab781b8244a4fd8e3",
            "_model_module": "@jupyter-widgets/controls",
            "children": [
              "IPY_MODEL_b2be85fd9aee42bc9defba0d123d24ba",
              "IPY_MODEL_9bb614089857453d8d7bdf10942cd7a8"
            ]
          }
        },
        "f71f1fc45a6f44fab781b8244a4fd8e3": {
          "model_module": "@jupyter-widgets/base",
          "model_name": "LayoutModel",
          "model_module_version": "1.2.0",
          "state": {
            "_view_name": "LayoutView",
            "grid_template_rows": null,
            "right": null,
            "justify_content": null,
            "_view_module": "@jupyter-widgets/base",
            "overflow": null,
            "_model_module_version": "1.2.0",
            "_view_count": null,
            "flex_flow": null,
            "width": null,
            "min_width": null,
            "border": null,
            "align_items": null,
            "bottom": null,
            "_model_module": "@jupyter-widgets/base",
            "top": null,
            "grid_column": null,
            "overflow_y": null,
            "overflow_x": null,
            "grid_auto_flow": null,
            "grid_area": null,
            "grid_template_columns": null,
            "flex": null,
            "_model_name": "LayoutModel",
            "justify_items": null,
            "grid_row": null,
            "max_height": null,
            "align_content": null,
            "visibility": null,
            "align_self": null,
            "height": null,
            "min_height": null,
            "padding": null,
            "grid_auto_rows": null,
            "grid_gap": null,
            "max_width": null,
            "order": null,
            "_view_module_version": "1.2.0",
            "grid_template_areas": null,
            "object_position": null,
            "object_fit": null,
            "grid_auto_columns": null,
            "margin": null,
            "display": null,
            "left": null
          }
        },
        "b2be85fd9aee42bc9defba0d123d24ba": {
          "model_module": "@jupyter-widgets/controls",
          "model_name": "FloatProgressModel",
          "model_module_version": "1.5.0",
          "state": {
            "_view_name": "ProgressView",
            "style": "IPY_MODEL_c4a0d90f1f304af88829d8dd742b36ed",
            "_dom_classes": [],
            "description": "100%",
            "_model_name": "FloatProgressModel",
            "bar_style": "success",
            "max": 15000,
            "_view_module": "@jupyter-widgets/controls",
            "_model_module_version": "1.5.0",
            "value": 15000,
            "_view_count": null,
            "_view_module_version": "1.5.0",
            "orientation": "horizontal",
            "min": 0,
            "description_tooltip": null,
            "_model_module": "@jupyter-widgets/controls",
            "layout": "IPY_MODEL_def10e601885436e928bf3168b103eab"
          }
        },
        "9bb614089857453d8d7bdf10942cd7a8": {
          "model_module": "@jupyter-widgets/controls",
          "model_name": "HTMLModel",
          "model_module_version": "1.5.0",
          "state": {
            "_view_name": "HTMLView",
            "style": "IPY_MODEL_992808ae29d648309a43eaf244e561b2",
            "_dom_classes": [],
            "description": "",
            "_model_name": "HTMLModel",
            "placeholder": "​",
            "_view_module": "@jupyter-widgets/controls",
            "_model_module_version": "1.5.0",
            "value": " 15000/15000 [04:21&lt;00:00, 57.34it/s]",
            "_view_count": null,
            "_view_module_version": "1.5.0",
            "description_tooltip": null,
            "_model_module": "@jupyter-widgets/controls",
            "layout": "IPY_MODEL_1c02f9c019824445a1fbf832dd1e8eb7"
          }
        },
        "c4a0d90f1f304af88829d8dd742b36ed": {
          "model_module": "@jupyter-widgets/controls",
          "model_name": "ProgressStyleModel",
          "model_module_version": "1.5.0",
          "state": {
            "_view_name": "StyleView",
            "_model_name": "ProgressStyleModel",
            "description_width": "initial",
            "_view_module": "@jupyter-widgets/base",
            "_model_module_version": "1.5.0",
            "_view_count": null,
            "_view_module_version": "1.2.0",
            "bar_color": null,
            "_model_module": "@jupyter-widgets/controls"
          }
        },
        "def10e601885436e928bf3168b103eab": {
          "model_module": "@jupyter-widgets/base",
          "model_name": "LayoutModel",
          "model_module_version": "1.2.0",
          "state": {
            "_view_name": "LayoutView",
            "grid_template_rows": null,
            "right": null,
            "justify_content": null,
            "_view_module": "@jupyter-widgets/base",
            "overflow": null,
            "_model_module_version": "1.2.0",
            "_view_count": null,
            "flex_flow": null,
            "width": null,
            "min_width": null,
            "border": null,
            "align_items": null,
            "bottom": null,
            "_model_module": "@jupyter-widgets/base",
            "top": null,
            "grid_column": null,
            "overflow_y": null,
            "overflow_x": null,
            "grid_auto_flow": null,
            "grid_area": null,
            "grid_template_columns": null,
            "flex": null,
            "_model_name": "LayoutModel",
            "justify_items": null,
            "grid_row": null,
            "max_height": null,
            "align_content": null,
            "visibility": null,
            "align_self": null,
            "height": null,
            "min_height": null,
            "padding": null,
            "grid_auto_rows": null,
            "grid_gap": null,
            "max_width": null,
            "order": null,
            "_view_module_version": "1.2.0",
            "grid_template_areas": null,
            "object_position": null,
            "object_fit": null,
            "grid_auto_columns": null,
            "margin": null,
            "display": null,
            "left": null
          }
        },
        "992808ae29d648309a43eaf244e561b2": {
          "model_module": "@jupyter-widgets/controls",
          "model_name": "DescriptionStyleModel",
          "model_module_version": "1.5.0",
          "state": {
            "_view_name": "StyleView",
            "_model_name": "DescriptionStyleModel",
            "description_width": "",
            "_view_module": "@jupyter-widgets/base",
            "_model_module_version": "1.5.0",
            "_view_count": null,
            "_view_module_version": "1.2.0",
            "_model_module": "@jupyter-widgets/controls"
          }
        },
        "1c02f9c019824445a1fbf832dd1e8eb7": {
          "model_module": "@jupyter-widgets/base",
          "model_name": "LayoutModel",
          "model_module_version": "1.2.0",
          "state": {
            "_view_name": "LayoutView",
            "grid_template_rows": null,
            "right": null,
            "justify_content": null,
            "_view_module": "@jupyter-widgets/base",
            "overflow": null,
            "_model_module_version": "1.2.0",
            "_view_count": null,
            "flex_flow": null,
            "width": null,
            "min_width": null,
            "border": null,
            "align_items": null,
            "bottom": null,
            "_model_module": "@jupyter-widgets/base",
            "top": null,
            "grid_column": null,
            "overflow_y": null,
            "overflow_x": null,
            "grid_auto_flow": null,
            "grid_area": null,
            "grid_template_columns": null,
            "flex": null,
            "_model_name": "LayoutModel",
            "justify_items": null,
            "grid_row": null,
            "max_height": null,
            "align_content": null,
            "visibility": null,
            "align_self": null,
            "height": null,
            "min_height": null,
            "padding": null,
            "grid_auto_rows": null,
            "grid_gap": null,
            "max_width": null,
            "order": null,
            "_view_module_version": "1.2.0",
            "grid_template_areas": null,
            "object_position": null,
            "object_fit": null,
            "grid_auto_columns": null,
            "margin": null,
            "display": null,
            "left": null
          }
        },
        "e55d405e37644435b105ccd63443b5ad": {
          "model_module": "@jupyter-widgets/controls",
          "model_name": "HBoxModel",
          "model_module_version": "1.5.0",
          "state": {
            "_view_name": "HBoxView",
            "_dom_classes": [],
            "_model_name": "HBoxModel",
            "_view_module": "@jupyter-widgets/controls",
            "_model_module_version": "1.5.0",
            "_view_count": null,
            "_view_module_version": "1.5.0",
            "box_style": "",
            "layout": "IPY_MODEL_6b0194c28e624a8387b7787fdfae1761",
            "_model_module": "@jupyter-widgets/controls",
            "children": [
              "IPY_MODEL_7374f6cfc0624265903d93b02396c5d6",
              "IPY_MODEL_99e326cb9a364b4590e00a53892da149"
            ]
          }
        },
        "6b0194c28e624a8387b7787fdfae1761": {
          "model_module": "@jupyter-widgets/base",
          "model_name": "LayoutModel",
          "model_module_version": "1.2.0",
          "state": {
            "_view_name": "LayoutView",
            "grid_template_rows": null,
            "right": null,
            "justify_content": null,
            "_view_module": "@jupyter-widgets/base",
            "overflow": null,
            "_model_module_version": "1.2.0",
            "_view_count": null,
            "flex_flow": null,
            "width": null,
            "min_width": null,
            "border": null,
            "align_items": null,
            "bottom": null,
            "_model_module": "@jupyter-widgets/base",
            "top": null,
            "grid_column": null,
            "overflow_y": null,
            "overflow_x": null,
            "grid_auto_flow": null,
            "grid_area": null,
            "grid_template_columns": null,
            "flex": null,
            "_model_name": "LayoutModel",
            "justify_items": null,
            "grid_row": null,
            "max_height": null,
            "align_content": null,
            "visibility": null,
            "align_self": null,
            "height": null,
            "min_height": null,
            "padding": null,
            "grid_auto_rows": null,
            "grid_gap": null,
            "max_width": null,
            "order": null,
            "_view_module_version": "1.2.0",
            "grid_template_areas": null,
            "object_position": null,
            "object_fit": null,
            "grid_auto_columns": null,
            "margin": null,
            "display": null,
            "left": null
          }
        },
        "7374f6cfc0624265903d93b02396c5d6": {
          "model_module": "@jupyter-widgets/controls",
          "model_name": "FloatProgressModel",
          "model_module_version": "1.5.0",
          "state": {
            "_view_name": "ProgressView",
            "style": "IPY_MODEL_80666101c0694b2b9c43f1b90897e44b",
            "_dom_classes": [],
            "description": "100%",
            "_model_name": "FloatProgressModel",
            "bar_style": "success",
            "max": 15000,
            "_view_module": "@jupyter-widgets/controls",
            "_model_module_version": "1.5.0",
            "value": 15000,
            "_view_count": null,
            "_view_module_version": "1.5.0",
            "orientation": "horizontal",
            "min": 0,
            "description_tooltip": null,
            "_model_module": "@jupyter-widgets/controls",
            "layout": "IPY_MODEL_208a08fa43574ba3a5d9307f02d7ccdb"
          }
        },
        "99e326cb9a364b4590e00a53892da149": {
          "model_module": "@jupyter-widgets/controls",
          "model_name": "HTMLModel",
          "model_module_version": "1.5.0",
          "state": {
            "_view_name": "HTMLView",
            "style": "IPY_MODEL_e83ad1924ba34e27bda47536a04bd237",
            "_dom_classes": [],
            "description": "",
            "_model_name": "HTMLModel",
            "placeholder": "​",
            "_view_module": "@jupyter-widgets/controls",
            "_model_module_version": "1.5.0",
            "value": " 15000/15000 [02:42&lt;00:00, 92.57it/s]",
            "_view_count": null,
            "_view_module_version": "1.5.0",
            "description_tooltip": null,
            "_model_module": "@jupyter-widgets/controls",
            "layout": "IPY_MODEL_f5169f6a91414505911afcf842439f2d"
          }
        },
        "80666101c0694b2b9c43f1b90897e44b": {
          "model_module": "@jupyter-widgets/controls",
          "model_name": "ProgressStyleModel",
          "model_module_version": "1.5.0",
          "state": {
            "_view_name": "StyleView",
            "_model_name": "ProgressStyleModel",
            "description_width": "initial",
            "_view_module": "@jupyter-widgets/base",
            "_model_module_version": "1.5.0",
            "_view_count": null,
            "_view_module_version": "1.2.0",
            "bar_color": null,
            "_model_module": "@jupyter-widgets/controls"
          }
        },
        "208a08fa43574ba3a5d9307f02d7ccdb": {
          "model_module": "@jupyter-widgets/base",
          "model_name": "LayoutModel",
          "model_module_version": "1.2.0",
          "state": {
            "_view_name": "LayoutView",
            "grid_template_rows": null,
            "right": null,
            "justify_content": null,
            "_view_module": "@jupyter-widgets/base",
            "overflow": null,
            "_model_module_version": "1.2.0",
            "_view_count": null,
            "flex_flow": null,
            "width": null,
            "min_width": null,
            "border": null,
            "align_items": null,
            "bottom": null,
            "_model_module": "@jupyter-widgets/base",
            "top": null,
            "grid_column": null,
            "overflow_y": null,
            "overflow_x": null,
            "grid_auto_flow": null,
            "grid_area": null,
            "grid_template_columns": null,
            "flex": null,
            "_model_name": "LayoutModel",
            "justify_items": null,
            "grid_row": null,
            "max_height": null,
            "align_content": null,
            "visibility": null,
            "align_self": null,
            "height": null,
            "min_height": null,
            "padding": null,
            "grid_auto_rows": null,
            "grid_gap": null,
            "max_width": null,
            "order": null,
            "_view_module_version": "1.2.0",
            "grid_template_areas": null,
            "object_position": null,
            "object_fit": null,
            "grid_auto_columns": null,
            "margin": null,
            "display": null,
            "left": null
          }
        },
        "e83ad1924ba34e27bda47536a04bd237": {
          "model_module": "@jupyter-widgets/controls",
          "model_name": "DescriptionStyleModel",
          "model_module_version": "1.5.0",
          "state": {
            "_view_name": "StyleView",
            "_model_name": "DescriptionStyleModel",
            "description_width": "",
            "_view_module": "@jupyter-widgets/base",
            "_model_module_version": "1.5.0",
            "_view_count": null,
            "_view_module_version": "1.2.0",
            "_model_module": "@jupyter-widgets/controls"
          }
        },
        "f5169f6a91414505911afcf842439f2d": {
          "model_module": "@jupyter-widgets/base",
          "model_name": "LayoutModel",
          "model_module_version": "1.2.0",
          "state": {
            "_view_name": "LayoutView",
            "grid_template_rows": null,
            "right": null,
            "justify_content": null,
            "_view_module": "@jupyter-widgets/base",
            "overflow": null,
            "_model_module_version": "1.2.0",
            "_view_count": null,
            "flex_flow": null,
            "width": null,
            "min_width": null,
            "border": null,
            "align_items": null,
            "bottom": null,
            "_model_module": "@jupyter-widgets/base",
            "top": null,
            "grid_column": null,
            "overflow_y": null,
            "overflow_x": null,
            "grid_auto_flow": null,
            "grid_area": null,
            "grid_template_columns": null,
            "flex": null,
            "_model_name": "LayoutModel",
            "justify_items": null,
            "grid_row": null,
            "max_height": null,
            "align_content": null,
            "visibility": null,
            "align_self": null,
            "height": null,
            "min_height": null,
            "padding": null,
            "grid_auto_rows": null,
            "grid_gap": null,
            "max_width": null,
            "order": null,
            "_view_module_version": "1.2.0",
            "grid_template_areas": null,
            "object_position": null,
            "object_fit": null,
            "grid_auto_columns": null,
            "margin": null,
            "display": null,
            "left": null
          }
        },
        "584b4910a1e44bb79abbc30209795579": {
          "model_module": "@jupyter-widgets/controls",
          "model_name": "HBoxModel",
          "model_module_version": "1.5.0",
          "state": {
            "_view_name": "HBoxView",
            "_dom_classes": [],
            "_model_name": "HBoxModel",
            "_view_module": "@jupyter-widgets/controls",
            "_model_module_version": "1.5.0",
            "_view_count": null,
            "_view_module_version": "1.5.0",
            "box_style": "",
            "layout": "IPY_MODEL_bd2c4fc81b894cb0bb5e51ff2fbeb1d2",
            "_model_module": "@jupyter-widgets/controls",
            "children": [
              "IPY_MODEL_70658b81c28e4ebdafd8090122ce9f94",
              "IPY_MODEL_a54696e664a745e0a7fe95c500cc7e99"
            ]
          }
        },
        "bd2c4fc81b894cb0bb5e51ff2fbeb1d2": {
          "model_module": "@jupyter-widgets/base",
          "model_name": "LayoutModel",
          "model_module_version": "1.2.0",
          "state": {
            "_view_name": "LayoutView",
            "grid_template_rows": null,
            "right": null,
            "justify_content": null,
            "_view_module": "@jupyter-widgets/base",
            "overflow": null,
            "_model_module_version": "1.2.0",
            "_view_count": null,
            "flex_flow": null,
            "width": null,
            "min_width": null,
            "border": null,
            "align_items": null,
            "bottom": null,
            "_model_module": "@jupyter-widgets/base",
            "top": null,
            "grid_column": null,
            "overflow_y": null,
            "overflow_x": null,
            "grid_auto_flow": null,
            "grid_area": null,
            "grid_template_columns": null,
            "flex": null,
            "_model_name": "LayoutModel",
            "justify_items": null,
            "grid_row": null,
            "max_height": null,
            "align_content": null,
            "visibility": null,
            "align_self": null,
            "height": null,
            "min_height": null,
            "padding": null,
            "grid_auto_rows": null,
            "grid_gap": null,
            "max_width": null,
            "order": null,
            "_view_module_version": "1.2.0",
            "grid_template_areas": null,
            "object_position": null,
            "object_fit": null,
            "grid_auto_columns": null,
            "margin": null,
            "display": null,
            "left": null
          }
        },
        "70658b81c28e4ebdafd8090122ce9f94": {
          "model_module": "@jupyter-widgets/controls",
          "model_name": "FloatProgressModel",
          "model_module_version": "1.5.0",
          "state": {
            "_view_name": "ProgressView",
            "style": "IPY_MODEL_1b477bb4f39e46edab0403b271bd6039",
            "_dom_classes": [],
            "description": "100%",
            "_model_name": "FloatProgressModel",
            "bar_style": "success",
            "max": 15000,
            "_view_module": "@jupyter-widgets/controls",
            "_model_module_version": "1.5.0",
            "value": 15000,
            "_view_count": null,
            "_view_module_version": "1.5.0",
            "orientation": "horizontal",
            "min": 0,
            "description_tooltip": null,
            "_model_module": "@jupyter-widgets/controls",
            "layout": "IPY_MODEL_1a2772b851f1440baba3f749a68f3fc4"
          }
        },
        "a54696e664a745e0a7fe95c500cc7e99": {
          "model_module": "@jupyter-widgets/controls",
          "model_name": "HTMLModel",
          "model_module_version": "1.5.0",
          "state": {
            "_view_name": "HTMLView",
            "style": "IPY_MODEL_0154e52ead27452697d5eeb7d5b7db73",
            "_dom_classes": [],
            "description": "",
            "_model_name": "HTMLModel",
            "placeholder": "​",
            "_view_module": "@jupyter-widgets/controls",
            "_model_module_version": "1.5.0",
            "value": " 15000/15000 [02:42&lt;00:00, 92.15it/s]",
            "_view_count": null,
            "_view_module_version": "1.5.0",
            "description_tooltip": null,
            "_model_module": "@jupyter-widgets/controls",
            "layout": "IPY_MODEL_b74b00e2ccb645558177471be7c64609"
          }
        },
        "1b477bb4f39e46edab0403b271bd6039": {
          "model_module": "@jupyter-widgets/controls",
          "model_name": "ProgressStyleModel",
          "model_module_version": "1.5.0",
          "state": {
            "_view_name": "StyleView",
            "_model_name": "ProgressStyleModel",
            "description_width": "initial",
            "_view_module": "@jupyter-widgets/base",
            "_model_module_version": "1.5.0",
            "_view_count": null,
            "_view_module_version": "1.2.0",
            "bar_color": null,
            "_model_module": "@jupyter-widgets/controls"
          }
        },
        "1a2772b851f1440baba3f749a68f3fc4": {
          "model_module": "@jupyter-widgets/base",
          "model_name": "LayoutModel",
          "model_module_version": "1.2.0",
          "state": {
            "_view_name": "LayoutView",
            "grid_template_rows": null,
            "right": null,
            "justify_content": null,
            "_view_module": "@jupyter-widgets/base",
            "overflow": null,
            "_model_module_version": "1.2.0",
            "_view_count": null,
            "flex_flow": null,
            "width": null,
            "min_width": null,
            "border": null,
            "align_items": null,
            "bottom": null,
            "_model_module": "@jupyter-widgets/base",
            "top": null,
            "grid_column": null,
            "overflow_y": null,
            "overflow_x": null,
            "grid_auto_flow": null,
            "grid_area": null,
            "grid_template_columns": null,
            "flex": null,
            "_model_name": "LayoutModel",
            "justify_items": null,
            "grid_row": null,
            "max_height": null,
            "align_content": null,
            "visibility": null,
            "align_self": null,
            "height": null,
            "min_height": null,
            "padding": null,
            "grid_auto_rows": null,
            "grid_gap": null,
            "max_width": null,
            "order": null,
            "_view_module_version": "1.2.0",
            "grid_template_areas": null,
            "object_position": null,
            "object_fit": null,
            "grid_auto_columns": null,
            "margin": null,
            "display": null,
            "left": null
          }
        },
        "0154e52ead27452697d5eeb7d5b7db73": {
          "model_module": "@jupyter-widgets/controls",
          "model_name": "DescriptionStyleModel",
          "model_module_version": "1.5.0",
          "state": {
            "_view_name": "StyleView",
            "_model_name": "DescriptionStyleModel",
            "description_width": "",
            "_view_module": "@jupyter-widgets/base",
            "_model_module_version": "1.5.0",
            "_view_count": null,
            "_view_module_version": "1.2.0",
            "_model_module": "@jupyter-widgets/controls"
          }
        },
        "b74b00e2ccb645558177471be7c64609": {
          "model_module": "@jupyter-widgets/base",
          "model_name": "LayoutModel",
          "model_module_version": "1.2.0",
          "state": {
            "_view_name": "LayoutView",
            "grid_template_rows": null,
            "right": null,
            "justify_content": null,
            "_view_module": "@jupyter-widgets/base",
            "overflow": null,
            "_model_module_version": "1.2.0",
            "_view_count": null,
            "flex_flow": null,
            "width": null,
            "min_width": null,
            "border": null,
            "align_items": null,
            "bottom": null,
            "_model_module": "@jupyter-widgets/base",
            "top": null,
            "grid_column": null,
            "overflow_y": null,
            "overflow_x": null,
            "grid_auto_flow": null,
            "grid_area": null,
            "grid_template_columns": null,
            "flex": null,
            "_model_name": "LayoutModel",
            "justify_items": null,
            "grid_row": null,
            "max_height": null,
            "align_content": null,
            "visibility": null,
            "align_self": null,
            "height": null,
            "min_height": null,
            "padding": null,
            "grid_auto_rows": null,
            "grid_gap": null,
            "max_width": null,
            "order": null,
            "_view_module_version": "1.2.0",
            "grid_template_areas": null,
            "object_position": null,
            "object_fit": null,
            "grid_auto_columns": null,
            "margin": null,
            "display": null,
            "left": null
          }
        },
        "902dc0ea3c314806b032f0fb4f353644": {
          "model_module": "@jupyter-widgets/controls",
          "model_name": "HBoxModel",
          "model_module_version": "1.5.0",
          "state": {
            "_view_name": "HBoxView",
            "_dom_classes": [],
            "_model_name": "HBoxModel",
            "_view_module": "@jupyter-widgets/controls",
            "_model_module_version": "1.5.0",
            "_view_count": null,
            "_view_module_version": "1.5.0",
            "box_style": "",
            "layout": "IPY_MODEL_b1d8aba9be744a4bb3de019efe127346",
            "_model_module": "@jupyter-widgets/controls",
            "children": [
              "IPY_MODEL_807bc3d3fee24073b9dc782e8b66d14b",
              "IPY_MODEL_dc92cb2276ff491190121bfcc0b317aa"
            ]
          }
        },
        "b1d8aba9be744a4bb3de019efe127346": {
          "model_module": "@jupyter-widgets/base",
          "model_name": "LayoutModel",
          "model_module_version": "1.2.0",
          "state": {
            "_view_name": "LayoutView",
            "grid_template_rows": null,
            "right": null,
            "justify_content": null,
            "_view_module": "@jupyter-widgets/base",
            "overflow": null,
            "_model_module_version": "1.2.0",
            "_view_count": null,
            "flex_flow": null,
            "width": null,
            "min_width": null,
            "border": null,
            "align_items": null,
            "bottom": null,
            "_model_module": "@jupyter-widgets/base",
            "top": null,
            "grid_column": null,
            "overflow_y": null,
            "overflow_x": null,
            "grid_auto_flow": null,
            "grid_area": null,
            "grid_template_columns": null,
            "flex": null,
            "_model_name": "LayoutModel",
            "justify_items": null,
            "grid_row": null,
            "max_height": null,
            "align_content": null,
            "visibility": null,
            "align_self": null,
            "height": null,
            "min_height": null,
            "padding": null,
            "grid_auto_rows": null,
            "grid_gap": null,
            "max_width": null,
            "order": null,
            "_view_module_version": "1.2.0",
            "grid_template_areas": null,
            "object_position": null,
            "object_fit": null,
            "grid_auto_columns": null,
            "margin": null,
            "display": null,
            "left": null
          }
        },
        "807bc3d3fee24073b9dc782e8b66d14b": {
          "model_module": "@jupyter-widgets/controls",
          "model_name": "FloatProgressModel",
          "model_module_version": "1.5.0",
          "state": {
            "_view_name": "ProgressView",
            "style": "IPY_MODEL_388cad09f7b4408baac06d0fb5375e40",
            "_dom_classes": [],
            "description": "100%",
            "_model_name": "FloatProgressModel",
            "bar_style": "success",
            "max": 15000,
            "_view_module": "@jupyter-widgets/controls",
            "_model_module_version": "1.5.0",
            "value": 15000,
            "_view_count": null,
            "_view_module_version": "1.5.0",
            "orientation": "horizontal",
            "min": 0,
            "description_tooltip": null,
            "_model_module": "@jupyter-widgets/controls",
            "layout": "IPY_MODEL_f48d02bf26e340c09cb9a58cd9c3ab79"
          }
        },
        "dc92cb2276ff491190121bfcc0b317aa": {
          "model_module": "@jupyter-widgets/controls",
          "model_name": "HTMLModel",
          "model_module_version": "1.5.0",
          "state": {
            "_view_name": "HTMLView",
            "style": "IPY_MODEL_2d4208b076704097b5078840a5ff5ef3",
            "_dom_classes": [],
            "description": "",
            "_model_name": "HTMLModel",
            "placeholder": "​",
            "_view_module": "@jupyter-widgets/controls",
            "_model_module_version": "1.5.0",
            "value": " 15000/15000 [06:08&lt;00:00, 40.65it/s]",
            "_view_count": null,
            "_view_module_version": "1.5.0",
            "description_tooltip": null,
            "_model_module": "@jupyter-widgets/controls",
            "layout": "IPY_MODEL_50d755035b294175b7e4c47cfe60f45c"
          }
        },
        "388cad09f7b4408baac06d0fb5375e40": {
          "model_module": "@jupyter-widgets/controls",
          "model_name": "ProgressStyleModel",
          "model_module_version": "1.5.0",
          "state": {
            "_view_name": "StyleView",
            "_model_name": "ProgressStyleModel",
            "description_width": "initial",
            "_view_module": "@jupyter-widgets/base",
            "_model_module_version": "1.5.0",
            "_view_count": null,
            "_view_module_version": "1.2.0",
            "bar_color": null,
            "_model_module": "@jupyter-widgets/controls"
          }
        },
        "f48d02bf26e340c09cb9a58cd9c3ab79": {
          "model_module": "@jupyter-widgets/base",
          "model_name": "LayoutModel",
          "model_module_version": "1.2.0",
          "state": {
            "_view_name": "LayoutView",
            "grid_template_rows": null,
            "right": null,
            "justify_content": null,
            "_view_module": "@jupyter-widgets/base",
            "overflow": null,
            "_model_module_version": "1.2.0",
            "_view_count": null,
            "flex_flow": null,
            "width": null,
            "min_width": null,
            "border": null,
            "align_items": null,
            "bottom": null,
            "_model_module": "@jupyter-widgets/base",
            "top": null,
            "grid_column": null,
            "overflow_y": null,
            "overflow_x": null,
            "grid_auto_flow": null,
            "grid_area": null,
            "grid_template_columns": null,
            "flex": null,
            "_model_name": "LayoutModel",
            "justify_items": null,
            "grid_row": null,
            "max_height": null,
            "align_content": null,
            "visibility": null,
            "align_self": null,
            "height": null,
            "min_height": null,
            "padding": null,
            "grid_auto_rows": null,
            "grid_gap": null,
            "max_width": null,
            "order": null,
            "_view_module_version": "1.2.0",
            "grid_template_areas": null,
            "object_position": null,
            "object_fit": null,
            "grid_auto_columns": null,
            "margin": null,
            "display": null,
            "left": null
          }
        },
        "2d4208b076704097b5078840a5ff5ef3": {
          "model_module": "@jupyter-widgets/controls",
          "model_name": "DescriptionStyleModel",
          "model_module_version": "1.5.0",
          "state": {
            "_view_name": "StyleView",
            "_model_name": "DescriptionStyleModel",
            "description_width": "",
            "_view_module": "@jupyter-widgets/base",
            "_model_module_version": "1.5.0",
            "_view_count": null,
            "_view_module_version": "1.2.0",
            "_model_module": "@jupyter-widgets/controls"
          }
        },
        "50d755035b294175b7e4c47cfe60f45c": {
          "model_module": "@jupyter-widgets/base",
          "model_name": "LayoutModel",
          "model_module_version": "1.2.0",
          "state": {
            "_view_name": "LayoutView",
            "grid_template_rows": null,
            "right": null,
            "justify_content": null,
            "_view_module": "@jupyter-widgets/base",
            "overflow": null,
            "_model_module_version": "1.2.0",
            "_view_count": null,
            "flex_flow": null,
            "width": null,
            "min_width": null,
            "border": null,
            "align_items": null,
            "bottom": null,
            "_model_module": "@jupyter-widgets/base",
            "top": null,
            "grid_column": null,
            "overflow_y": null,
            "overflow_x": null,
            "grid_auto_flow": null,
            "grid_area": null,
            "grid_template_columns": null,
            "flex": null,
            "_model_name": "LayoutModel",
            "justify_items": null,
            "grid_row": null,
            "max_height": null,
            "align_content": null,
            "visibility": null,
            "align_self": null,
            "height": null,
            "min_height": null,
            "padding": null,
            "grid_auto_rows": null,
            "grid_gap": null,
            "max_width": null,
            "order": null,
            "_view_module_version": "1.2.0",
            "grid_template_areas": null,
            "object_position": null,
            "object_fit": null,
            "grid_auto_columns": null,
            "margin": null,
            "display": null,
            "left": null
          }
        },
        "fc2fb6721a5743ff8e377d91f2239ad9": {
          "model_module": "@jupyter-widgets/controls",
          "model_name": "HBoxModel",
          "model_module_version": "1.5.0",
          "state": {
            "_view_name": "HBoxView",
            "_dom_classes": [],
            "_model_name": "HBoxModel",
            "_view_module": "@jupyter-widgets/controls",
            "_model_module_version": "1.5.0",
            "_view_count": null,
            "_view_module_version": "1.5.0",
            "box_style": "",
            "layout": "IPY_MODEL_6b82c63697e642fbb5df38e2fe40e78e",
            "_model_module": "@jupyter-widgets/controls",
            "children": [
              "IPY_MODEL_bb3ac926d87b494192469e7514aba02c",
              "IPY_MODEL_73251bea349f4c889a9c13d6f2e76356"
            ]
          }
        },
        "6b82c63697e642fbb5df38e2fe40e78e": {
          "model_module": "@jupyter-widgets/base",
          "model_name": "LayoutModel",
          "model_module_version": "1.2.0",
          "state": {
            "_view_name": "LayoutView",
            "grid_template_rows": null,
            "right": null,
            "justify_content": null,
            "_view_module": "@jupyter-widgets/base",
            "overflow": null,
            "_model_module_version": "1.2.0",
            "_view_count": null,
            "flex_flow": null,
            "width": null,
            "min_width": null,
            "border": null,
            "align_items": null,
            "bottom": null,
            "_model_module": "@jupyter-widgets/base",
            "top": null,
            "grid_column": null,
            "overflow_y": null,
            "overflow_x": null,
            "grid_auto_flow": null,
            "grid_area": null,
            "grid_template_columns": null,
            "flex": null,
            "_model_name": "LayoutModel",
            "justify_items": null,
            "grid_row": null,
            "max_height": null,
            "align_content": null,
            "visibility": null,
            "align_self": null,
            "height": null,
            "min_height": null,
            "padding": null,
            "grid_auto_rows": null,
            "grid_gap": null,
            "max_width": null,
            "order": null,
            "_view_module_version": "1.2.0",
            "grid_template_areas": null,
            "object_position": null,
            "object_fit": null,
            "grid_auto_columns": null,
            "margin": null,
            "display": null,
            "left": null
          }
        },
        "bb3ac926d87b494192469e7514aba02c": {
          "model_module": "@jupyter-widgets/controls",
          "model_name": "FloatProgressModel",
          "model_module_version": "1.5.0",
          "state": {
            "_view_name": "ProgressView",
            "style": "IPY_MODEL_5d7d0b5dcf7e42dca417a22f0681db61",
            "_dom_classes": [],
            "description": "100%",
            "_model_name": "FloatProgressModel",
            "bar_style": "success",
            "max": 15000,
            "_view_module": "@jupyter-widgets/controls",
            "_model_module_version": "1.5.0",
            "value": 15000,
            "_view_count": null,
            "_view_module_version": "1.5.0",
            "orientation": "horizontal",
            "min": 0,
            "description_tooltip": null,
            "_model_module": "@jupyter-widgets/controls",
            "layout": "IPY_MODEL_e35fd23b4cf64765b6f7312b4d0f0cba"
          }
        },
        "73251bea349f4c889a9c13d6f2e76356": {
          "model_module": "@jupyter-widgets/controls",
          "model_name": "HTMLModel",
          "model_module_version": "1.5.0",
          "state": {
            "_view_name": "HTMLView",
            "style": "IPY_MODEL_e0e151316c454e27b3174525101a42b5",
            "_dom_classes": [],
            "description": "",
            "_model_name": "HTMLModel",
            "placeholder": "​",
            "_view_module": "@jupyter-widgets/controls",
            "_model_module_version": "1.5.0",
            "value": " 15000/15000 [03:27&lt;00:00, 72.35it/s]",
            "_view_count": null,
            "_view_module_version": "1.5.0",
            "description_tooltip": null,
            "_model_module": "@jupyter-widgets/controls",
            "layout": "IPY_MODEL_d80b0cf4ae9d45c5b3a12b181d8623c9"
          }
        },
        "5d7d0b5dcf7e42dca417a22f0681db61": {
          "model_module": "@jupyter-widgets/controls",
          "model_name": "ProgressStyleModel",
          "model_module_version": "1.5.0",
          "state": {
            "_view_name": "StyleView",
            "_model_name": "ProgressStyleModel",
            "description_width": "initial",
            "_view_module": "@jupyter-widgets/base",
            "_model_module_version": "1.5.0",
            "_view_count": null,
            "_view_module_version": "1.2.0",
            "bar_color": null,
            "_model_module": "@jupyter-widgets/controls"
          }
        },
        "e35fd23b4cf64765b6f7312b4d0f0cba": {
          "model_module": "@jupyter-widgets/base",
          "model_name": "LayoutModel",
          "model_module_version": "1.2.0",
          "state": {
            "_view_name": "LayoutView",
            "grid_template_rows": null,
            "right": null,
            "justify_content": null,
            "_view_module": "@jupyter-widgets/base",
            "overflow": null,
            "_model_module_version": "1.2.0",
            "_view_count": null,
            "flex_flow": null,
            "width": null,
            "min_width": null,
            "border": null,
            "align_items": null,
            "bottom": null,
            "_model_module": "@jupyter-widgets/base",
            "top": null,
            "grid_column": null,
            "overflow_y": null,
            "overflow_x": null,
            "grid_auto_flow": null,
            "grid_area": null,
            "grid_template_columns": null,
            "flex": null,
            "_model_name": "LayoutModel",
            "justify_items": null,
            "grid_row": null,
            "max_height": null,
            "align_content": null,
            "visibility": null,
            "align_self": null,
            "height": null,
            "min_height": null,
            "padding": null,
            "grid_auto_rows": null,
            "grid_gap": null,
            "max_width": null,
            "order": null,
            "_view_module_version": "1.2.0",
            "grid_template_areas": null,
            "object_position": null,
            "object_fit": null,
            "grid_auto_columns": null,
            "margin": null,
            "display": null,
            "left": null
          }
        },
        "e0e151316c454e27b3174525101a42b5": {
          "model_module": "@jupyter-widgets/controls",
          "model_name": "DescriptionStyleModel",
          "model_module_version": "1.5.0",
          "state": {
            "_view_name": "StyleView",
            "_model_name": "DescriptionStyleModel",
            "description_width": "",
            "_view_module": "@jupyter-widgets/base",
            "_model_module_version": "1.5.0",
            "_view_count": null,
            "_view_module_version": "1.2.0",
            "_model_module": "@jupyter-widgets/controls"
          }
        },
        "d80b0cf4ae9d45c5b3a12b181d8623c9": {
          "model_module": "@jupyter-widgets/base",
          "model_name": "LayoutModel",
          "model_module_version": "1.2.0",
          "state": {
            "_view_name": "LayoutView",
            "grid_template_rows": null,
            "right": null,
            "justify_content": null,
            "_view_module": "@jupyter-widgets/base",
            "overflow": null,
            "_model_module_version": "1.2.0",
            "_view_count": null,
            "flex_flow": null,
            "width": null,
            "min_width": null,
            "border": null,
            "align_items": null,
            "bottom": null,
            "_model_module": "@jupyter-widgets/base",
            "top": null,
            "grid_column": null,
            "overflow_y": null,
            "overflow_x": null,
            "grid_auto_flow": null,
            "grid_area": null,
            "grid_template_columns": null,
            "flex": null,
            "_model_name": "LayoutModel",
            "justify_items": null,
            "grid_row": null,
            "max_height": null,
            "align_content": null,
            "visibility": null,
            "align_self": null,
            "height": null,
            "min_height": null,
            "padding": null,
            "grid_auto_rows": null,
            "grid_gap": null,
            "max_width": null,
            "order": null,
            "_view_module_version": "1.2.0",
            "grid_template_areas": null,
            "object_position": null,
            "object_fit": null,
            "grid_auto_columns": null,
            "margin": null,
            "display": null,
            "left": null
          }
        }
      }
    }
  },
  "cells": [
    {
      "cell_type": "markdown",
      "metadata": {
        "id": "view-in-github",
        "colab_type": "text"
      },
      "source": [
        "<a href=\"https://colab.research.google.com/github/PWhiddy/jax-experiments/blob/main/nn_from_scratchV2.ipynb\" target=\"_parent\"><img src=\"https://colab.research.google.com/assets/colab-badge.svg\" alt=\"Open In Colab\"/></a>"
      ]
    },
    {
      "cell_type": "code",
      "metadata": {
        "id": "dhv82JlgPdqX"
      },
      "source": [
        "import jax\n",
        "import jax.numpy as jnp"
      ],
      "execution_count": null,
      "outputs": []
    },
    {
      "cell_type": "code",
      "metadata": {
        "id": "fCu6hcm-yPKd"
      },
      "source": [
        "from jax import value_and_grad\n",
        "from jax import jit"
      ],
      "execution_count": null,
      "outputs": []
    },
    {
      "cell_type": "code",
      "metadata": {
        "colab": {
          "base_uri": "https://localhost:8080/"
        },
        "id": "U1oxzHP6RVav",
        "outputId": "cab7763c-19cd-4b07-d38f-4a1a7d11f2bd"
      },
      "source": [
        "jax.device_count()"
      ],
      "execution_count": null,
      "outputs": [
        {
          "output_type": "stream",
          "text": [
            "WARNING:absl:No GPU/TPU found, falling back to CPU. (Set TF_CPP_MIN_LOG_LEVEL=0 and rerun for more info.)\n"
          ],
          "name": "stderr"
        },
        {
          "output_type": "execute_result",
          "data": {
            "text/plain": [
              "1"
            ]
          },
          "metadata": {
            "tags": []
          },
          "execution_count": 3
        }
      ]
    },
    {
      "cell_type": "code",
      "metadata": {
        "colab": {
          "base_uri": "https://localhost:8080/"
        },
        "id": "xtx-FzzbUmz8",
        "outputId": "8482d952-d13a-4257-8fe2-33cd1a25dd6f"
      },
      "source": [
        "jax.devices()"
      ],
      "execution_count": null,
      "outputs": [
        {
          "output_type": "execute_result",
          "data": {
            "text/plain": [
              "[<jaxlib.xla_extension.Device at 0x7f5f666f1670>]"
            ]
          },
          "metadata": {
            "tags": []
          },
          "execution_count": 4
        }
      ]
    },
    {
      "cell_type": "code",
      "metadata": {
        "id": "08W-NOmhxssI"
      },
      "source": [
        "#from jax import random\n",
        "#key = random.PRNGKey(0)\n",
        "from numpy import random"
      ],
      "execution_count": null,
      "outputs": []
    },
    {
      "cell_type": "code",
      "metadata": {
        "id": "AbuZXIFqATdZ"
      },
      "source": [
        "import matplotlib.pyplot as plt"
      ],
      "execution_count": null,
      "outputs": []
    },
    {
      "cell_type": "code",
      "metadata": {
        "id": "nHW31hL4Zukn"
      },
      "source": [
        "from tqdm.notebook import tqdm"
      ],
      "execution_count": null,
      "outputs": []
    },
    {
      "cell_type": "code",
      "metadata": {
        "id": "-J79ZrxGPjRT"
      },
      "source": [
        "#dir(jnp.zeros(5).device())"
      ],
      "execution_count": null,
      "outputs": []
    },
    {
      "cell_type": "code",
      "metadata": {
        "colab": {
          "base_uri": "https://localhost:8080/",
          "height": 35
        },
        "id": "vqfgYHfNPl5u",
        "outputId": "eaa23ad3-10ee-41a3-eb8b-dce169a2560d"
      },
      "source": [
        "jnp.zeros(5).device().device_kind"
      ],
      "execution_count": null,
      "outputs": [
        {
          "output_type": "execute_result",
          "data": {
            "application/vnd.google.colaboratory.intrinsic+json": {
              "type": "string"
            },
            "text/plain": [
              "'cpu'"
            ]
          },
          "metadata": {
            "tags": []
          },
          "execution_count": 9
        }
      ]
    },
    {
      "cell_type": "code",
      "metadata": {
        "id": "WTpoYr0UP87B",
        "cellView": "form"
      },
      "source": [
        "#@title\n",
        "# from https://github.com/google/jax/blob/main/examples/datasets.py\n",
        "\n",
        "import array\n",
        "import gzip\n",
        "import os\n",
        "from os import path\n",
        "import struct\n",
        "import urllib.request\n",
        "\n",
        "import numpy as np\n",
        "\n",
        "\n",
        "_DATA = \"/tmp/jax_example_data/\"\n",
        "\n",
        "\n",
        "def _download(url, filename):\n",
        "  \"\"\"Download a url to a file in the JAX data temp directory.\"\"\"\n",
        "  if not path.exists(_DATA):\n",
        "    os.makedirs(_DATA)\n",
        "  out_file = path.join(_DATA, filename)\n",
        "  if not path.isfile(out_file):\n",
        "    urllib.request.urlretrieve(url, out_file)\n",
        "    print(\"downloaded {} to {}\".format(url, _DATA))\n",
        "\n",
        "\n",
        "def _partial_flatten(x):\n",
        "  \"\"\"Flatten all but the first dimension of an ndarray.\"\"\"\n",
        "  return np.reshape(x, (x.shape[0], -1))\n",
        "\n",
        "\n",
        "def _one_hot(x, k, dtype=np.float32):\n",
        "  \"\"\"Create a one-hot encoding of x of size k.\"\"\"\n",
        "  return np.array(x[:, None] == np.arange(k), dtype)\n",
        "\n",
        "\n",
        "def mnist_raw():\n",
        "  \"\"\"Download and parse the raw MNIST dataset.\"\"\"\n",
        "  # CVDF mirror of http://yann.lecun.com/exdb/mnist/\n",
        "  base_url = \"https://storage.googleapis.com/cvdf-datasets/mnist/\"\n",
        "\n",
        "  def parse_labels(filename):\n",
        "    with gzip.open(filename, \"rb\") as fh:\n",
        "      _ = struct.unpack(\">II\", fh.read(8))\n",
        "      return np.array(array.array(\"B\", fh.read()), dtype=np.uint8)\n",
        "\n",
        "  def parse_images(filename):\n",
        "    with gzip.open(filename, \"rb\") as fh:\n",
        "      _, num_data, rows, cols = struct.unpack(\">IIII\", fh.read(16))\n",
        "      return np.array(array.array(\"B\", fh.read()),\n",
        "                      dtype=np.uint8).reshape(num_data, rows, cols)\n",
        "\n",
        "  for filename in [\"train-images-idx3-ubyte.gz\", \"train-labels-idx1-ubyte.gz\",\n",
        "                   \"t10k-images-idx3-ubyte.gz\", \"t10k-labels-idx1-ubyte.gz\"]:\n",
        "    _download(base_url + filename, filename)\n",
        "\n",
        "  train_images = parse_images(path.join(_DATA, \"train-images-idx3-ubyte.gz\"))\n",
        "  train_labels = parse_labels(path.join(_DATA, \"train-labels-idx1-ubyte.gz\"))\n",
        "  test_images = parse_images(path.join(_DATA, \"t10k-images-idx3-ubyte.gz\"))\n",
        "  test_labels = parse_labels(path.join(_DATA, \"t10k-labels-idx1-ubyte.gz\"))\n",
        "\n",
        "  return train_images, train_labels, test_images, test_labels\n",
        "\n",
        "\n",
        "def mnist(permute_train=False):\n",
        "  \"\"\"Download, parse and process MNIST data to unit scale and one-hot labels.\"\"\"\n",
        "  train_images, train_labels, test_images, test_labels = mnist_raw()\n",
        "\n",
        "  train_images = _partial_flatten(train_images) / np.float32(255.)\n",
        "  test_images = _partial_flatten(test_images) / np.float32(255.)\n",
        "  train_labels = _one_hot(train_labels, 10)\n",
        "  test_labels = _one_hot(test_labels, 10)\n",
        "\n",
        "  if permute_train:\n",
        "    perm = np.random.RandomState(0).permutation(train_images.shape[0])\n",
        "    train_images = train_images[perm]\n",
        "    train_labels = train_labels[perm]\n",
        "\n",
        "  return {'train_img': train_images, 'train_lab': train_labels, 'test_img': test_images, 'test_lab': test_labels}"
      ],
      "execution_count": null,
      "outputs": []
    },
    {
      "cell_type": "code",
      "metadata": {
        "colab": {
          "base_uri": "https://localhost:8080/"
        },
        "id": "_vDtvA3sto4h",
        "outputId": "7025929f-38ef-4fef-81e6-e26f5c943a44"
      },
      "source": [
        "mnist_dat = mnist()"
      ],
      "execution_count": null,
      "outputs": [
        {
          "output_type": "stream",
          "text": [
            "downloaded https://storage.googleapis.com/cvdf-datasets/mnist/train-images-idx3-ubyte.gz to /tmp/jax_example_data/\n",
            "downloaded https://storage.googleapis.com/cvdf-datasets/mnist/train-labels-idx1-ubyte.gz to /tmp/jax_example_data/\n",
            "downloaded https://storage.googleapis.com/cvdf-datasets/mnist/t10k-images-idx3-ubyte.gz to /tmp/jax_example_data/\n",
            "downloaded https://storage.googleapis.com/cvdf-datasets/mnist/t10k-labels-idx1-ubyte.gz to /tmp/jax_example_data/\n"
          ],
          "name": "stdout"
        }
      ]
    },
    {
      "cell_type": "code",
      "metadata": {
        "colab": {
          "base_uri": "https://localhost:8080/"
        },
        "id": "HKy1zGVRtrMb",
        "outputId": "581bb7cd-be61-4008-8d75-a777e25ddca9"
      },
      "source": [
        "mnist_dat['train_img'][0].shape"
      ],
      "execution_count": null,
      "outputs": [
        {
          "output_type": "execute_result",
          "data": {
            "text/plain": [
              "(784,)"
            ]
          },
          "metadata": {
            "tags": []
          },
          "execution_count": 12
        }
      ]
    },
    {
      "cell_type": "code",
      "metadata": {
        "id": "QS0sgwGFtxuj"
      },
      "source": [
        "import matplotlib.pyplot as plt"
      ],
      "execution_count": null,
      "outputs": []
    },
    {
      "cell_type": "code",
      "metadata": {
        "id": "LHYz0I6ouH93"
      },
      "source": [
        "def show_img(img):\n",
        "  plt.imshow(img.reshape(28,28))"
      ],
      "execution_count": null,
      "outputs": []
    },
    {
      "cell_type": "code",
      "metadata": {
        "colab": {
          "base_uri": "https://localhost:8080/",
          "height": 282
        },
        "id": "zWbWIhFhuZYI",
        "outputId": "0934af3a-f7f1-4e40-e9ef-c6025e344bf4"
      },
      "source": [
        "demo_idx = 38\n",
        "demo_img = mnist_dat['train_img'][demo_idx]\n",
        "show_img(demo_img)\n",
        "print(jnp.argmax(mnist_dat['train_lab'][demo_idx]))"
      ],
      "execution_count": null,
      "outputs": [
        {
          "output_type": "stream",
          "text": [
            "7\n"
          ],
          "name": "stdout"
        },
        {
          "output_type": "display_data",
          "data": {
            "image/png": "[encoded data removed]",
            "text/plain": [
              "<Figure size 432x288 with 1 Axes>"
            ]
          },
          "metadata": {
            "tags": [],
            "needs_background": "light"
          }
        }
      ]
    },
    {
      "cell_type": "code",
      "metadata": {
        "id": "vSOXpltHekRp"
      },
      "source": [
        "#jnp.argmax(model_init_predict(demo_img))"
      ],
      "execution_count": null,
      "outputs": []
    },
    {
      "cell_type": "code",
      "metadata": {
        "id": "KcWIvriHubuy"
      },
      "source": [
        "def model_random_predict(img):\n",
        "  return int(random.random()*10)"
      ],
      "execution_count": null,
      "outputs": []
    },
    {
      "cell_type": "code",
      "metadata": {
        "colab": {
          "base_uri": "https://localhost:8080/"
        },
        "id": "hAIf554rw9D4",
        "outputId": "dadfc06e-5bd4-4c42-bd35-0563a57aebb3"
      },
      "source": [
        "model_random_predict('test')"
      ],
      "execution_count": null,
      "outputs": [
        {
          "output_type": "execute_result",
          "data": {
            "text/plain": [
              "9"
            ]
          },
          "metadata": {
            "tags": []
          },
          "execution_count": 18
        }
      ]
    },
    {
      "cell_type": "code",
      "metadata": {
        "id": "SfTHchR5xBpc"
      },
      "source": [
        "def evaluate(pred_func, max=2000, progress_func=lambda x: x):\n",
        "  correct = 0\n",
        "  incorrect = 0\n",
        "  count = 0\n",
        "\n",
        "  for train_img, train_lab in progress_func(zip(mnist_dat['test_img'][:max], mnist_dat['test_lab'][:max])):\n",
        "    pred = pred_func(train_img)\n",
        "    if jnp.argmax(pred) == jnp.argmax(train_lab):\n",
        "      correct += 1\n",
        "    else:\n",
        "      incorrect += 1\n",
        "    count += 1\n",
        "    final_stats = {'correct': correct, 'total': count, 'accuracy': correct/count}\n",
        "    #tqdm.write(str(final_stats))\n",
        "\n",
        "  return final_stats"
      ],
      "execution_count": null,
      "outputs": []
    },
    {
      "cell_type": "code",
      "metadata": {
        "colab": {
          "base_uri": "https://localhost:8080/"
        },
        "id": "SLij39UR0e3b",
        "outputId": "d6dc1e24-3c4a-48c8-fe89-bbe17c35fcf1"
      },
      "source": [
        "evaluate(model_random_predict)"
      ],
      "execution_count": null,
      "outputs": [
        {
          "output_type": "execute_result",
          "data": {
            "text/plain": [
              "{'accuracy': 0.0875, 'correct': 175, 'total': 2000}"
            ]
          },
          "metadata": {
            "tags": []
          },
          "execution_count": 20
        }
      ]
    },
    {
      "cell_type": "code",
      "metadata": {
        "id": "v11I6zh514sw"
      },
      "source": [
        "class NNModel:\n",
        "\n",
        "  def __init__(self, input_size, hidden_size, out_size, ce_loss=False, use_mom=False):\n",
        "\n",
        "    self.input_size = input_size\n",
        "    self.hidden_size = hidden_size\n",
        "    self.out_size = out_size\n",
        "\n",
        "    self.cross_entropy_loss = ce_loss\n",
        "    self.momentum = use_mom\n",
        "\n",
        "    # use normed initialization?\n",
        "    self.weights_l1 = jnp.array(random.normal(size=(input_size, hidden_size))) / jnp.sqrt(hidden_size)\n",
        "    self.w1_m = jnp.zeros_like(self.weights_l1)\n",
        "    self.weights_l2 = jnp.array(random.normal(size=(hidden_size, out_size))) / jnp.sqrt(out_size)\n",
        "    self.w2_m = jnp.zeros_like(self.weights_l2)\n",
        "    self.bias_l1 = jnp.array(random.normal(size=(hidden_size,)))\n",
        "    self.b1_m = jnp.zeros_like(self.bias_l1)\n",
        "    self.bias_l2 = jnp.array(random.normal(size=(out_size,)))\n",
        "    self.b2_m = jnp.zeros_like(self.bias_l2)\n",
        "\n",
        "    @jit\n",
        "    def forward_single(weights_l1, weights_l2, bias_l1, bias_l2, img):\n",
        "      # matrix mult, bias, relu activation\n",
        "      hidden = jnp.maximum(img @ weights_l1 + bias_l1, 0.0)\n",
        "      out_raw = hidden @ weights_l2 + bias_l2\n",
        "      # softmax to probability distribution\n",
        "      out_exp = jnp.e ** out_raw\n",
        "      out_probs = out_exp / out_exp.sum()\n",
        "      return out_probs\n",
        "\n",
        "    @jit\n",
        "    def loss(w1, w2, b1, b2, img, lab):\n",
        "      preds = forward_single(w1, w2, b1, b2, img)\n",
        "      #print(preds)\n",
        "      #print(lab)\n",
        "      if self.cross_entropy_loss:\n",
        "        idx = jnp.argmax(lab)\n",
        "        return -jnp.log(preds[idx])\n",
        "      else:\n",
        "        diffs = (preds-lab) ** 2\n",
        "        return diffs.mean()\n",
        "\n",
        "    self.grad_f = value_and_grad(loss, argnums=[0,1,2,3])\n",
        "    self.forward_single = lambda img: forward_single(\n",
        "        self.weights_l1, self.weights_l2, \n",
        "        self.bias_l1, self.bias_l2, img)\n",
        "\n",
        "  def grad_func(self, img, lab): \n",
        "    return self.grad_f(\n",
        "        self.weights_l1, \n",
        "        self.weights_l2, \n",
        "        self.bias_l1, \n",
        "        self.bias_l2, \n",
        "        img, lab)\n",
        "\n",
        "  def forward_batched(self, imgs):\n",
        "    #hidden = jnp.maximum(imgs @ self.weights_l1 + self.bias_l1, 0.0)\n",
        "    #out_raw = \n",
        "    pass\n",
        "\n",
        "  def update(self, img, lab, lr_a, lr_b):\n",
        "    loss, grads = self.grad_func(img, lab)\n",
        "    w1_d, w2_d, b1_d, b2_d = grads\n",
        "    if self.momentum:\n",
        "      # update momentum\n",
        "      self.w1_m = lr_b * self.w1_m + w1_d * (1-lr_b)\n",
        "      self.w2_m = lr_b * self.w2_m + w2_d * (1-lr_b)\n",
        "      self.b1_m = lr_b * self.b1_m + b1_d * (1-lr_b)\n",
        "      self.b2_m = lr_b * self.b2_m + b2_d * (1-lr_b)\n",
        "      # update parameters\n",
        "      self.weights_l1 -= self.w1_m * lr_a\n",
        "      self.weights_l2 -= self.w2_m * lr_a\n",
        "      self.bias_l1 -= self.b1_m * lr_a\n",
        "      self.bias_l2 -= self.b2_m * lr_a\n",
        "    else:\n",
        "      # update parameters\n",
        "      self.weights_l1 -= w1_d * lr_a #self.w1_m * lr_b\n",
        "      self.weights_l2 -= w2_d * lr_a #self.w2_m * lr_b\n",
        "      self.bias_l1 -= b1_d * lr_a #self.b1_m * lr_b\n",
        "      self.bias_l2 -= b2_d * lr_a #self.b2_m * lr_b\n",
        "    return loss\n"
      ],
      "execution_count": null,
      "outputs": []
    },
    {
      "cell_type": "code",
      "metadata": {
        "id": "2FmdwqOo5PD_"
      },
      "source": [
        "def create_fresh_mnist_model(hidden_size=256, use_momentum=False, use_ce_loss=False):\n",
        "  return NNModel(\n",
        "      mnist_dat['train_img'][0].shape[0], hidden_size, mnist_dat['train_lab'][0].shape[0],\n",
        "      ce_loss=use_ce_loss, use_mom=use_momentum)"
      ],
      "execution_count": null,
      "outputs": []
    },
    {
      "cell_type": "code",
      "metadata": {
        "id": "qYwAR-U-GL6A"
      },
      "source": [
        "model = create_fresh_mnist_model()"
      ],
      "execution_count": null,
      "outputs": []
    },
    {
      "cell_type": "code",
      "metadata": {
        "id": "7C4BWJRWyi_i"
      },
      "source": [
        "loss, grd = model.grad_func(mnist_dat['train_img'][demo_idx], mnist_dat['train_lab'][demo_idx])"
      ],
      "execution_count": null,
      "outputs": []
    },
    {
      "cell_type": "code",
      "metadata": {
        "colab": {
          "base_uri": "https://localhost:8080/"
        },
        "id": "P4QIEJzRpUlz",
        "outputId": "41e5d18e-a725-4aea-9af7-7540ec48fbfc"
      },
      "source": [
        "for x in grd:\n",
        "  print(x.shape)"
      ],
      "execution_count": null,
      "outputs": [
        {
          "output_type": "stream",
          "text": [
            "(784, 256)\n",
            "(256, 10)\n",
            "(256,)\n",
            "(10,)\n"
          ],
          "name": "stdout"
        }
      ]
    },
    {
      "cell_type": "code",
      "metadata": {
        "colab": {
          "base_uri": "https://localhost:8080/"
        },
        "id": "iIM0KO86wFZ9",
        "outputId": "6abda0c3-50c5-4d1f-8407-06dcfb286552"
      },
      "source": [
        "len(mnist_dat['train_img'])"
      ],
      "execution_count": null,
      "outputs": [
        {
          "output_type": "execute_result",
          "data": {
            "text/plain": [
              "60000"
            ]
          },
          "metadata": {
            "tags": []
          },
          "execution_count": 26
        }
      ]
    },
    {
      "cell_type": "code",
      "metadata": {
        "id": "IA9XIutj7Gyh"
      },
      "source": [
        "def test_train_performance(train_its, test_interval, test_its, hidden_size=256, use_momentum=False, use_ce_loss=False, alpha=0.005, beta=0.9):\n",
        "  mod = create_fresh_mnist_model(hidden_size=hidden_size, use_momentum=use_momentum, use_ce_loss=use_ce_loss)\n",
        "  accs = []\n",
        "  for i in tqdm(range(train_its)):\n",
        "    loss = mod.update(mnist_dat['train_img'][i], mnist_dat['train_lab'][i], alpha, beta)\n",
        "    if i % test_interval == 0:\n",
        "      accs.append(evaluate(mod.forward_single, max=test_its))\n",
        "  return {\n",
        "      'stats': accs, \n",
        "      'train_its': train_its, 'test_interval': test_interval, \n",
        "      'test_its': test_its, 'hidden_size': hidden_size, \n",
        "      'use_momentum': use_momentum, 'use_ce_loss': use_ce_loss, \n",
        "      'alpha': alpha, 'beta': beta }"
      ],
      "execution_count": null,
      "outputs": []
    },
    {
      "cell_type": "code",
      "metadata": {
        "id": "vWLi5hup7kIv"
      },
      "source": [
        "experiments = {}"
      ],
      "execution_count": null,
      "outputs": []
    },
    {
      "cell_type": "code",
      "metadata": {
        "colab": {
          "base_uri": "https://localhost:8080/",
          "height": 115,
          "referenced_widgets": [
            "1bb97e1d1a6444228784378b69d8f9a6",
            "2fb658470ea24c06997038a00fdc316a",
            "e6690297c8e04fbd8a78036caaf0ef6e",
            "6f24e360c4784f8486e036a9cdbf76fb",
            "18f027d0f4f14032884a8e0534d942b7",
            "af41b7dfa81f43da812ad9e66a6a2d93",
            "b304982b8ead44259fb570710671c358",
            "ce4bf31a8ef34446a687f7bb361d49f6",
            "ef5df7ceeb9146929f8cfb6c54b0eaf4",
            "6ffb1d8c986f47a4ad8b42156c7a1066",
            "207c5cefa441448d82bf1e1777d24301",
            "ac08f74988754a7683a24c06b5aa22a1",
            "b9239b3da58f4fba97d9e9c87cc82435",
            "bd764cc14d154a91af219acea4dfe916",
            "ee540856ea034e9e9b5050dfb6ee8300",
            "71996770bfd64eca9396382859721b8b"
          ]
        },
        "id": "69hm7EVJ-pa6",
        "outputId": "66fe340f-ea7c-44a6-caf9-1e5ed230e2c0"
      },
      "source": [
        "\n",
        "#experiments['lr_0.005'] = test_train_performance(5000, 500, 200, alpha=0.005)\n",
        "#experiments['lr_0.015'] = test_train_performance(5000, 500, 200, alpha=0.015)\n",
        "experiments['lr_0.05'] = test_train_performance(15000, 500, 200, alpha=0.05)\n",
        "#experiments['lr_0.1'] = test_train_performance(5000, 500, 200, alpha=0.1)\n",
        "experiments['lr_0.05_momentum'] = test_train_performance(15000, 500, 200, use_momentum=True, alpha=0.05, beta=0.9)"
      ],
      "execution_count": null,
      "outputs": [
        {
          "output_type": "display_data",
          "data": {
            "application/vnd.jupyter.widget-view+json": {
              "model_id": "1bb97e1d1a6444228784378b69d8f9a6",
              "version_minor": 0,
              "version_major": 2
            },
            "text/plain": [
              "HBox(children=(FloatProgress(value=0.0, max=15000.0), HTML(value='')))"
            ]
          },
          "metadata": {
            "tags": []
          }
        },
        {
          "output_type": "stream",
          "text": [
            "\n"
          ],
          "name": "stdout"
        },
        {
          "output_type": "display_data",
          "data": {
            "application/vnd.jupyter.widget-view+json": {
              "model_id": "ef5df7ceeb9146929f8cfb6c54b0eaf4",
              "version_minor": 0,
              "version_major": 2
            },
            "text/plain": [
              "HBox(children=(FloatProgress(value=0.0, max=15000.0), HTML(value='')))"
            ]
          },
          "metadata": {
            "tags": []
          }
        },
        {
          "output_type": "stream",
          "text": [
            "\n"
          ],
          "name": "stdout"
        }
      ]
    },
    {
      "cell_type": "code",
      "metadata": {
        "colab": {
          "base_uri": "https://localhost:8080/",
          "height": 115,
          "referenced_widgets": [
            "368f8e5d427f4f73b3b8def3a5243534",
            "f71f1fc45a6f44fab781b8244a4fd8e3",
            "b2be85fd9aee42bc9defba0d123d24ba",
            "9bb614089857453d8d7bdf10942cd7a8",
            "c4a0d90f1f304af88829d8dd742b36ed",
            "def10e601885436e928bf3168b103eab",
            "992808ae29d648309a43eaf244e561b2",
            "1c02f9c019824445a1fbf832dd1e8eb7",
            "e55d405e37644435b105ccd63443b5ad",
            "6b0194c28e624a8387b7787fdfae1761",
            "7374f6cfc0624265903d93b02396c5d6",
            "99e326cb9a364b4590e00a53892da149",
            "80666101c0694b2b9c43f1b90897e44b",
            "208a08fa43574ba3a5d9307f02d7ccdb",
            "e83ad1924ba34e27bda47536a04bd237",
            "f5169f6a91414505911afcf842439f2d"
          ]
        },
        "id": "MVDH92Yt7lR1",
        "outputId": "20dc0821-3048-41fc-c092-129fde699eb0"
      },
      "source": [
        "experiments['lr_0.05_ce_loss'] = test_train_performance(15000, 500, 200, use_ce_loss=True, alpha=0.05)\n",
        "experiments['lr_0.05_ce_loss_momentum'] = test_train_performance(15000, 500, 200, use_ce_loss=True, use_momentum=True, alpha=0.05, beta=0.9)\n",
        "\n"
      ],
      "execution_count": null,
      "outputs": [
        {
          "output_type": "display_data",
          "data": {
            "application/vnd.jupyter.widget-view+json": {
              "model_id": "368f8e5d427f4f73b3b8def3a5243534",
              "version_minor": 0,
              "version_major": 2
            },
            "text/plain": [
              "HBox(children=(FloatProgress(value=0.0, max=15000.0), HTML(value='')))"
            ]
          },
          "metadata": {
            "tags": []
          }
        },
        {
          "output_type": "stream",
          "text": [
            "\n"
          ],
          "name": "stdout"
        },
        {
          "output_type": "display_data",
          "data": {
            "application/vnd.jupyter.widget-view+json": {
              "model_id": "e55d405e37644435b105ccd63443b5ad",
              "version_minor": 0,
              "version_major": 2
            },
            "text/plain": [
              "HBox(children=(FloatProgress(value=0.0, max=15000.0), HTML(value='')))"
            ]
          },
          "metadata": {
            "tags": []
          }
        },
        {
          "output_type": "stream",
          "text": [
            "\n"
          ],
          "name": "stdout"
        }
      ]
    },
    {
      "cell_type": "code",
      "metadata": {
        "colab": {
          "base_uri": "https://localhost:8080/",
          "height": 66,
          "referenced_widgets": [
            "584b4910a1e44bb79abbc30209795579",
            "bd2c4fc81b894cb0bb5e51ff2fbeb1d2",
            "70658b81c28e4ebdafd8090122ce9f94",
            "a54696e664a745e0a7fe95c500cc7e99",
            "1b477bb4f39e46edab0403b271bd6039",
            "1a2772b851f1440baba3f749a68f3fc4",
            "0154e52ead27452697d5eeb7d5b7db73",
            "b74b00e2ccb645558177471be7c64609"
          ]
        },
        "id": "Jodhx12O-fbo",
        "outputId": "e374fb47-9e8a-431e-c983-60979e23e788"
      },
      "source": [
        "experiments['lr_0.005_ce_loss_momentum'] = test_train_performance(15000, 500, 200, use_ce_loss=True, use_momentum=True, alpha=0.005, beta=0.9)\n"
      ],
      "execution_count": null,
      "outputs": [
        {
          "output_type": "display_data",
          "data": {
            "application/vnd.jupyter.widget-view+json": {
              "model_id": "584b4910a1e44bb79abbc30209795579",
              "version_minor": 0,
              "version_major": 2
            },
            "text/plain": [
              "HBox(children=(FloatProgress(value=0.0, max=15000.0), HTML(value='')))"
            ]
          },
          "metadata": {
            "tags": []
          }
        },
        {
          "output_type": "stream",
          "text": [
            "\n"
          ],
          "name": "stdout"
        }
      ]
    },
    {
      "cell_type": "code",
      "metadata": {
        "colab": {
          "base_uri": "https://localhost:8080/",
          "height": 115,
          "referenced_widgets": [
            "902dc0ea3c314806b032f0fb4f353644",
            "b1d8aba9be744a4bb3de019efe127346",
            "807bc3d3fee24073b9dc782e8b66d14b",
            "dc92cb2276ff491190121bfcc0b317aa",
            "388cad09f7b4408baac06d0fb5375e40",
            "f48d02bf26e340c09cb9a58cd9c3ab79",
            "2d4208b076704097b5078840a5ff5ef3",
            "50d755035b294175b7e4c47cfe60f45c",
            "fc2fb6721a5743ff8e377d91f2239ad9",
            "6b82c63697e642fbb5df38e2fe40e78e",
            "bb3ac926d87b494192469e7514aba02c",
            "73251bea349f4c889a9c13d6f2e76356",
            "5d7d0b5dcf7e42dca417a22f0681db61",
            "e35fd23b4cf64765b6f7312b4d0f0cba",
            "e0e151316c454e27b3174525101a42b5",
            "d80b0cf4ae9d45c5b3a12b181d8623c9"
          ]
        },
        "id": "eauQEnLp_bJG",
        "outputId": "014ac6a2-81e7-4f13-8f16-ef5e4b8c751f"
      },
      "source": [
        "experiments['lr_0.002_ce_loss_momentum'] = test_train_performance(15000, 500, 200, use_ce_loss=True, use_momentum=True, alpha=0.002, beta=0.9)\n",
        "experiments['lr_0.002_momentum'] = test_train_performance(15000, 500, 200, use_momentum=True, alpha=0.002, beta=0.9)\n"
      ],
      "execution_count": null,
      "outputs": [
        {
          "output_type": "display_data",
          "data": {
            "application/vnd.jupyter.widget-view+json": {
              "model_id": "902dc0ea3c314806b032f0fb4f353644",
              "version_minor": 0,
              "version_major": 2
            },
            "text/plain": [
              "HBox(children=(FloatProgress(value=0.0, max=15000.0), HTML(value='')))"
            ]
          },
          "metadata": {
            "tags": []
          }
        },
        {
          "output_type": "stream",
          "text": [
            "\n"
          ],
          "name": "stdout"
        },
        {
          "output_type": "display_data",
          "data": {
            "application/vnd.jupyter.widget-view+json": {
              "model_id": "fc2fb6721a5743ff8e377d91f2239ad9",
              "version_minor": 0,
              "version_major": 2
            },
            "text/plain": [
              "HBox(children=(FloatProgress(value=0.0, max=15000.0), HTML(value='')))"
            ]
          },
          "metadata": {
            "tags": []
          }
        },
        {
          "output_type": "stream",
          "text": [
            "\n"
          ],
          "name": "stdout"
        }
      ]
    },
    {
      "cell_type": "code",
      "metadata": {
        "id": "2PkOGPiqSCXq",
        "colab": {
          "base_uri": "https://localhost:8080/",
          "height": 282
        },
        "outputId": "25745a72-a280-49c0-8d0e-250d98bafbe2"
      },
      "source": [
        "for name, data in experiments.items():\n",
        "  nums = [s['accuracy'] for s in data['stats']]\n",
        "  plt.plot(list(range(len(nums))), nums, label=name)\n",
        "plt.legend()"
      ],
      "execution_count": null,
      "outputs": [
        {
          "output_type": "execute_result",
          "data": {
            "text/plain": [
              "<matplotlib.legend.Legend at 0x7f5f5051a710>"
            ]
          },
          "metadata": {
            "tags": []
          },
          "execution_count": 42
        },
        {
          "output_type": "display_data",
          "data": {
            "image/png": "[encoded data removed]",
            "text/plain": [
              "<Figure size 432x288 with 1 Axes>"
            ]
          },
          "metadata": {
            "tags": [],
            "needs_background": "light"
          }
        }
      ]
    },
    {
      "cell_type": "code",
      "metadata": {
        "id": "eQwaPWKRAtQg",
        "colab": {
          "base_uri": "https://localhost:8080/"
        },
        "outputId": "4c29dc30-cd59-4a41-f27e-fd713541021c"
      },
      "source": [
        "experiments"
      ],
      "execution_count": null,
      "outputs": [
        {
          "output_type": "execute_result",
          "data": {
            "text/plain": [
              "{'lr_0.002_ce_loss_momentum': {'alpha': 0.002,\n",
              "  'beta': 0.9,\n",
              "  'hidden_size': 256,\n",
              "  'stats': [{'accuracy': 0.135, 'correct': 27, 'total': 200},\n",
              "   {'accuracy': 0.695, 'correct': 139, 'total': 200},\n",
              "   {'accuracy': 0.78, 'correct': 156, 'total': 200},\n",
              "   {'accuracy': 0.835, 'correct': 167, 'total': 200},\n",
              "   {'accuracy': 0.895, 'correct': 179, 'total': 200},\n",
              "   {'accuracy': 0.87, 'correct': 174, 'total': 200},\n",
              "   {'accuracy': 0.915, 'correct': 183, 'total': 200},\n",
              "   {'accuracy': 0.915, 'correct': 183, 'total': 200},\n",
              "   {'accuracy': 0.915, 'correct': 183, 'total': 200},\n",
              "   {'accuracy': 0.91, 'correct': 182, 'total': 200},\n",
              "   {'accuracy': 0.925, 'correct': 185, 'total': 200},\n",
              "   {'accuracy': 0.94, 'correct': 188, 'total': 200},\n",
              "   {'accuracy': 0.92, 'correct': 184, 'total': 200},\n",
              "   {'accuracy': 0.915, 'correct': 183, 'total': 200},\n",
              "   {'accuracy': 0.935, 'correct': 187, 'total': 200},\n",
              "   {'accuracy': 0.95, 'correct': 190, 'total': 200},\n",
              "   {'accuracy': 0.93, 'correct': 186, 'total': 200},\n",
              "   {'accuracy': 0.935, 'correct': 187, 'total': 200},\n",
              "   {'accuracy': 0.92, 'correct': 184, 'total': 200},\n",
              "   {'accuracy': 0.935, 'correct': 187, 'total': 200},\n",
              "   {'accuracy': 0.935, 'correct': 187, 'total': 200},\n",
              "   {'accuracy': 0.94, 'correct': 188, 'total': 200},\n",
              "   {'accuracy': 0.935, 'correct': 187, 'total': 200},\n",
              "   {'accuracy': 0.945, 'correct': 189, 'total': 200},\n",
              "   {'accuracy': 0.93, 'correct': 186, 'total': 200},\n",
              "   {'accuracy': 0.95, 'correct': 190, 'total': 200},\n",
              "   {'accuracy': 0.935, 'correct': 187, 'total': 200},\n",
              "   {'accuracy': 0.935, 'correct': 187, 'total': 200},\n",
              "   {'accuracy': 0.955, 'correct': 191, 'total': 200},\n",
              "   {'accuracy': 0.94, 'correct': 188, 'total': 200}],\n",
              "  'test_interval': 500,\n",
              "  'test_its': 200,\n",
              "  'train_its': 15000,\n",
              "  'use_ce_loss': True,\n",
              "  'use_momentum': True},\n",
              " 'lr_0.002_momentum': {'alpha': 0.002,\n",
              "  'beta': 0.9,\n",
              "  'hidden_size': 256,\n",
              "  'stats': [{'accuracy': 0.09, 'correct': 18, 'total': 200},\n",
              "   {'accuracy': 0.14, 'correct': 28, 'total': 200},\n",
              "   {'accuracy': 0.17, 'correct': 34, 'total': 200},\n",
              "   {'accuracy': 0.24, 'correct': 48, 'total': 200},\n",
              "   {'accuracy': 0.27, 'correct': 54, 'total': 200},\n",
              "   {'accuracy': 0.33, 'correct': 66, 'total': 200},\n",
              "   {'accuracy': 0.35, 'correct': 70, 'total': 200},\n",
              "   {'accuracy': 0.355, 'correct': 71, 'total': 200},\n",
              "   {'accuracy': 0.38, 'correct': 76, 'total': 200},\n",
              "   {'accuracy': 0.385, 'correct': 77, 'total': 200},\n",
              "   {'accuracy': 0.425, 'correct': 85, 'total': 200},\n",
              "   {'accuracy': 0.435, 'correct': 87, 'total': 200},\n",
              "   {'accuracy': 0.445, 'correct': 89, 'total': 200},\n",
              "   {'accuracy': 0.425, 'correct': 85, 'total': 200},\n",
              "   {'accuracy': 0.435, 'correct': 87, 'total': 200},\n",
              "   {'accuracy': 0.445, 'correct': 89, 'total': 200},\n",
              "   {'accuracy': 0.465, 'correct': 93, 'total': 200},\n",
              "   {'accuracy': 0.465, 'correct': 93, 'total': 200},\n",
              "   {'accuracy': 0.455, 'correct': 91, 'total': 200},\n",
              "   {'accuracy': 0.465, 'correct': 93, 'total': 200},\n",
              "   {'accuracy': 0.485, 'correct': 97, 'total': 200},\n",
              "   {'accuracy': 0.465, 'correct': 93, 'total': 200},\n",
              "   {'accuracy': 0.485, 'correct': 97, 'total': 200},\n",
              "   {'accuracy': 0.495, 'correct': 99, 'total': 200},\n",
              "   {'accuracy': 0.49, 'correct': 98, 'total': 200},\n",
              "   {'accuracy': 0.49, 'correct': 98, 'total': 200},\n",
              "   {'accuracy': 0.49, 'correct': 98, 'total': 200},\n",
              "   {'accuracy': 0.495, 'correct': 99, 'total': 200},\n",
              "   {'accuracy': 0.51, 'correct': 102, 'total': 200},\n",
              "   {'accuracy': 0.495, 'correct': 99, 'total': 200}],\n",
              "  'test_interval': 500,\n",
              "  'test_its': 200,\n",
              "  'train_its': 15000,\n",
              "  'use_ce_loss': False,\n",
              "  'use_momentum': True},\n",
              " 'lr_0.005_ce_loss_momentum': {'alpha': 0.005,\n",
              "  'beta': 0.9,\n",
              "  'hidden_size': 256,\n",
              "  'stats': [{'accuracy': 0.1, 'correct': 20, 'total': 200},\n",
              "   {'accuracy': 0.755, 'correct': 151, 'total': 200},\n",
              "   {'accuracy': 0.815, 'correct': 163, 'total': 200},\n",
              "   {'accuracy': 0.835, 'correct': 167, 'total': 200},\n",
              "   {'accuracy': 0.855, 'correct': 171, 'total': 200},\n",
              "   {'accuracy': 0.875, 'correct': 175, 'total': 200},\n",
              "   {'accuracy': 0.9, 'correct': 180, 'total': 200},\n",
              "   {'accuracy': 0.925, 'correct': 185, 'total': 200},\n",
              "   {'accuracy': 0.895, 'correct': 179, 'total': 200},\n",
              "   {'accuracy': 0.9, 'correct': 180, 'total': 200},\n",
              "   {'accuracy': 0.92, 'correct': 184, 'total': 200},\n",
              "   {'accuracy': 0.93, 'correct': 186, 'total': 200},\n",
              "   {'accuracy': 0.92, 'correct': 184, 'total': 200},\n",
              "   {'accuracy': 0.915, 'correct': 183, 'total': 200},\n",
              "   {'accuracy': 0.925, 'correct': 185, 'total': 200},\n",
              "   {'accuracy': 0.935, 'correct': 187, 'total': 200},\n",
              "   {'accuracy': 0.92, 'correct': 184, 'total': 200},\n",
              "   {'accuracy': 0.91, 'correct': 182, 'total': 200},\n",
              "   {'accuracy': 0.885, 'correct': 177, 'total': 200},\n",
              "   {'accuracy': 0.915, 'correct': 183, 'total': 200},\n",
              "   {'accuracy': 0.93, 'correct': 186, 'total': 200},\n",
              "   {'accuracy': 0.94, 'correct': 188, 'total': 200},\n",
              "   {'accuracy': 0.945, 'correct': 189, 'total': 200},\n",
              "   {'accuracy': 0.935, 'correct': 187, 'total': 200},\n",
              "   {'accuracy': 0.93, 'correct': 186, 'total': 200},\n",
              "   {'accuracy': 0.935, 'correct': 187, 'total': 200},\n",
              "   {'accuracy': 0.955, 'correct': 191, 'total': 200},\n",
              "   {'accuracy': 0.94, 'correct': 188, 'total': 200},\n",
              "   {'accuracy': 0.955, 'correct': 191, 'total': 200},\n",
              "   {'accuracy': 0.94, 'correct': 188, 'total': 200}],\n",
              "  'test_interval': 500,\n",
              "  'test_its': 200,\n",
              "  'train_its': 15000,\n",
              "  'use_ce_loss': True,\n",
              "  'use_momentum': True},\n",
              " 'lr_0.05': {'alpha': 0.05,\n",
              "  'beta': 0.9,\n",
              "  'hidden_size': 256,\n",
              "  'stats': [{'accuracy': 0.075, 'correct': 15, 'total': 200},\n",
              "   {'accuracy': 0.5, 'correct': 100, 'total': 200},\n",
              "   {'accuracy': 0.56, 'correct': 112, 'total': 200},\n",
              "   {'accuracy': 0.665, 'correct': 133, 'total': 200},\n",
              "   {'accuracy': 0.73, 'correct': 146, 'total': 200},\n",
              "   {'accuracy': 0.775, 'correct': 155, 'total': 200},\n",
              "   {'accuracy': 0.81, 'correct': 162, 'total': 200},\n",
              "   {'accuracy': 0.79, 'correct': 158, 'total': 200},\n",
              "   {'accuracy': 0.8, 'correct': 160, 'total': 200},\n",
              "   {'accuracy': 0.825, 'correct': 165, 'total': 200},\n",
              "   {'accuracy': 0.905, 'correct': 181, 'total': 200},\n",
              "   {'accuracy': 0.895, 'correct': 179, 'total': 200},\n",
              "   {'accuracy': 0.915, 'correct': 183, 'total': 200},\n",
              "   {'accuracy': 0.865, 'correct': 173, 'total': 200},\n",
              "   {'accuracy': 0.885, 'correct': 177, 'total': 200},\n",
              "   {'accuracy': 0.925, 'correct': 185, 'total': 200},\n",
              "   {'accuracy': 0.905, 'correct': 181, 'total': 200},\n",
              "   {'accuracy': 0.895, 'correct': 179, 'total': 200},\n",
              "   {'accuracy': 0.915, 'correct': 183, 'total': 200},\n",
              "   {'accuracy': 0.93, 'correct': 186, 'total': 200},\n",
              "   {'accuracy': 0.905, 'correct': 181, 'total': 200},\n",
              "   {'accuracy': 0.915, 'correct': 183, 'total': 200},\n",
              "   {'accuracy': 0.925, 'correct': 185, 'total': 200},\n",
              "   {'accuracy': 0.905, 'correct': 181, 'total': 200},\n",
              "   {'accuracy': 0.91, 'correct': 182, 'total': 200},\n",
              "   {'accuracy': 0.89, 'correct': 178, 'total': 200},\n",
              "   {'accuracy': 0.915, 'correct': 183, 'total': 200},\n",
              "   {'accuracy': 0.93, 'correct': 186, 'total': 200},\n",
              "   {'accuracy': 0.925, 'correct': 185, 'total': 200},\n",
              "   {'accuracy': 0.94, 'correct': 188, 'total': 200}],\n",
              "  'test_interval': 500,\n",
              "  'test_its': 200,\n",
              "  'train_its': 15000,\n",
              "  'use_ce_loss': False,\n",
              "  'use_momentum': False},\n",
              " 'lr_0.05_ce_loss': {'alpha': 0.05,\n",
              "  'beta': 0.9,\n",
              "  'hidden_size': 256,\n",
              "  'stats': [{'accuracy': 0.1, 'correct': 20, 'total': 200},\n",
              "   {'accuracy': 0.705, 'correct': 141, 'total': 200},\n",
              "   {'accuracy': 0.82, 'correct': 164, 'total': 200},\n",
              "   {'accuracy': 0.86, 'correct': 172, 'total': 200},\n",
              "   {'accuracy': 0.83, 'correct': 166, 'total': 200},\n",
              "   {'accuracy': 0.745, 'correct': 149, 'total': 200},\n",
              "   {'accuracy': 0.88, 'correct': 176, 'total': 200},\n",
              "   {'accuracy': 0.815, 'correct': 163, 'total': 200},\n",
              "   {'accuracy': 0.845, 'correct': 169, 'total': 200},\n",
              "   {'accuracy': 0.805, 'correct': 161, 'total': 200},\n",
              "   {'accuracy': 0.885, 'correct': 177, 'total': 200},\n",
              "   {'accuracy': 0.905, 'correct': 181, 'total': 200},\n",
              "   {'accuracy': 0.855, 'correct': 171, 'total': 200},\n",
              "   {'accuracy': 0.89, 'correct': 178, 'total': 200},\n",
              "   {'accuracy': 0.85, 'correct': 170, 'total': 200},\n",
              "   {'accuracy': 0.085, 'correct': 17, 'total': 200},\n",
              "   {'accuracy': 0.085, 'correct': 17, 'total': 200},\n",
              "   {'accuracy': 0.085, 'correct': 17, 'total': 200},\n",
              "   {'accuracy': 0.085, 'correct': 17, 'total': 200},\n",
              "   {'accuracy': 0.085, 'correct': 17, 'total': 200},\n",
              "   {'accuracy': 0.085, 'correct': 17, 'total': 200},\n",
              "   {'accuracy': 0.085, 'correct': 17, 'total': 200},\n",
              "   {'accuracy': 0.085, 'correct': 17, 'total': 200},\n",
              "   {'accuracy': 0.085, 'correct': 17, 'total': 200},\n",
              "   {'accuracy': 0.085, 'correct': 17, 'total': 200},\n",
              "   {'accuracy': 0.085, 'correct': 17, 'total': 200},\n",
              "   {'accuracy': 0.085, 'correct': 17, 'total': 200},\n",
              "   {'accuracy': 0.085, 'correct': 17, 'total': 200},\n",
              "   {'accuracy': 0.085, 'correct': 17, 'total': 200},\n",
              "   {'accuracy': 0.085, 'correct': 17, 'total': 200}],\n",
              "  'test_interval': 500,\n",
              "  'test_its': 200,\n",
              "  'train_its': 15000,\n",
              "  'use_ce_loss': True,\n",
              "  'use_momentum': False},\n",
              " 'lr_0.05_ce_loss_momentum': {'alpha': 0.05,\n",
              "  'beta': 0.9,\n",
              "  'hidden_size': 256,\n",
              "  'stats': [{'accuracy': 0.17, 'correct': 34, 'total': 200},\n",
              "   {'accuracy': 0.79, 'correct': 158, 'total': 200},\n",
              "   {'accuracy': 0.795, 'correct': 159, 'total': 200},\n",
              "   {'accuracy': 0.81, 'correct': 162, 'total': 200},\n",
              "   {'accuracy': 0.805, 'correct': 161, 'total': 200},\n",
              "   {'accuracy': 0.765, 'correct': 153, 'total': 200},\n",
              "   {'accuracy': 0.905, 'correct': 181, 'total': 200},\n",
              "   {'accuracy': 0.845, 'correct': 169, 'total': 200},\n",
              "   {'accuracy': 0.855, 'correct': 171, 'total': 200},\n",
              "   {'accuracy': 0.86, 'correct': 172, 'total': 200},\n",
              "   {'accuracy': 0.84, 'correct': 168, 'total': 200},\n",
              "   {'accuracy': 0.86, 'correct': 172, 'total': 200},\n",
              "   {'accuracy': 0.845, 'correct': 169, 'total': 200},\n",
              "   {'accuracy': 0.82, 'correct': 164, 'total': 200},\n",
              "   {'accuracy': 0.895, 'correct': 179, 'total': 200},\n",
              "   {'accuracy': 0.885, 'correct': 177, 'total': 200},\n",
              "   {'accuracy': 0.88, 'correct': 176, 'total': 200},\n",
              "   {'accuracy': 0.875, 'correct': 175, 'total': 200},\n",
              "   {'accuracy': 0.855, 'correct': 171, 'total': 200},\n",
              "   {'accuracy': 0.845, 'correct': 169, 'total': 200},\n",
              "   {'accuracy': 0.915, 'correct': 183, 'total': 200},\n",
              "   {'accuracy': 0.89, 'correct': 178, 'total': 200},\n",
              "   {'accuracy': 0.94, 'correct': 188, 'total': 200},\n",
              "   {'accuracy': 0.87, 'correct': 174, 'total': 200},\n",
              "   {'accuracy': 0.915, 'correct': 183, 'total': 200},\n",
              "   {'accuracy': 0.86, 'correct': 172, 'total': 200},\n",
              "   {'accuracy': 0.94, 'correct': 188, 'total': 200},\n",
              "   {'accuracy': 0.9, 'correct': 180, 'total': 200},\n",
              "   {'accuracy': 0.9, 'correct': 180, 'total': 200},\n",
              "   {'accuracy': 0.085, 'correct': 17, 'total': 200}],\n",
              "  'test_interval': 500,\n",
              "  'test_its': 200,\n",
              "  'train_its': 15000,\n",
              "  'use_ce_loss': True,\n",
              "  'use_momentum': True},\n",
              " 'lr_0.05_momentum': {'alpha': 0.05,\n",
              "  'beta': 0.9,\n",
              "  'hidden_size': 256,\n",
              "  'stats': [{'accuracy': 0.1, 'correct': 20, 'total': 200},\n",
              "   {'accuracy': 0.465, 'correct': 93, 'total': 200},\n",
              "   {'accuracy': 0.61, 'correct': 122, 'total': 200},\n",
              "   {'accuracy': 0.69, 'correct': 138, 'total': 200},\n",
              "   {'accuracy': 0.66, 'correct': 132, 'total': 200},\n",
              "   {'accuracy': 0.745, 'correct': 149, 'total': 200},\n",
              "   {'accuracy': 0.73, 'correct': 146, 'total': 200},\n",
              "   {'accuracy': 0.78, 'correct': 156, 'total': 200},\n",
              "   {'accuracy': 0.74, 'correct': 148, 'total': 200},\n",
              "   {'accuracy': 0.76, 'correct': 152, 'total': 200},\n",
              "   {'accuracy': 0.755, 'correct': 151, 'total': 200},\n",
              "   {'accuracy': 0.785, 'correct': 157, 'total': 200},\n",
              "   {'accuracy': 0.78, 'correct': 156, 'total': 200},\n",
              "   {'accuracy': 0.77, 'correct': 154, 'total': 200},\n",
              "   {'accuracy': 0.795, 'correct': 159, 'total': 200},\n",
              "   {'accuracy': 0.755, 'correct': 151, 'total': 200},\n",
              "   {'accuracy': 0.785, 'correct': 157, 'total': 200},\n",
              "   {'accuracy': 0.795, 'correct': 159, 'total': 200},\n",
              "   {'accuracy': 0.78, 'correct': 156, 'total': 200},\n",
              "   {'accuracy': 0.77, 'correct': 154, 'total': 200},\n",
              "   {'accuracy': 0.775, 'correct': 155, 'total': 200},\n",
              "   {'accuracy': 0.785, 'correct': 157, 'total': 200},\n",
              "   {'accuracy': 0.795, 'correct': 159, 'total': 200},\n",
              "   {'accuracy': 0.77, 'correct': 154, 'total': 200},\n",
              "   {'accuracy': 0.77, 'correct': 154, 'total': 200},\n",
              "   {'accuracy': 0.75, 'correct': 150, 'total': 200},\n",
              "   {'accuracy': 0.79, 'correct': 158, 'total': 200},\n",
              "   {'accuracy': 0.81, 'correct': 162, 'total': 200},\n",
              "   {'accuracy': 0.78, 'correct': 156, 'total': 200},\n",
              "   {'accuracy': 0.79, 'correct': 158, 'total': 200}],\n",
              "  'test_interval': 500,\n",
              "  'test_its': 200,\n",
              "  'train_its': 15000,\n",
              "  'use_ce_loss': False,\n",
              "  'use_momentum': True}}"
            ]
          },
          "metadata": {
            "tags": []
          },
          "execution_count": 43
        }
      ]
    },
    {
      "cell_type": "code",
      "metadata": {
        "id": "wn_eFwIU7SpJ"
      },
      "source": [
        ""
      ],
      "execution_count": null,
      "outputs": []
    }
  ]
}